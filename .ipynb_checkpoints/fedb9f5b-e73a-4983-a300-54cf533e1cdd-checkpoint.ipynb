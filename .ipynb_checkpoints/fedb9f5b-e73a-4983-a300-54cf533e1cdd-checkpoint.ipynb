{
 "cells": [
  {
   "cell_type": "markdown",
   "metadata": {
    "toc": true
   },
   "source": [
    "<h1>Содержание<span class=\"tocSkip\"></span></h1>\n",
    "<div class=\"toc\"><ul class=\"toc-item\"><li><span><a href=\"#Подготовка-данных\" data-toc-modified-id=\"Подготовка-данных-1\"><span class=\"toc-item-num\">1&nbsp;&nbsp;</span>Подготовка данных</a></span><ul class=\"toc-item\"><li><span><a href=\"#Обзор-данных\" data-toc-modified-id=\"Обзор-данных-1.1\"><span class=\"toc-item-num\">1.1&nbsp;&nbsp;</span>Обзор данных</a></span></li><li><span><a href=\"#Преобразование-категориальных-признаков-в-численные---OHE\" data-toc-modified-id=\"Преобразование-категориальных-признаков-в-численные---OHE-1.2\"><span class=\"toc-item-num\">1.2&nbsp;&nbsp;</span>Преобразование категориальных признаков в численные - OHE</a></span></li><li><span><a href=\"#Разделение-данных-на-выборки\" data-toc-modified-id=\"Разделение-данных-на-выборки-1.3\"><span class=\"toc-item-num\">1.3&nbsp;&nbsp;</span>Разделение данных на выборки</a></span></li><li><span><a href=\"#Маштабирование-данных\" data-toc-modified-id=\"Маштабирование-данных-1.4\"><span class=\"toc-item-num\">1.4&nbsp;&nbsp;</span>Маштабирование данных</a></span></li></ul></li><li><span><a href=\"#Исследование-задачи\" data-toc-modified-id=\"Исследование-задачи-2\"><span class=\"toc-item-num\">2&nbsp;&nbsp;</span>Исследование задачи</a></span><ul class=\"toc-item\"><li><span><a href=\"#Исследование-баланса-классов\" data-toc-modified-id=\"Исследование-баланса-классов-2.1\"><span class=\"toc-item-num\">2.1&nbsp;&nbsp;</span>Исследование баланса классов</a></span></li><li><span><a href=\"#Изучение-работы-моделей-без-учёта-дисбаланса\" data-toc-modified-id=\"Изучение-работы-моделей-без-учёта-дисбаланса-2.2\"><span class=\"toc-item-num\">2.2&nbsp;&nbsp;</span>Изучение работы моделей без учёта дисбаланса</a></span></li><li><span><a href=\"#Вывод\" data-toc-modified-id=\"Вывод-2.3\"><span class=\"toc-item-num\">2.3&nbsp;&nbsp;</span>Вывод</a></span></li></ul></li><li><span><a href=\"#Борьба-с-дисбалансом\" data-toc-modified-id=\"Борьба-с-дисбалансом-3\"><span class=\"toc-item-num\">3&nbsp;&nbsp;</span>Борьба с дисбалансом</a></span><ul class=\"toc-item\"><li><span><a href=\"#Проверяем-работу-моделй-с-аргументом-class_weight='balanced'\" data-toc-modified-id=\"Проверяем-работу-моделй-с-аргументом-class_weight='balanced'-3.1\"><span class=\"toc-item-num\">3.1&nbsp;&nbsp;</span>Проверяем работу моделй с аргументом class_weight='balanced'</a></span><ul class=\"toc-item\"><li><span><a href=\"#DecisionTreeClassifier\" data-toc-modified-id=\"DecisionTreeClassifier-3.1.1\"><span class=\"toc-item-num\">3.1.1&nbsp;&nbsp;</span>DecisionTreeClassifier</a></span></li><li><span><a href=\"#RandomForest\" data-toc-modified-id=\"RandomForest-3.1.2\"><span class=\"toc-item-num\">3.1.2&nbsp;&nbsp;</span>RandomForest</a></span></li><li><span><a href=\"#LogisticRegression\" data-toc-modified-id=\"LogisticRegression-3.1.3\"><span class=\"toc-item-num\">3.1.3&nbsp;&nbsp;</span>LogisticRegression</a></span></li></ul></li><li><span><a href=\"#Увеличиваем-выборки\" data-toc-modified-id=\"Увеличиваем-выборки-3.2\"><span class=\"toc-item-num\">3.2&nbsp;&nbsp;</span>Увеличиваем выборки</a></span><ul class=\"toc-item\"><li><span><a href=\"#DecisionTreeClassifier\" data-toc-modified-id=\"DecisionTreeClassifier-3.2.1\"><span class=\"toc-item-num\">3.2.1&nbsp;&nbsp;</span>DecisionTreeClassifier</a></span></li><li><span><a href=\"#RandomForest\" data-toc-modified-id=\"RandomForest-3.2.2\"><span class=\"toc-item-num\">3.2.2&nbsp;&nbsp;</span>RandomForest</a></span></li><li><span><a href=\"#LogisticRegression\" data-toc-modified-id=\"LogisticRegression-3.2.3\"><span class=\"toc-item-num\">3.2.3&nbsp;&nbsp;</span>LogisticRegression</a></span></li></ul></li><li><span><a href=\"#Уменьшаем-выборки\" data-toc-modified-id=\"Уменьшаем-выборки-3.3\"><span class=\"toc-item-num\">3.3&nbsp;&nbsp;</span>Уменьшаем выборки</a></span><ul class=\"toc-item\"><li><span><a href=\"#DecisionTreeClassifier\" data-toc-modified-id=\"DecisionTreeClassifier-3.3.1\"><span class=\"toc-item-num\">3.3.1&nbsp;&nbsp;</span>DecisionTreeClassifier</a></span></li><li><span><a href=\"#RandomForest\" data-toc-modified-id=\"RandomForest-3.3.2\"><span class=\"toc-item-num\">3.3.2&nbsp;&nbsp;</span>RandomForest</a></span></li><li><span><a href=\"#LogisticRegression\" data-toc-modified-id=\"LogisticRegression-3.3.3\"><span class=\"toc-item-num\">3.3.3&nbsp;&nbsp;</span>LogisticRegression</a></span></li></ul></li><li><span><a href=\"#Вывод\" data-toc-modified-id=\"Вывод-3.4\"><span class=\"toc-item-num\">3.4&nbsp;&nbsp;</span>Вывод</a></span></li></ul></li><li><span><a href=\"#Тестирование-модели\" data-toc-modified-id=\"Тестирование-модели-4\"><span class=\"toc-item-num\">4&nbsp;&nbsp;</span>Тестирование модели</a></span></li><li><span><a href=\"#Вывод\" data-toc-modified-id=\"Вывод-5\"><span class=\"toc-item-num\">5&nbsp;&nbsp;</span>Вывод</a></span></li><li><span><a href=\"#Чек-лист-готовности-проекта\" data-toc-modified-id=\"Чек-лист-готовности-проекта-6\"><span class=\"toc-item-num\">6&nbsp;&nbsp;</span>Чек-лист готовности проекта</a></span></li><li><span><a href=\"#Общий-вывод-по-проекту\" data-toc-modified-id=\"Общий-вывод-по-проекту-7\"><span class=\"toc-item-num\">7&nbsp;&nbsp;</span><b>Общий вывод по проекту</b></a></span></li><li><span><a href=\"#Общий-вывод-по-проекту-В2\" data-toc-modified-id=\"Общий-вывод-по-проекту-В2-8\"><span class=\"toc-item-num\">8&nbsp;&nbsp;</span><b>Общий вывод по проекту В2</b></a></span></li><li><span><a href=\"#Общий-вывод-по-проекту-В3\" data-toc-modified-id=\"Общий-вывод-по-проекту-В3-9\"><span class=\"toc-item-num\">9&nbsp;&nbsp;</span><b>Общий вывод по проекту В3</b></a></span></li></ul></div>"
   ]
  },
  {
   "cell_type": "markdown",
   "metadata": {},
   "source": [
    "# Отток клиентов"
   ]
  },
  {
   "cell_type": "markdown",
   "metadata": {},
   "source": [
    "Из «Бета-Банка» стали уходить клиенты. Каждый месяц. Немного, но заметно. Банковские маркетологи посчитали: сохранять текущих клиентов дешевле, чем привлекать новых.\n",
    "\n",
    "Нужно спрогнозировать, уйдёт клиент из банка в ближайшее время или нет. Вам предоставлены исторические данные о поведении клиентов и расторжении договоров с банком. \n",
    "\n",
    "Постройте модель с предельно большим значением *F1*-меры. Чтобы сдать проект успешно, нужно довести метрику до 0.59. Проверьте *F1*-меру на тестовой выборке самостоятельно.\n",
    "\n",
    "Дополнительно измеряйте *AUC-ROC*, сравнивайте её значение с *F1*-мерой.\n",
    "\n",
    "Источник данных: [https://www.kaggle.com/barelydedicated/bank-customer-churn-modeling](https://www.kaggle.com/barelydedicated/bank-customer-churn-modeling)"
   ]
  },
  {
   "cell_type": "markdown",
   "metadata": {},
   "source": [
    "## Подготовка данных"
   ]
  },
  {
   "cell_type": "code",
   "execution_count": 1,
   "metadata": {},
   "outputs": [],
   "source": [
    "import pandas as pd\n",
    "import numpy as np \n",
    "from sklearn.model_selection import train_test_split\n",
    "from sklearn.tree import DecisionTreeClassifier\n",
    "from sklearn.metrics import accuracy_score\n",
    "from sklearn.ensemble import RandomForestClassifier\n",
    "from sklearn.linear_model import LogisticRegression\n",
    "import seaborn as sns \n",
    "import matplotlib.pyplot as plt\n",
    "from sklearn.preprocessing import OrdinalEncoder\n",
    "from sklearn.preprocessing import StandardScaler\n",
    "from sklearn.metrics import recall_score \n",
    "from sklearn.metrics import precision_score\n",
    "from sklearn.metrics import f1_score\n",
    "from sklearn.utils import shuffle\n",
    "from sklearn.metrics import roc_curve\n",
    "from sklearn.metrics import roc_auc_score\n",
    "from sklearn.preprocessing import OneHotEncoder"
   ]
  },
  {
   "cell_type": "code",
   "execution_count": 2,
   "metadata": {},
   "outputs": [],
   "source": [
    "pd.set_option('display.float_format', '{:.2f}'.format)"
   ]
  },
  {
   "cell_type": "markdown",
   "metadata": {},
   "source": [
    "### Обзор данных"
   ]
  },
  {
   "cell_type": "code",
   "execution_count": 3,
   "metadata": {},
   "outputs": [
    {
     "name": "stdout",
     "output_type": "stream",
     "text": [
      "<class 'pandas.core.frame.DataFrame'>\n",
      "RangeIndex: 10000 entries, 0 to 9999\n",
      "Data columns (total 14 columns):\n",
      " #   Column           Non-Null Count  Dtype  \n",
      "---  ------           --------------  -----  \n",
      " 0   RowNumber        10000 non-null  int64  \n",
      " 1   CustomerId       10000 non-null  int64  \n",
      " 2   Surname          10000 non-null  object \n",
      " 3   CreditScore      10000 non-null  int64  \n",
      " 4   Geography        10000 non-null  object \n",
      " 5   Gender           10000 non-null  object \n",
      " 6   Age              10000 non-null  int64  \n",
      " 7   Tenure           9091 non-null   float64\n",
      " 8   Balance          10000 non-null  float64\n",
      " 9   NumOfProducts    10000 non-null  int64  \n",
      " 10  HasCrCard        10000 non-null  int64  \n",
      " 11  IsActiveMember   10000 non-null  int64  \n",
      " 12  EstimatedSalary  10000 non-null  float64\n",
      " 13  Exited           10000 non-null  int64  \n",
      "dtypes: float64(3), int64(8), object(3)\n",
      "memory usage: 1.1+ MB\n"
     ]
    }
   ],
   "source": [
    "df = pd.read_csv('/datasets/Churn.csv')\n",
    "df.info()"
   ]
  },
  {
   "cell_type": "code",
   "execution_count": 4,
   "metadata": {},
   "outputs": [
    {
     "data": {
      "text/html": [
       "<div>\n",
       "<style scoped>\n",
       "    .dataframe tbody tr th:only-of-type {\n",
       "        vertical-align: middle;\n",
       "    }\n",
       "\n",
       "    .dataframe tbody tr th {\n",
       "        vertical-align: top;\n",
       "    }\n",
       "\n",
       "    .dataframe thead th {\n",
       "        text-align: right;\n",
       "    }\n",
       "</style>\n",
       "<table border=\"1\" class=\"dataframe\">\n",
       "  <thead>\n",
       "    <tr style=\"text-align: right;\">\n",
       "      <th></th>\n",
       "      <th>RowNumber</th>\n",
       "      <th>CustomerId</th>\n",
       "      <th>Surname</th>\n",
       "      <th>CreditScore</th>\n",
       "      <th>Geography</th>\n",
       "      <th>Gender</th>\n",
       "      <th>Age</th>\n",
       "      <th>Tenure</th>\n",
       "      <th>Balance</th>\n",
       "      <th>NumOfProducts</th>\n",
       "      <th>HasCrCard</th>\n",
       "      <th>IsActiveMember</th>\n",
       "      <th>EstimatedSalary</th>\n",
       "      <th>Exited</th>\n",
       "    </tr>\n",
       "  </thead>\n",
       "  <tbody>\n",
       "    <tr>\n",
       "      <th>0</th>\n",
       "      <td>1</td>\n",
       "      <td>15634602</td>\n",
       "      <td>Hargrave</td>\n",
       "      <td>619</td>\n",
       "      <td>France</td>\n",
       "      <td>Female</td>\n",
       "      <td>42</td>\n",
       "      <td>2.00</td>\n",
       "      <td>0.00</td>\n",
       "      <td>1</td>\n",
       "      <td>1</td>\n",
       "      <td>1</td>\n",
       "      <td>101348.88</td>\n",
       "      <td>1</td>\n",
       "    </tr>\n",
       "    <tr>\n",
       "      <th>1</th>\n",
       "      <td>2</td>\n",
       "      <td>15647311</td>\n",
       "      <td>Hill</td>\n",
       "      <td>608</td>\n",
       "      <td>Spain</td>\n",
       "      <td>Female</td>\n",
       "      <td>41</td>\n",
       "      <td>1.00</td>\n",
       "      <td>83807.86</td>\n",
       "      <td>1</td>\n",
       "      <td>0</td>\n",
       "      <td>1</td>\n",
       "      <td>112542.58</td>\n",
       "      <td>0</td>\n",
       "    </tr>\n",
       "    <tr>\n",
       "      <th>2</th>\n",
       "      <td>3</td>\n",
       "      <td>15619304</td>\n",
       "      <td>Onio</td>\n",
       "      <td>502</td>\n",
       "      <td>France</td>\n",
       "      <td>Female</td>\n",
       "      <td>42</td>\n",
       "      <td>8.00</td>\n",
       "      <td>159660.80</td>\n",
       "      <td>3</td>\n",
       "      <td>1</td>\n",
       "      <td>0</td>\n",
       "      <td>113931.57</td>\n",
       "      <td>1</td>\n",
       "    </tr>\n",
       "    <tr>\n",
       "      <th>3</th>\n",
       "      <td>4</td>\n",
       "      <td>15701354</td>\n",
       "      <td>Boni</td>\n",
       "      <td>699</td>\n",
       "      <td>France</td>\n",
       "      <td>Female</td>\n",
       "      <td>39</td>\n",
       "      <td>1.00</td>\n",
       "      <td>0.00</td>\n",
       "      <td>2</td>\n",
       "      <td>0</td>\n",
       "      <td>0</td>\n",
       "      <td>93826.63</td>\n",
       "      <td>0</td>\n",
       "    </tr>\n",
       "    <tr>\n",
       "      <th>4</th>\n",
       "      <td>5</td>\n",
       "      <td>15737888</td>\n",
       "      <td>Mitchell</td>\n",
       "      <td>850</td>\n",
       "      <td>Spain</td>\n",
       "      <td>Female</td>\n",
       "      <td>43</td>\n",
       "      <td>2.00</td>\n",
       "      <td>125510.82</td>\n",
       "      <td>1</td>\n",
       "      <td>1</td>\n",
       "      <td>1</td>\n",
       "      <td>79084.10</td>\n",
       "      <td>0</td>\n",
       "    </tr>\n",
       "  </tbody>\n",
       "</table>\n",
       "</div>"
      ],
      "text/plain": [
       "   RowNumber  CustomerId   Surname  CreditScore Geography  Gender  Age  \\\n",
       "0          1    15634602  Hargrave          619    France  Female   42   \n",
       "1          2    15647311      Hill          608     Spain  Female   41   \n",
       "2          3    15619304      Onio          502    France  Female   42   \n",
       "3          4    15701354      Boni          699    France  Female   39   \n",
       "4          5    15737888  Mitchell          850     Spain  Female   43   \n",
       "\n",
       "   Tenure   Balance  NumOfProducts  HasCrCard  IsActiveMember  \\\n",
       "0    2.00      0.00              1          1               1   \n",
       "1    1.00  83807.86              1          0               1   \n",
       "2    8.00 159660.80              3          1               0   \n",
       "3    1.00      0.00              2          0               0   \n",
       "4    2.00 125510.82              1          1               1   \n",
       "\n",
       "   EstimatedSalary  Exited  \n",
       "0        101348.88       1  \n",
       "1        112542.58       0  \n",
       "2        113931.57       1  \n",
       "3         93826.63       0  \n",
       "4         79084.10       0  "
      ]
     },
     "execution_count": 4,
     "metadata": {},
     "output_type": "execute_result"
    }
   ],
   "source": [
    "df.head()"
   ]
  },
  {
   "cell_type": "code",
   "execution_count": 5,
   "metadata": {
    "scrolled": true
   },
   "outputs": [
    {
     "data": {
      "text/html": [
       "<div>\n",
       "<style scoped>\n",
       "    .dataframe tbody tr th:only-of-type {\n",
       "        vertical-align: middle;\n",
       "    }\n",
       "\n",
       "    .dataframe tbody tr th {\n",
       "        vertical-align: top;\n",
       "    }\n",
       "\n",
       "    .dataframe thead th {\n",
       "        text-align: right;\n",
       "    }\n",
       "</style>\n",
       "<table border=\"1\" class=\"dataframe\">\n",
       "  <thead>\n",
       "    <tr style=\"text-align: right;\">\n",
       "      <th></th>\n",
       "      <th>RowNumber</th>\n",
       "      <th>CustomerId</th>\n",
       "      <th>Surname</th>\n",
       "      <th>CreditScore</th>\n",
       "      <th>Geography</th>\n",
       "      <th>Gender</th>\n",
       "      <th>Age</th>\n",
       "      <th>Tenure</th>\n",
       "      <th>Balance</th>\n",
       "      <th>NumOfProducts</th>\n",
       "      <th>HasCrCard</th>\n",
       "      <th>IsActiveMember</th>\n",
       "      <th>EstimatedSalary</th>\n",
       "      <th>Exited</th>\n",
       "    </tr>\n",
       "  </thead>\n",
       "  <tbody>\n",
       "    <tr>\n",
       "      <th>30</th>\n",
       "      <td>31</td>\n",
       "      <td>15589475</td>\n",
       "      <td>Azikiwe</td>\n",
       "      <td>591</td>\n",
       "      <td>Spain</td>\n",
       "      <td>Female</td>\n",
       "      <td>39</td>\n",
       "      <td>NaN</td>\n",
       "      <td>0.00</td>\n",
       "      <td>3</td>\n",
       "      <td>1</td>\n",
       "      <td>0</td>\n",
       "      <td>140469.38</td>\n",
       "      <td>1</td>\n",
       "    </tr>\n",
       "    <tr>\n",
       "      <th>48</th>\n",
       "      <td>49</td>\n",
       "      <td>15766205</td>\n",
       "      <td>Yin</td>\n",
       "      <td>550</td>\n",
       "      <td>Germany</td>\n",
       "      <td>Male</td>\n",
       "      <td>38</td>\n",
       "      <td>NaN</td>\n",
       "      <td>103391.38</td>\n",
       "      <td>1</td>\n",
       "      <td>0</td>\n",
       "      <td>1</td>\n",
       "      <td>90878.13</td>\n",
       "      <td>0</td>\n",
       "    </tr>\n",
       "    <tr>\n",
       "      <th>51</th>\n",
       "      <td>52</td>\n",
       "      <td>15768193</td>\n",
       "      <td>Trevisani</td>\n",
       "      <td>585</td>\n",
       "      <td>Germany</td>\n",
       "      <td>Male</td>\n",
       "      <td>36</td>\n",
       "      <td>NaN</td>\n",
       "      <td>146050.97</td>\n",
       "      <td>2</td>\n",
       "      <td>0</td>\n",
       "      <td>0</td>\n",
       "      <td>86424.57</td>\n",
       "      <td>0</td>\n",
       "    </tr>\n",
       "    <tr>\n",
       "      <th>53</th>\n",
       "      <td>54</td>\n",
       "      <td>15702298</td>\n",
       "      <td>Parkhill</td>\n",
       "      <td>655</td>\n",
       "      <td>Germany</td>\n",
       "      <td>Male</td>\n",
       "      <td>41</td>\n",
       "      <td>NaN</td>\n",
       "      <td>125561.97</td>\n",
       "      <td>1</td>\n",
       "      <td>0</td>\n",
       "      <td>0</td>\n",
       "      <td>164040.94</td>\n",
       "      <td>1</td>\n",
       "    </tr>\n",
       "    <tr>\n",
       "      <th>60</th>\n",
       "      <td>61</td>\n",
       "      <td>15651280</td>\n",
       "      <td>Hunter</td>\n",
       "      <td>742</td>\n",
       "      <td>Germany</td>\n",
       "      <td>Male</td>\n",
       "      <td>35</td>\n",
       "      <td>NaN</td>\n",
       "      <td>136857.00</td>\n",
       "      <td>1</td>\n",
       "      <td>0</td>\n",
       "      <td>0</td>\n",
       "      <td>84509.57</td>\n",
       "      <td>0</td>\n",
       "    </tr>\n",
       "    <tr>\n",
       "      <th>82</th>\n",
       "      <td>83</td>\n",
       "      <td>15641732</td>\n",
       "      <td>Mills</td>\n",
       "      <td>543</td>\n",
       "      <td>France</td>\n",
       "      <td>Female</td>\n",
       "      <td>36</td>\n",
       "      <td>NaN</td>\n",
       "      <td>0.00</td>\n",
       "      <td>2</td>\n",
       "      <td>0</td>\n",
       "      <td>0</td>\n",
       "      <td>26019.59</td>\n",
       "      <td>0</td>\n",
       "    </tr>\n",
       "    <tr>\n",
       "      <th>85</th>\n",
       "      <td>86</td>\n",
       "      <td>15805254</td>\n",
       "      <td>Ndukaku</td>\n",
       "      <td>652</td>\n",
       "      <td>Spain</td>\n",
       "      <td>Female</td>\n",
       "      <td>75</td>\n",
       "      <td>NaN</td>\n",
       "      <td>0.00</td>\n",
       "      <td>2</td>\n",
       "      <td>1</td>\n",
       "      <td>1</td>\n",
       "      <td>114675.75</td>\n",
       "      <td>0</td>\n",
       "    </tr>\n",
       "    <tr>\n",
       "      <th>94</th>\n",
       "      <td>95</td>\n",
       "      <td>15676966</td>\n",
       "      <td>Capon</td>\n",
       "      <td>730</td>\n",
       "      <td>Spain</td>\n",
       "      <td>Male</td>\n",
       "      <td>42</td>\n",
       "      <td>NaN</td>\n",
       "      <td>0.00</td>\n",
       "      <td>2</td>\n",
       "      <td>0</td>\n",
       "      <td>1</td>\n",
       "      <td>85982.47</td>\n",
       "      <td>0</td>\n",
       "    </tr>\n",
       "    <tr>\n",
       "      <th>99</th>\n",
       "      <td>100</td>\n",
       "      <td>15633059</td>\n",
       "      <td>Fanucci</td>\n",
       "      <td>413</td>\n",
       "      <td>France</td>\n",
       "      <td>Male</td>\n",
       "      <td>34</td>\n",
       "      <td>NaN</td>\n",
       "      <td>0.00</td>\n",
       "      <td>2</td>\n",
       "      <td>0</td>\n",
       "      <td>0</td>\n",
       "      <td>6534.18</td>\n",
       "      <td>0</td>\n",
       "    </tr>\n",
       "    <tr>\n",
       "      <th>111</th>\n",
       "      <td>112</td>\n",
       "      <td>15665790</td>\n",
       "      <td>Rowntree</td>\n",
       "      <td>538</td>\n",
       "      <td>Germany</td>\n",
       "      <td>Male</td>\n",
       "      <td>39</td>\n",
       "      <td>NaN</td>\n",
       "      <td>108055.10</td>\n",
       "      <td>2</td>\n",
       "      <td>1</td>\n",
       "      <td>0</td>\n",
       "      <td>27231.26</td>\n",
       "      <td>0</td>\n",
       "    </tr>\n",
       "    <tr>\n",
       "      <th>123</th>\n",
       "      <td>124</td>\n",
       "      <td>15760085</td>\n",
       "      <td>Calabresi</td>\n",
       "      <td>684</td>\n",
       "      <td>Germany</td>\n",
       "      <td>Female</td>\n",
       "      <td>48</td>\n",
       "      <td>NaN</td>\n",
       "      <td>126384.42</td>\n",
       "      <td>1</td>\n",
       "      <td>1</td>\n",
       "      <td>1</td>\n",
       "      <td>198129.36</td>\n",
       "      <td>0</td>\n",
       "    </tr>\n",
       "    <tr>\n",
       "      <th>125</th>\n",
       "      <td>126</td>\n",
       "      <td>15627360</td>\n",
       "      <td>Fuller</td>\n",
       "      <td>432</td>\n",
       "      <td>France</td>\n",
       "      <td>Male</td>\n",
       "      <td>42</td>\n",
       "      <td>NaN</td>\n",
       "      <td>152603.45</td>\n",
       "      <td>1</td>\n",
       "      <td>1</td>\n",
       "      <td>0</td>\n",
       "      <td>110265.24</td>\n",
       "      <td>1</td>\n",
       "    </tr>\n",
       "    <tr>\n",
       "      <th>146</th>\n",
       "      <td>147</td>\n",
       "      <td>15705707</td>\n",
       "      <td>Bennelong</td>\n",
       "      <td>635</td>\n",
       "      <td>Spain</td>\n",
       "      <td>Female</td>\n",
       "      <td>29</td>\n",
       "      <td>NaN</td>\n",
       "      <td>138296.94</td>\n",
       "      <td>2</td>\n",
       "      <td>1</td>\n",
       "      <td>0</td>\n",
       "      <td>141075.51</td>\n",
       "      <td>0</td>\n",
       "    </tr>\n",
       "    <tr>\n",
       "      <th>162</th>\n",
       "      <td>163</td>\n",
       "      <td>15630910</td>\n",
       "      <td>Treacy</td>\n",
       "      <td>800</td>\n",
       "      <td>France</td>\n",
       "      <td>Female</td>\n",
       "      <td>49</td>\n",
       "      <td>NaN</td>\n",
       "      <td>108007.36</td>\n",
       "      <td>1</td>\n",
       "      <td>0</td>\n",
       "      <td>0</td>\n",
       "      <td>47125.11</td>\n",
       "      <td>0</td>\n",
       "    </tr>\n",
       "    <tr>\n",
       "      <th>173</th>\n",
       "      <td>174</td>\n",
       "      <td>15586310</td>\n",
       "      <td>Ting</td>\n",
       "      <td>578</td>\n",
       "      <td>France</td>\n",
       "      <td>Male</td>\n",
       "      <td>30</td>\n",
       "      <td>NaN</td>\n",
       "      <td>169462.09</td>\n",
       "      <td>1</td>\n",
       "      <td>1</td>\n",
       "      <td>0</td>\n",
       "      <td>112187.11</td>\n",
       "      <td>0</td>\n",
       "    </tr>\n",
       "    <tr>\n",
       "      <th>180</th>\n",
       "      <td>181</td>\n",
       "      <td>15716334</td>\n",
       "      <td>Rozier</td>\n",
       "      <td>850</td>\n",
       "      <td>Spain</td>\n",
       "      <td>Female</td>\n",
       "      <td>45</td>\n",
       "      <td>NaN</td>\n",
       "      <td>122311.21</td>\n",
       "      <td>1</td>\n",
       "      <td>1</td>\n",
       "      <td>1</td>\n",
       "      <td>19482.50</td>\n",
       "      <td>0</td>\n",
       "    </tr>\n",
       "    <tr>\n",
       "      <th>217</th>\n",
       "      <td>218</td>\n",
       "      <td>15786308</td>\n",
       "      <td>Millar</td>\n",
       "      <td>730</td>\n",
       "      <td>Spain</td>\n",
       "      <td>Female</td>\n",
       "      <td>33</td>\n",
       "      <td>NaN</td>\n",
       "      <td>0.00</td>\n",
       "      <td>2</td>\n",
       "      <td>0</td>\n",
       "      <td>0</td>\n",
       "      <td>176576.62</td>\n",
       "      <td>0</td>\n",
       "    </tr>\n",
       "    <tr>\n",
       "      <th>222</th>\n",
       "      <td>223</td>\n",
       "      <td>15727829</td>\n",
       "      <td>McIntyre</td>\n",
       "      <td>567</td>\n",
       "      <td>France</td>\n",
       "      <td>Male</td>\n",
       "      <td>42</td>\n",
       "      <td>NaN</td>\n",
       "      <td>0.00</td>\n",
       "      <td>2</td>\n",
       "      <td>1</td>\n",
       "      <td>1</td>\n",
       "      <td>167984.61</td>\n",
       "      <td>0</td>\n",
       "    </tr>\n",
       "    <tr>\n",
       "      <th>225</th>\n",
       "      <td>226</td>\n",
       "      <td>15699029</td>\n",
       "      <td>Bagley</td>\n",
       "      <td>670</td>\n",
       "      <td>France</td>\n",
       "      <td>Male</td>\n",
       "      <td>37</td>\n",
       "      <td>NaN</td>\n",
       "      <td>170557.91</td>\n",
       "      <td>2</td>\n",
       "      <td>1</td>\n",
       "      <td>0</td>\n",
       "      <td>198252.88</td>\n",
       "      <td>0</td>\n",
       "    </tr>\n",
       "    <tr>\n",
       "      <th>237</th>\n",
       "      <td>238</td>\n",
       "      <td>15764866</td>\n",
       "      <td>Synnot</td>\n",
       "      <td>539</td>\n",
       "      <td>Germany</td>\n",
       "      <td>Female</td>\n",
       "      <td>43</td>\n",
       "      <td>NaN</td>\n",
       "      <td>116220.50</td>\n",
       "      <td>3</td>\n",
       "      <td>1</td>\n",
       "      <td>0</td>\n",
       "      <td>55803.96</td>\n",
       "      <td>1</td>\n",
       "    </tr>\n",
       "  </tbody>\n",
       "</table>\n",
       "</div>"
      ],
      "text/plain": [
       "     RowNumber  CustomerId    Surname  CreditScore Geography  Gender  Age  \\\n",
       "30          31    15589475    Azikiwe          591     Spain  Female   39   \n",
       "48          49    15766205        Yin          550   Germany    Male   38   \n",
       "51          52    15768193  Trevisani          585   Germany    Male   36   \n",
       "53          54    15702298   Parkhill          655   Germany    Male   41   \n",
       "60          61    15651280     Hunter          742   Germany    Male   35   \n",
       "82          83    15641732      Mills          543    France  Female   36   \n",
       "85          86    15805254    Ndukaku          652     Spain  Female   75   \n",
       "94          95    15676966      Capon          730     Spain    Male   42   \n",
       "99         100    15633059    Fanucci          413    France    Male   34   \n",
       "111        112    15665790   Rowntree          538   Germany    Male   39   \n",
       "123        124    15760085  Calabresi          684   Germany  Female   48   \n",
       "125        126    15627360     Fuller          432    France    Male   42   \n",
       "146        147    15705707  Bennelong          635     Spain  Female   29   \n",
       "162        163    15630910     Treacy          800    France  Female   49   \n",
       "173        174    15586310       Ting          578    France    Male   30   \n",
       "180        181    15716334     Rozier          850     Spain  Female   45   \n",
       "217        218    15786308     Millar          730     Spain  Female   33   \n",
       "222        223    15727829   McIntyre          567    France    Male   42   \n",
       "225        226    15699029     Bagley          670    France    Male   37   \n",
       "237        238    15764866     Synnot          539   Germany  Female   43   \n",
       "\n",
       "     Tenure   Balance  NumOfProducts  HasCrCard  IsActiveMember  \\\n",
       "30      NaN      0.00              3          1               0   \n",
       "48      NaN 103391.38              1          0               1   \n",
       "51      NaN 146050.97              2          0               0   \n",
       "53      NaN 125561.97              1          0               0   \n",
       "60      NaN 136857.00              1          0               0   \n",
       "82      NaN      0.00              2          0               0   \n",
       "85      NaN      0.00              2          1               1   \n",
       "94      NaN      0.00              2          0               1   \n",
       "99      NaN      0.00              2          0               0   \n",
       "111     NaN 108055.10              2          1               0   \n",
       "123     NaN 126384.42              1          1               1   \n",
       "125     NaN 152603.45              1          1               0   \n",
       "146     NaN 138296.94              2          1               0   \n",
       "162     NaN 108007.36              1          0               0   \n",
       "173     NaN 169462.09              1          1               0   \n",
       "180     NaN 122311.21              1          1               1   \n",
       "217     NaN      0.00              2          0               0   \n",
       "222     NaN      0.00              2          1               1   \n",
       "225     NaN 170557.91              2          1               0   \n",
       "237     NaN 116220.50              3          1               0   \n",
       "\n",
       "     EstimatedSalary  Exited  \n",
       "30         140469.38       1  \n",
       "48          90878.13       0  \n",
       "51          86424.57       0  \n",
       "53         164040.94       1  \n",
       "60          84509.57       0  \n",
       "82          26019.59       0  \n",
       "85         114675.75       0  \n",
       "94          85982.47       0  \n",
       "99           6534.18       0  \n",
       "111         27231.26       0  \n",
       "123        198129.36       0  \n",
       "125        110265.24       1  \n",
       "146        141075.51       0  \n",
       "162         47125.11       0  \n",
       "173        112187.11       0  \n",
       "180         19482.50       0  \n",
       "217        176576.62       0  \n",
       "222        167984.61       0  \n",
       "225        198252.88       0  \n",
       "237         55803.96       1  "
      ]
     },
     "execution_count": 5,
     "metadata": {},
     "output_type": "execute_result"
    }
   ],
   "source": [
    "df[df['Tenure'].isna()].head(20)"
   ]
  },
  {
   "cell_type": "markdown",
   "metadata": {},
   "source": [
    "* В таблице 14 столбцов и 10000 строк.\n",
    "* В столбце Tenure примерно 9% значений пропущено.\n",
    "* Типы данных: float64(14), int64(3), object(3)\n",
    "* Явных дубликатов нет"
   ]
  },
  {
   "cell_type": "code",
   "execution_count": 6,
   "metadata": {
    "scrolled": true
   },
   "outputs": [
    {
     "name": "stdout",
     "output_type": "stream",
     "text": [
      "<class 'pandas.core.frame.DataFrame'>\n",
      "RangeIndex: 10000 entries, 0 to 9999\n",
      "Data columns (total 14 columns):\n",
      " #   Column           Non-Null Count  Dtype  \n",
      "---  ------           --------------  -----  \n",
      " 0   RowNumber        10000 non-null  int64  \n",
      " 1   CustomerId       10000 non-null  int64  \n",
      " 2   Surname          10000 non-null  object \n",
      " 3   CreditScore      10000 non-null  int64  \n",
      " 4   Geography        10000 non-null  object \n",
      " 5   Gender           10000 non-null  object \n",
      " 6   Age              10000 non-null  int64  \n",
      " 7   Tenure           10000 non-null  float64\n",
      " 8   Balance          10000 non-null  float64\n",
      " 9   NumOfProducts    10000 non-null  int64  \n",
      " 10  HasCrCard        10000 non-null  int64  \n",
      " 11  IsActiveMember   10000 non-null  int64  \n",
      " 12  EstimatedSalary  10000 non-null  float64\n",
      " 13  Exited           10000 non-null  int64  \n",
      "dtypes: float64(3), int64(8), object(3)\n",
      "memory usage: 1.1+ MB\n"
     ]
    }
   ],
   "source": [
    "med = df['Tenure'].median()\n",
    "df = df.fillna(med)\n",
    "df.info()"
   ]
  },
  {
   "cell_type": "code",
   "execution_count": 7,
   "metadata": {},
   "outputs": [],
   "source": [
    "df_ohe = df.drop(['RowNumber', 'CustomerId', 'Surname'], axis=1)"
   ]
  },
  {
   "cell_type": "code",
   "execution_count": 8,
   "metadata": {
    "scrolled": true
   },
   "outputs": [
    {
     "data": {
      "text/html": [
       "<div>\n",
       "<style scoped>\n",
       "    .dataframe tbody tr th:only-of-type {\n",
       "        vertical-align: middle;\n",
       "    }\n",
       "\n",
       "    .dataframe tbody tr th {\n",
       "        vertical-align: top;\n",
       "    }\n",
       "\n",
       "    .dataframe thead th {\n",
       "        text-align: right;\n",
       "    }\n",
       "</style>\n",
       "<table border=\"1\" class=\"dataframe\">\n",
       "  <thead>\n",
       "    <tr style=\"text-align: right;\">\n",
       "      <th></th>\n",
       "      <th>CreditScore</th>\n",
       "      <th>Geography</th>\n",
       "      <th>Gender</th>\n",
       "      <th>Age</th>\n",
       "      <th>Tenure</th>\n",
       "      <th>Balance</th>\n",
       "      <th>NumOfProducts</th>\n",
       "      <th>HasCrCard</th>\n",
       "      <th>IsActiveMember</th>\n",
       "      <th>EstimatedSalary</th>\n",
       "      <th>Exited</th>\n",
       "    </tr>\n",
       "  </thead>\n",
       "  <tbody>\n",
       "    <tr>\n",
       "      <th>0</th>\n",
       "      <td>619</td>\n",
       "      <td>France</td>\n",
       "      <td>Female</td>\n",
       "      <td>42</td>\n",
       "      <td>2.00</td>\n",
       "      <td>0.00</td>\n",
       "      <td>1</td>\n",
       "      <td>1</td>\n",
       "      <td>1</td>\n",
       "      <td>101348.88</td>\n",
       "      <td>1</td>\n",
       "    </tr>\n",
       "    <tr>\n",
       "      <th>1</th>\n",
       "      <td>608</td>\n",
       "      <td>Spain</td>\n",
       "      <td>Female</td>\n",
       "      <td>41</td>\n",
       "      <td>1.00</td>\n",
       "      <td>83807.86</td>\n",
       "      <td>1</td>\n",
       "      <td>0</td>\n",
       "      <td>1</td>\n",
       "      <td>112542.58</td>\n",
       "      <td>0</td>\n",
       "    </tr>\n",
       "    <tr>\n",
       "      <th>2</th>\n",
       "      <td>502</td>\n",
       "      <td>France</td>\n",
       "      <td>Female</td>\n",
       "      <td>42</td>\n",
       "      <td>8.00</td>\n",
       "      <td>159660.80</td>\n",
       "      <td>3</td>\n",
       "      <td>1</td>\n",
       "      <td>0</td>\n",
       "      <td>113931.57</td>\n",
       "      <td>1</td>\n",
       "    </tr>\n",
       "    <tr>\n",
       "      <th>3</th>\n",
       "      <td>699</td>\n",
       "      <td>France</td>\n",
       "      <td>Female</td>\n",
       "      <td>39</td>\n",
       "      <td>1.00</td>\n",
       "      <td>0.00</td>\n",
       "      <td>2</td>\n",
       "      <td>0</td>\n",
       "      <td>0</td>\n",
       "      <td>93826.63</td>\n",
       "      <td>0</td>\n",
       "    </tr>\n",
       "    <tr>\n",
       "      <th>4</th>\n",
       "      <td>850</td>\n",
       "      <td>Spain</td>\n",
       "      <td>Female</td>\n",
       "      <td>43</td>\n",
       "      <td>2.00</td>\n",
       "      <td>125510.82</td>\n",
       "      <td>1</td>\n",
       "      <td>1</td>\n",
       "      <td>1</td>\n",
       "      <td>79084.10</td>\n",
       "      <td>0</td>\n",
       "    </tr>\n",
       "  </tbody>\n",
       "</table>\n",
       "</div>"
      ],
      "text/plain": [
       "   CreditScore Geography  Gender  Age  Tenure   Balance  NumOfProducts  \\\n",
       "0          619    France  Female   42    2.00      0.00              1   \n",
       "1          608     Spain  Female   41    1.00  83807.86              1   \n",
       "2          502    France  Female   42    8.00 159660.80              3   \n",
       "3          699    France  Female   39    1.00      0.00              2   \n",
       "4          850     Spain  Female   43    2.00 125510.82              1   \n",
       "\n",
       "   HasCrCard  IsActiveMember  EstimatedSalary  Exited  \n",
       "0          1               1        101348.88       1  \n",
       "1          0               1        112542.58       0  \n",
       "2          1               0        113931.57       1  \n",
       "3          0               0         93826.63       0  \n",
       "4          1               1         79084.10       0  "
      ]
     },
     "execution_count": 8,
     "metadata": {},
     "output_type": "execute_result"
    }
   ],
   "source": [
    "df_ohe.head()"
   ]
  },
  {
   "cell_type": "markdown",
   "metadata": {},
   "source": [
    "* Удаляем столбцы 'RowNumber' - индекс строки в данных, 'CustomerId' - уникальный идентификатор клиента, 'Surname' - фамилия клиента т.к., в указанных столбцах содержатся уникальные идентификаторы клиента и указанная информация не является признаками. \n",
    "* Также если мы не удалим указанные столбцы при преобразовании категориальных признаков в численные методом OHE у нас появится 'миллиард' новых столбцов."
   ]
  },
  {
   "cell_type": "markdown",
   "metadata": {},
   "source": [
    "### Преобразование категориальных признаков в численные - OHE"
   ]
  },
  {
   "cell_type": "code",
   "execution_count": 9,
   "metadata": {
    "scrolled": false
   },
   "outputs": [],
   "source": [
    "df_ohe = pd.get_dummies(df_ohe,  drop_first=True)"
   ]
  },
  {
   "cell_type": "code",
   "execution_count": 10,
   "metadata": {},
   "outputs": [
    {
     "name": "stdout",
     "output_type": "stream",
     "text": [
      "<class 'pandas.core.frame.DataFrame'>\n",
      "RangeIndex: 10000 entries, 0 to 9999\n",
      "Data columns (total 12 columns):\n",
      " #   Column             Non-Null Count  Dtype  \n",
      "---  ------             --------------  -----  \n",
      " 0   CreditScore        10000 non-null  int64  \n",
      " 1   Age                10000 non-null  int64  \n",
      " 2   Tenure             10000 non-null  float64\n",
      " 3   Balance            10000 non-null  float64\n",
      " 4   NumOfProducts      10000 non-null  int64  \n",
      " 5   HasCrCard          10000 non-null  int64  \n",
      " 6   IsActiveMember     10000 non-null  int64  \n",
      " 7   EstimatedSalary    10000 non-null  float64\n",
      " 8   Exited             10000 non-null  int64  \n",
      " 9   Geography_Germany  10000 non-null  uint8  \n",
      " 10  Geography_Spain    10000 non-null  uint8  \n",
      " 11  Gender_Male        10000 non-null  uint8  \n",
      "dtypes: float64(3), int64(6), uint8(3)\n",
      "memory usage: 732.5 KB\n"
     ]
    }
   ],
   "source": [
    "df_ohe.info()"
   ]
  },
  {
   "cell_type": "markdown",
   "metadata": {},
   "source": [
    "### Разделение данных на выборки"
   ]
  },
  {
   "cell_type": "code",
   "execution_count": 11,
   "metadata": {},
   "outputs": [],
   "source": [
    "df_train_ohe, df_pred_ohe = train_test_split(df_ohe, test_size=0.4, random_state=12345)"
   ]
  },
  {
   "cell_type": "code",
   "execution_count": 12,
   "metadata": {},
   "outputs": [],
   "source": [
    "df_valid_ohe, df_test_ohe = train_test_split(df_pred_ohe, test_size=0.5, random_state=12345)"
   ]
  },
  {
   "cell_type": "code",
   "execution_count": 13,
   "metadata": {
    "scrolled": true
   },
   "outputs": [
    {
     "name": "stdout",
     "output_type": "stream",
     "text": [
      "6000 2000 2000\n"
     ]
    }
   ],
   "source": [
    "print(len(df_train_ohe), len(df_valid_ohe), len(df_test_ohe))"
   ]
  },
  {
   "cell_type": "code",
   "execution_count": 14,
   "metadata": {},
   "outputs": [
    {
     "data": {
      "text/html": [
       "<div>\n",
       "<style scoped>\n",
       "    .dataframe tbody tr th:only-of-type {\n",
       "        vertical-align: middle;\n",
       "    }\n",
       "\n",
       "    .dataframe tbody tr th {\n",
       "        vertical-align: top;\n",
       "    }\n",
       "\n",
       "    .dataframe thead th {\n",
       "        text-align: right;\n",
       "    }\n",
       "</style>\n",
       "<table border=\"1\" class=\"dataframe\">\n",
       "  <thead>\n",
       "    <tr style=\"text-align: right;\">\n",
       "      <th></th>\n",
       "      <th>CreditScore</th>\n",
       "      <th>Age</th>\n",
       "      <th>Tenure</th>\n",
       "      <th>Balance</th>\n",
       "      <th>NumOfProducts</th>\n",
       "      <th>HasCrCard</th>\n",
       "      <th>IsActiveMember</th>\n",
       "      <th>EstimatedSalary</th>\n",
       "      <th>Exited</th>\n",
       "      <th>Geography_Germany</th>\n",
       "      <th>Geography_Spain</th>\n",
       "      <th>Gender_Male</th>\n",
       "    </tr>\n",
       "  </thead>\n",
       "  <tbody>\n",
       "    <tr>\n",
       "      <th>count</th>\n",
       "      <td>6000.00</td>\n",
       "      <td>6000.00</td>\n",
       "      <td>6000.00</td>\n",
       "      <td>6000.00</td>\n",
       "      <td>6000.00</td>\n",
       "      <td>6000.00</td>\n",
       "      <td>6000.00</td>\n",
       "      <td>6000.00</td>\n",
       "      <td>6000.00</td>\n",
       "      <td>6000.00</td>\n",
       "      <td>6000.00</td>\n",
       "      <td>6000.00</td>\n",
       "    </tr>\n",
       "    <tr>\n",
       "      <th>mean</th>\n",
       "      <td>652.39</td>\n",
       "      <td>38.93</td>\n",
       "      <td>5.03</td>\n",
       "      <td>76596.57</td>\n",
       "      <td>1.52</td>\n",
       "      <td>0.71</td>\n",
       "      <td>0.53</td>\n",
       "      <td>99497.14</td>\n",
       "      <td>0.20</td>\n",
       "      <td>0.25</td>\n",
       "      <td>0.25</td>\n",
       "      <td>0.55</td>\n",
       "    </tr>\n",
       "    <tr>\n",
       "      <th>std</th>\n",
       "      <td>96.30</td>\n",
       "      <td>10.54</td>\n",
       "      <td>2.75</td>\n",
       "      <td>62119.10</td>\n",
       "      <td>0.58</td>\n",
       "      <td>0.45</td>\n",
       "      <td>0.50</td>\n",
       "      <td>57744.59</td>\n",
       "      <td>0.40</td>\n",
       "      <td>0.43</td>\n",
       "      <td>0.43</td>\n",
       "      <td>0.50</td>\n",
       "    </tr>\n",
       "    <tr>\n",
       "      <th>min</th>\n",
       "      <td>350.00</td>\n",
       "      <td>18.00</td>\n",
       "      <td>0.00</td>\n",
       "      <td>0.00</td>\n",
       "      <td>1.00</td>\n",
       "      <td>0.00</td>\n",
       "      <td>0.00</td>\n",
       "      <td>11.58</td>\n",
       "      <td>0.00</td>\n",
       "      <td>0.00</td>\n",
       "      <td>0.00</td>\n",
       "      <td>0.00</td>\n",
       "    </tr>\n",
       "    <tr>\n",
       "      <th>25%</th>\n",
       "      <td>586.00</td>\n",
       "      <td>32.00</td>\n",
       "      <td>3.00</td>\n",
       "      <td>0.00</td>\n",
       "      <td>1.00</td>\n",
       "      <td>0.00</td>\n",
       "      <td>0.00</td>\n",
       "      <td>49594.15</td>\n",
       "      <td>0.00</td>\n",
       "      <td>0.00</td>\n",
       "      <td>0.00</td>\n",
       "      <td>0.00</td>\n",
       "    </tr>\n",
       "    <tr>\n",
       "      <th>50%</th>\n",
       "      <td>654.50</td>\n",
       "      <td>37.00</td>\n",
       "      <td>5.00</td>\n",
       "      <td>96860.93</td>\n",
       "      <td>1.00</td>\n",
       "      <td>1.00</td>\n",
       "      <td>1.00</td>\n",
       "      <td>100140.57</td>\n",
       "      <td>0.00</td>\n",
       "      <td>0.00</td>\n",
       "      <td>0.00</td>\n",
       "      <td>1.00</td>\n",
       "    </tr>\n",
       "    <tr>\n",
       "      <th>75%</th>\n",
       "      <td>717.00</td>\n",
       "      <td>44.00</td>\n",
       "      <td>7.00</td>\n",
       "      <td>127651.04</td>\n",
       "      <td>2.00</td>\n",
       "      <td>1.00</td>\n",
       "      <td>1.00</td>\n",
       "      <td>148495.12</td>\n",
       "      <td>0.00</td>\n",
       "      <td>0.00</td>\n",
       "      <td>1.00</td>\n",
       "      <td>1.00</td>\n",
       "    </tr>\n",
       "    <tr>\n",
       "      <th>max</th>\n",
       "      <td>850.00</td>\n",
       "      <td>92.00</td>\n",
       "      <td>10.00</td>\n",
       "      <td>250898.09</td>\n",
       "      <td>4.00</td>\n",
       "      <td>1.00</td>\n",
       "      <td>1.00</td>\n",
       "      <td>199909.32</td>\n",
       "      <td>1.00</td>\n",
       "      <td>1.00</td>\n",
       "      <td>1.00</td>\n",
       "      <td>1.00</td>\n",
       "    </tr>\n",
       "  </tbody>\n",
       "</table>\n",
       "</div>"
      ],
      "text/plain": [
       "       CreditScore     Age  Tenure   Balance  NumOfProducts  HasCrCard  \\\n",
       "count      6000.00 6000.00 6000.00   6000.00        6000.00    6000.00   \n",
       "mean        652.39   38.93    5.03  76596.57           1.52       0.71   \n",
       "std          96.30   10.54    2.75  62119.10           0.58       0.45   \n",
       "min         350.00   18.00    0.00      0.00           1.00       0.00   \n",
       "25%         586.00   32.00    3.00      0.00           1.00       0.00   \n",
       "50%         654.50   37.00    5.00  96860.93           1.00       1.00   \n",
       "75%         717.00   44.00    7.00 127651.04           2.00       1.00   \n",
       "max         850.00   92.00   10.00 250898.09           4.00       1.00   \n",
       "\n",
       "       IsActiveMember  EstimatedSalary  Exited  Geography_Germany  \\\n",
       "count         6000.00          6000.00 6000.00            6000.00   \n",
       "mean             0.53         99497.14    0.20               0.25   \n",
       "std              0.50         57744.59    0.40               0.43   \n",
       "min              0.00            11.58    0.00               0.00   \n",
       "25%              0.00         49594.15    0.00               0.00   \n",
       "50%              1.00        100140.57    0.00               0.00   \n",
       "75%              1.00        148495.12    0.00               0.00   \n",
       "max              1.00        199909.32    1.00               1.00   \n",
       "\n",
       "       Geography_Spain  Gender_Male  \n",
       "count          6000.00      6000.00  \n",
       "mean              0.25         0.55  \n",
       "std               0.43         0.50  \n",
       "min               0.00         0.00  \n",
       "25%               0.00         0.00  \n",
       "50%               0.00         1.00  \n",
       "75%               1.00         1.00  \n",
       "max               1.00         1.00  "
      ]
     },
     "execution_count": 14,
     "metadata": {},
     "output_type": "execute_result"
    }
   ],
   "source": [
    "df_train_ohe.describe()"
   ]
  },
  {
   "cell_type": "code",
   "execution_count": 15,
   "metadata": {
    "scrolled": true
   },
   "outputs": [
    {
     "data": {
      "text/html": [
       "<div>\n",
       "<style scoped>\n",
       "    .dataframe tbody tr th:only-of-type {\n",
       "        vertical-align: middle;\n",
       "    }\n",
       "\n",
       "    .dataframe tbody tr th {\n",
       "        vertical-align: top;\n",
       "    }\n",
       "\n",
       "    .dataframe thead th {\n",
       "        text-align: right;\n",
       "    }\n",
       "</style>\n",
       "<table border=\"1\" class=\"dataframe\">\n",
       "  <thead>\n",
       "    <tr style=\"text-align: right;\">\n",
       "      <th></th>\n",
       "      <th>CreditScore</th>\n",
       "      <th>Age</th>\n",
       "      <th>Tenure</th>\n",
       "      <th>Balance</th>\n",
       "      <th>NumOfProducts</th>\n",
       "      <th>HasCrCard</th>\n",
       "      <th>IsActiveMember</th>\n",
       "      <th>EstimatedSalary</th>\n",
       "      <th>Exited</th>\n",
       "      <th>Geography_Germany</th>\n",
       "      <th>Geography_Spain</th>\n",
       "      <th>Gender_Male</th>\n",
       "    </tr>\n",
       "  </thead>\n",
       "  <tbody>\n",
       "    <tr>\n",
       "      <th>count</th>\n",
       "      <td>2000.00</td>\n",
       "      <td>2000.00</td>\n",
       "      <td>2000.00</td>\n",
       "      <td>2000.00</td>\n",
       "      <td>2000.00</td>\n",
       "      <td>2000.00</td>\n",
       "      <td>2000.00</td>\n",
       "      <td>2000.00</td>\n",
       "      <td>2000.00</td>\n",
       "      <td>2000.00</td>\n",
       "      <td>2000.00</td>\n",
       "      <td>2000.00</td>\n",
       "    </tr>\n",
       "    <tr>\n",
       "      <th>mean</th>\n",
       "      <td>647.10</td>\n",
       "      <td>38.92</td>\n",
       "      <td>4.84</td>\n",
       "      <td>77400.36</td>\n",
       "      <td>1.55</td>\n",
       "      <td>0.70</td>\n",
       "      <td>0.50</td>\n",
       "      <td>101128.48</td>\n",
       "      <td>0.21</td>\n",
       "      <td>0.26</td>\n",
       "      <td>0.23</td>\n",
       "      <td>0.53</td>\n",
       "    </tr>\n",
       "    <tr>\n",
       "      <th>std</th>\n",
       "      <td>96.49</td>\n",
       "      <td>10.71</td>\n",
       "      <td>2.78</td>\n",
       "      <td>62687.98</td>\n",
       "      <td>0.59</td>\n",
       "      <td>0.46</td>\n",
       "      <td>0.50</td>\n",
       "      <td>57923.78</td>\n",
       "      <td>0.41</td>\n",
       "      <td>0.44</td>\n",
       "      <td>0.42</td>\n",
       "      <td>0.50</td>\n",
       "    </tr>\n",
       "    <tr>\n",
       "      <th>min</th>\n",
       "      <td>365.00</td>\n",
       "      <td>18.00</td>\n",
       "      <td>0.00</td>\n",
       "      <td>0.00</td>\n",
       "      <td>1.00</td>\n",
       "      <td>0.00</td>\n",
       "      <td>0.00</td>\n",
       "      <td>90.07</td>\n",
       "      <td>0.00</td>\n",
       "      <td>0.00</td>\n",
       "      <td>0.00</td>\n",
       "      <td>0.00</td>\n",
       "    </tr>\n",
       "    <tr>\n",
       "      <th>25%</th>\n",
       "      <td>579.00</td>\n",
       "      <td>32.00</td>\n",
       "      <td>3.00</td>\n",
       "      <td>0.00</td>\n",
       "      <td>1.00</td>\n",
       "      <td>0.00</td>\n",
       "      <td>0.00</td>\n",
       "      <td>51054.98</td>\n",
       "      <td>0.00</td>\n",
       "      <td>0.00</td>\n",
       "      <td>0.00</td>\n",
       "      <td>0.00</td>\n",
       "    </tr>\n",
       "    <tr>\n",
       "      <th>50%</th>\n",
       "      <td>649.00</td>\n",
       "      <td>37.00</td>\n",
       "      <td>5.00</td>\n",
       "      <td>98851.26</td>\n",
       "      <td>2.00</td>\n",
       "      <td>1.00</td>\n",
       "      <td>0.00</td>\n",
       "      <td>99914.68</td>\n",
       "      <td>0.00</td>\n",
       "      <td>0.00</td>\n",
       "      <td>0.00</td>\n",
       "      <td>1.00</td>\n",
       "    </tr>\n",
       "    <tr>\n",
       "      <th>75%</th>\n",
       "      <td>716.00</td>\n",
       "      <td>44.00</td>\n",
       "      <td>7.00</td>\n",
       "      <td>128114.52</td>\n",
       "      <td>2.00</td>\n",
       "      <td>1.00</td>\n",
       "      <td>1.00</td>\n",
       "      <td>152398.27</td>\n",
       "      <td>0.00</td>\n",
       "      <td>1.00</td>\n",
       "      <td>0.00</td>\n",
       "      <td>1.00</td>\n",
       "    </tr>\n",
       "    <tr>\n",
       "      <th>max</th>\n",
       "      <td>850.00</td>\n",
       "      <td>92.00</td>\n",
       "      <td>10.00</td>\n",
       "      <td>238387.56</td>\n",
       "      <td>4.00</td>\n",
       "      <td>1.00</td>\n",
       "      <td>1.00</td>\n",
       "      <td>199970.74</td>\n",
       "      <td>1.00</td>\n",
       "      <td>1.00</td>\n",
       "      <td>1.00</td>\n",
       "      <td>1.00</td>\n",
       "    </tr>\n",
       "  </tbody>\n",
       "</table>\n",
       "</div>"
      ],
      "text/plain": [
       "       CreditScore     Age  Tenure   Balance  NumOfProducts  HasCrCard  \\\n",
       "count      2000.00 2000.00 2000.00   2000.00        2000.00    2000.00   \n",
       "mean        647.10   38.92    4.84  77400.36           1.55       0.70   \n",
       "std          96.49   10.71    2.78  62687.98           0.59       0.46   \n",
       "min         365.00   18.00    0.00      0.00           1.00       0.00   \n",
       "25%         579.00   32.00    3.00      0.00           1.00       0.00   \n",
       "50%         649.00   37.00    5.00  98851.26           2.00       1.00   \n",
       "75%         716.00   44.00    7.00 128114.52           2.00       1.00   \n",
       "max         850.00   92.00   10.00 238387.56           4.00       1.00   \n",
       "\n",
       "       IsActiveMember  EstimatedSalary  Exited  Geography_Germany  \\\n",
       "count         2000.00          2000.00 2000.00            2000.00   \n",
       "mean             0.50        101128.48    0.21               0.26   \n",
       "std              0.50         57923.78    0.41               0.44   \n",
       "min              0.00            90.07    0.00               0.00   \n",
       "25%              0.00         51054.98    0.00               0.00   \n",
       "50%              0.00         99914.68    0.00               0.00   \n",
       "75%              1.00        152398.27    0.00               1.00   \n",
       "max              1.00        199970.74    1.00               1.00   \n",
       "\n",
       "       Geography_Spain  Gender_Male  \n",
       "count          2000.00      2000.00  \n",
       "mean              0.23         0.53  \n",
       "std               0.42         0.50  \n",
       "min               0.00         0.00  \n",
       "25%               0.00         0.00  \n",
       "50%               0.00         1.00  \n",
       "75%               0.00         1.00  \n",
       "max               1.00         1.00  "
      ]
     },
     "execution_count": 15,
     "metadata": {},
     "output_type": "execute_result"
    }
   ],
   "source": [
    "df_valid_ohe.describe()"
   ]
  },
  {
   "cell_type": "code",
   "execution_count": 16,
   "metadata": {},
   "outputs": [
    {
     "data": {
      "text/html": [
       "<div>\n",
       "<style scoped>\n",
       "    .dataframe tbody tr th:only-of-type {\n",
       "        vertical-align: middle;\n",
       "    }\n",
       "\n",
       "    .dataframe tbody tr th {\n",
       "        vertical-align: top;\n",
       "    }\n",
       "\n",
       "    .dataframe thead th {\n",
       "        text-align: right;\n",
       "    }\n",
       "</style>\n",
       "<table border=\"1\" class=\"dataframe\">\n",
       "  <thead>\n",
       "    <tr style=\"text-align: right;\">\n",
       "      <th></th>\n",
       "      <th>CreditScore</th>\n",
       "      <th>Age</th>\n",
       "      <th>Tenure</th>\n",
       "      <th>Balance</th>\n",
       "      <th>NumOfProducts</th>\n",
       "      <th>HasCrCard</th>\n",
       "      <th>IsActiveMember</th>\n",
       "      <th>EstimatedSalary</th>\n",
       "      <th>Exited</th>\n",
       "      <th>Geography_Germany</th>\n",
       "      <th>Geography_Spain</th>\n",
       "      <th>Gender_Male</th>\n",
       "    </tr>\n",
       "  </thead>\n",
       "  <tbody>\n",
       "    <tr>\n",
       "      <th>count</th>\n",
       "      <td>2000.00</td>\n",
       "      <td>2000.00</td>\n",
       "      <td>2000.00</td>\n",
       "      <td>2000.00</td>\n",
       "      <td>2000.00</td>\n",
       "      <td>2000.00</td>\n",
       "      <td>2000.00</td>\n",
       "      <td>2000.00</td>\n",
       "      <td>2000.00</td>\n",
       "      <td>2000.00</td>\n",
       "      <td>2000.00</td>\n",
       "      <td>2000.00</td>\n",
       "    </tr>\n",
       "    <tr>\n",
       "      <th>mean</th>\n",
       "      <td>648.38</td>\n",
       "      <td>38.89</td>\n",
       "      <td>5.07</td>\n",
       "      <td>75239.38</td>\n",
       "      <td>1.55</td>\n",
       "      <td>0.70</td>\n",
       "      <td>0.50</td>\n",
       "      <td>100831.31</td>\n",
       "      <td>0.21</td>\n",
       "      <td>0.25</td>\n",
       "      <td>0.25</td>\n",
       "      <td>0.55</td>\n",
       "    </tr>\n",
       "    <tr>\n",
       "      <th>std</th>\n",
       "      <td>97.77</td>\n",
       "      <td>10.11</td>\n",
       "      <td>2.78</td>\n",
       "      <td>62948.81</td>\n",
       "      <td>0.58</td>\n",
       "      <td>0.46</td>\n",
       "      <td>0.50</td>\n",
       "      <td>56386.21</td>\n",
       "      <td>0.41</td>\n",
       "      <td>0.43</td>\n",
       "      <td>0.43</td>\n",
       "      <td>0.50</td>\n",
       "    </tr>\n",
       "    <tr>\n",
       "      <th>min</th>\n",
       "      <td>350.00</td>\n",
       "      <td>18.00</td>\n",
       "      <td>0.00</td>\n",
       "      <td>0.00</td>\n",
       "      <td>1.00</td>\n",
       "      <td>0.00</td>\n",
       "      <td>0.00</td>\n",
       "      <td>142.81</td>\n",
       "      <td>0.00</td>\n",
       "      <td>0.00</td>\n",
       "      <td>0.00</td>\n",
       "      <td>0.00</td>\n",
       "    </tr>\n",
       "    <tr>\n",
       "      <th>25%</th>\n",
       "      <td>579.00</td>\n",
       "      <td>32.00</td>\n",
       "      <td>3.00</td>\n",
       "      <td>0.00</td>\n",
       "      <td>1.00</td>\n",
       "      <td>0.00</td>\n",
       "      <td>0.00</td>\n",
       "      <td>55072.78</td>\n",
       "      <td>0.00</td>\n",
       "      <td>0.00</td>\n",
       "      <td>0.00</td>\n",
       "      <td>0.00</td>\n",
       "    </tr>\n",
       "    <tr>\n",
       "      <th>50%</th>\n",
       "      <td>648.00</td>\n",
       "      <td>37.00</td>\n",
       "      <td>5.00</td>\n",
       "      <td>96367.74</td>\n",
       "      <td>2.00</td>\n",
       "      <td>1.00</td>\n",
       "      <td>0.00</td>\n",
       "      <td>100583.05</td>\n",
       "      <td>0.00</td>\n",
       "      <td>0.00</td>\n",
       "      <td>0.00</td>\n",
       "      <td>1.00</td>\n",
       "    </tr>\n",
       "    <tr>\n",
       "      <th>75%</th>\n",
       "      <td>719.00</td>\n",
       "      <td>44.00</td>\n",
       "      <td>7.00</td>\n",
       "      <td>127206.85</td>\n",
       "      <td>2.00</td>\n",
       "      <td>1.00</td>\n",
       "      <td>1.00</td>\n",
       "      <td>148902.90</td>\n",
       "      <td>0.00</td>\n",
       "      <td>1.00</td>\n",
       "      <td>1.00</td>\n",
       "      <td>1.00</td>\n",
       "    </tr>\n",
       "    <tr>\n",
       "      <th>max</th>\n",
       "      <td>850.00</td>\n",
       "      <td>81.00</td>\n",
       "      <td>10.00</td>\n",
       "      <td>221532.80</td>\n",
       "      <td>4.00</td>\n",
       "      <td>1.00</td>\n",
       "      <td>1.00</td>\n",
       "      <td>199992.48</td>\n",
       "      <td>1.00</td>\n",
       "      <td>1.00</td>\n",
       "      <td>1.00</td>\n",
       "      <td>1.00</td>\n",
       "    </tr>\n",
       "  </tbody>\n",
       "</table>\n",
       "</div>"
      ],
      "text/plain": [
       "       CreditScore     Age  Tenure   Balance  NumOfProducts  HasCrCard  \\\n",
       "count      2000.00 2000.00 2000.00   2000.00        2000.00    2000.00   \n",
       "mean        648.38   38.89    5.07  75239.38           1.55       0.70   \n",
       "std          97.77   10.11    2.78  62948.81           0.58       0.46   \n",
       "min         350.00   18.00    0.00      0.00           1.00       0.00   \n",
       "25%         579.00   32.00    3.00      0.00           1.00       0.00   \n",
       "50%         648.00   37.00    5.00  96367.74           2.00       1.00   \n",
       "75%         719.00   44.00    7.00 127206.85           2.00       1.00   \n",
       "max         850.00   81.00   10.00 221532.80           4.00       1.00   \n",
       "\n",
       "       IsActiveMember  EstimatedSalary  Exited  Geography_Germany  \\\n",
       "count         2000.00          2000.00 2000.00            2000.00   \n",
       "mean             0.50        100831.31    0.21               0.25   \n",
       "std              0.50         56386.21    0.41               0.43   \n",
       "min              0.00           142.81    0.00               0.00   \n",
       "25%              0.00         55072.78    0.00               0.00   \n",
       "50%              0.00        100583.05    0.00               0.00   \n",
       "75%              1.00        148902.90    0.00               1.00   \n",
       "max              1.00        199992.48    1.00               1.00   \n",
       "\n",
       "       Geography_Spain  Gender_Male  \n",
       "count          2000.00      2000.00  \n",
       "mean              0.25         0.55  \n",
       "std               0.43         0.50  \n",
       "min               0.00         0.00  \n",
       "25%               0.00         0.00  \n",
       "50%               0.00         1.00  \n",
       "75%               1.00         1.00  \n",
       "max               1.00         1.00  "
      ]
     },
     "execution_count": 16,
     "metadata": {},
     "output_type": "execute_result"
    }
   ],
   "source": [
    "df_test_ohe.describe()"
   ]
  },
  {
   "cell_type": "markdown",
   "metadata": {},
   "source": [
    "### Маштабирование данных"
   ]
  },
  {
   "cell_type": "code",
   "execution_count": 17,
   "metadata": {},
   "outputs": [],
   "source": [
    "numeric = ['CreditScore', 'Age', 'Tenure', 'Balance', 'NumOfProducts', 'HasCrCard', 'IsActiveMember', 'EstimatedSalary', 'Geography_Germany', 'Geography_Spain', 'Gender_Male']"
   ]
  },
  {
   "cell_type": "code",
   "execution_count": 18,
   "metadata": {},
   "outputs": [
    {
     "name": "stderr",
     "output_type": "stream",
     "text": [
      "/tmp/ipykernel_48/2958065823.py:3: SettingWithCopyWarning: \n",
      "A value is trying to be set on a copy of a slice from a DataFrame.\n",
      "Try using .loc[row_indexer,col_indexer] = value instead\n",
      "\n",
      "See the caveats in the documentation: https://pandas.pydata.org/pandas-docs/stable/user_guide/indexing.html#returning-a-view-versus-a-copy\n",
      "  df_train_ohe[numeric] = scaler.transform(df_train_ohe[numeric])\n",
      "/opt/conda/lib/python3.9/site-packages/pandas/core/indexing.py:1738: SettingWithCopyWarning: \n",
      "A value is trying to be set on a copy of a slice from a DataFrame.\n",
      "Try using .loc[row_indexer,col_indexer] = value instead\n",
      "\n",
      "See the caveats in the documentation: https://pandas.pydata.org/pandas-docs/stable/user_guide/indexing.html#returning-a-view-versus-a-copy\n",
      "  self._setitem_single_column(loc, value[:, i].tolist(), pi)\n"
     ]
    }
   ],
   "source": [
    "scaler = StandardScaler()\n",
    "scaler.fit(df_train_ohe[numeric])\n",
    "df_train_ohe[numeric] = scaler.transform(df_train_ohe[numeric])"
   ]
  },
  {
   "cell_type": "code",
   "execution_count": 19,
   "metadata": {},
   "outputs": [
    {
     "name": "stderr",
     "output_type": "stream",
     "text": [
      "/tmp/ipykernel_48/508254671.py:1: SettingWithCopyWarning: \n",
      "A value is trying to be set on a copy of a slice from a DataFrame.\n",
      "Try using .loc[row_indexer,col_indexer] = value instead\n",
      "\n",
      "See the caveats in the documentation: https://pandas.pydata.org/pandas-docs/stable/user_guide/indexing.html#returning-a-view-versus-a-copy\n",
      "  df_valid_ohe[numeric] = scaler.transform(df_valid_ohe[numeric])\n",
      "/opt/conda/lib/python3.9/site-packages/pandas/core/indexing.py:1738: SettingWithCopyWarning: \n",
      "A value is trying to be set on a copy of a slice from a DataFrame.\n",
      "Try using .loc[row_indexer,col_indexer] = value instead\n",
      "\n",
      "See the caveats in the documentation: https://pandas.pydata.org/pandas-docs/stable/user_guide/indexing.html#returning-a-view-versus-a-copy\n",
      "  self._setitem_single_column(loc, value[:, i].tolist(), pi)\n"
     ]
    }
   ],
   "source": [
    "df_valid_ohe[numeric] = scaler.transform(df_valid_ohe[numeric])"
   ]
  },
  {
   "cell_type": "code",
   "execution_count": 20,
   "metadata": {},
   "outputs": [
    {
     "name": "stderr",
     "output_type": "stream",
     "text": [
      "/tmp/ipykernel_48/2158978593.py:1: SettingWithCopyWarning: \n",
      "A value is trying to be set on a copy of a slice from a DataFrame.\n",
      "Try using .loc[row_indexer,col_indexer] = value instead\n",
      "\n",
      "See the caveats in the documentation: https://pandas.pydata.org/pandas-docs/stable/user_guide/indexing.html#returning-a-view-versus-a-copy\n",
      "  df_test_ohe[numeric] = scaler.transform(df_test_ohe[numeric])\n",
      "/opt/conda/lib/python3.9/site-packages/pandas/core/indexing.py:1738: SettingWithCopyWarning: \n",
      "A value is trying to be set on a copy of a slice from a DataFrame.\n",
      "Try using .loc[row_indexer,col_indexer] = value instead\n",
      "\n",
      "See the caveats in the documentation: https://pandas.pydata.org/pandas-docs/stable/user_guide/indexing.html#returning-a-view-versus-a-copy\n",
      "  self._setitem_single_column(loc, value[:, i].tolist(), pi)\n"
     ]
    }
   ],
   "source": [
    "df_test_ohe[numeric] = scaler.transform(df_test_ohe[numeric])"
   ]
  },
  {
   "cell_type": "code",
   "execution_count": 21,
   "metadata": {
    "scrolled": true
   },
   "outputs": [
    {
     "data": {
      "text/html": [
       "<div>\n",
       "<style scoped>\n",
       "    .dataframe tbody tr th:only-of-type {\n",
       "        vertical-align: middle;\n",
       "    }\n",
       "\n",
       "    .dataframe tbody tr th {\n",
       "        vertical-align: top;\n",
       "    }\n",
       "\n",
       "    .dataframe thead th {\n",
       "        text-align: right;\n",
       "    }\n",
       "</style>\n",
       "<table border=\"1\" class=\"dataframe\">\n",
       "  <thead>\n",
       "    <tr style=\"text-align: right;\">\n",
       "      <th></th>\n",
       "      <th>CreditScore</th>\n",
       "      <th>Age</th>\n",
       "      <th>Tenure</th>\n",
       "      <th>Balance</th>\n",
       "      <th>NumOfProducts</th>\n",
       "      <th>HasCrCard</th>\n",
       "      <th>IsActiveMember</th>\n",
       "      <th>EstimatedSalary</th>\n",
       "      <th>Exited</th>\n",
       "      <th>Geography_Germany</th>\n",
       "      <th>Geography_Spain</th>\n",
       "      <th>Gender_Male</th>\n",
       "    </tr>\n",
       "  </thead>\n",
       "  <tbody>\n",
       "    <tr>\n",
       "      <th>count</th>\n",
       "      <td>6000.00</td>\n",
       "      <td>6000.00</td>\n",
       "      <td>6000.00</td>\n",
       "      <td>6000.00</td>\n",
       "      <td>6000.00</td>\n",
       "      <td>6000.00</td>\n",
       "      <td>6000.00</td>\n",
       "      <td>6000.00</td>\n",
       "      <td>6000.00</td>\n",
       "      <td>6000.00</td>\n",
       "      <td>6000.00</td>\n",
       "      <td>6000.00</td>\n",
       "    </tr>\n",
       "    <tr>\n",
       "      <th>mean</th>\n",
       "      <td>-0.00</td>\n",
       "      <td>0.00</td>\n",
       "      <td>0.00</td>\n",
       "      <td>-0.00</td>\n",
       "      <td>-0.00</td>\n",
       "      <td>0.00</td>\n",
       "      <td>-0.00</td>\n",
       "      <td>-0.00</td>\n",
       "      <td>0.20</td>\n",
       "      <td>0.00</td>\n",
       "      <td>0.00</td>\n",
       "      <td>0.00</td>\n",
       "    </tr>\n",
       "    <tr>\n",
       "      <th>std</th>\n",
       "      <td>1.00</td>\n",
       "      <td>1.00</td>\n",
       "      <td>1.00</td>\n",
       "      <td>1.00</td>\n",
       "      <td>1.00</td>\n",
       "      <td>1.00</td>\n",
       "      <td>1.00</td>\n",
       "      <td>1.00</td>\n",
       "      <td>0.40</td>\n",
       "      <td>1.00</td>\n",
       "      <td>1.00</td>\n",
       "      <td>1.00</td>\n",
       "    </tr>\n",
       "    <tr>\n",
       "      <th>min</th>\n",
       "      <td>-3.14</td>\n",
       "      <td>-1.99</td>\n",
       "      <td>-1.83</td>\n",
       "      <td>-1.23</td>\n",
       "      <td>-0.89</td>\n",
       "      <td>-1.56</td>\n",
       "      <td>-1.06</td>\n",
       "      <td>-1.72</td>\n",
       "      <td>0.00</td>\n",
       "      <td>-0.57</td>\n",
       "      <td>-0.58</td>\n",
       "      <td>-1.10</td>\n",
       "    </tr>\n",
       "    <tr>\n",
       "      <th>25%</th>\n",
       "      <td>-0.69</td>\n",
       "      <td>-0.66</td>\n",
       "      <td>-0.74</td>\n",
       "      <td>-1.23</td>\n",
       "      <td>-0.89</td>\n",
       "      <td>-1.56</td>\n",
       "      <td>-1.06</td>\n",
       "      <td>-0.86</td>\n",
       "      <td>0.00</td>\n",
       "      <td>-0.57</td>\n",
       "      <td>-0.58</td>\n",
       "      <td>-1.10</td>\n",
       "    </tr>\n",
       "    <tr>\n",
       "      <th>50%</th>\n",
       "      <td>0.02</td>\n",
       "      <td>-0.18</td>\n",
       "      <td>-0.01</td>\n",
       "      <td>0.33</td>\n",
       "      <td>-0.89</td>\n",
       "      <td>0.64</td>\n",
       "      <td>0.95</td>\n",
       "      <td>0.01</td>\n",
       "      <td>0.00</td>\n",
       "      <td>-0.57</td>\n",
       "      <td>-0.58</td>\n",
       "      <td>0.91</td>\n",
       "    </tr>\n",
       "    <tr>\n",
       "      <th>75%</th>\n",
       "      <td>0.67</td>\n",
       "      <td>0.48</td>\n",
       "      <td>0.72</td>\n",
       "      <td>0.82</td>\n",
       "      <td>0.83</td>\n",
       "      <td>0.64</td>\n",
       "      <td>0.95</td>\n",
       "      <td>0.85</td>\n",
       "      <td>0.00</td>\n",
       "      <td>-0.57</td>\n",
       "      <td>1.73</td>\n",
       "      <td>0.91</td>\n",
       "    </tr>\n",
       "    <tr>\n",
       "      <th>max</th>\n",
       "      <td>2.05</td>\n",
       "      <td>5.04</td>\n",
       "      <td>1.81</td>\n",
       "      <td>2.81</td>\n",
       "      <td>4.27</td>\n",
       "      <td>0.64</td>\n",
       "      <td>0.95</td>\n",
       "      <td>1.74</td>\n",
       "      <td>1.00</td>\n",
       "      <td>1.75</td>\n",
       "      <td>1.73</td>\n",
       "      <td>0.91</td>\n",
       "    </tr>\n",
       "  </tbody>\n",
       "</table>\n",
       "</div>"
      ],
      "text/plain": [
       "       CreditScore     Age  Tenure  Balance  NumOfProducts  HasCrCard  \\\n",
       "count      6000.00 6000.00 6000.00  6000.00        6000.00    6000.00   \n",
       "mean         -0.00    0.00    0.00    -0.00          -0.00       0.00   \n",
       "std           1.00    1.00    1.00     1.00           1.00       1.00   \n",
       "min          -3.14   -1.99   -1.83    -1.23          -0.89      -1.56   \n",
       "25%          -0.69   -0.66   -0.74    -1.23          -0.89      -1.56   \n",
       "50%           0.02   -0.18   -0.01     0.33          -0.89       0.64   \n",
       "75%           0.67    0.48    0.72     0.82           0.83       0.64   \n",
       "max           2.05    5.04    1.81     2.81           4.27       0.64   \n",
       "\n",
       "       IsActiveMember  EstimatedSalary  Exited  Geography_Germany  \\\n",
       "count         6000.00          6000.00 6000.00            6000.00   \n",
       "mean            -0.00            -0.00    0.20               0.00   \n",
       "std              1.00             1.00    0.40               1.00   \n",
       "min             -1.06            -1.72    0.00              -0.57   \n",
       "25%             -1.06            -0.86    0.00              -0.57   \n",
       "50%              0.95             0.01    0.00              -0.57   \n",
       "75%              0.95             0.85    0.00              -0.57   \n",
       "max              0.95             1.74    1.00               1.75   \n",
       "\n",
       "       Geography_Spain  Gender_Male  \n",
       "count          6000.00      6000.00  \n",
       "mean              0.00         0.00  \n",
       "std               1.00         1.00  \n",
       "min              -0.58        -1.10  \n",
       "25%              -0.58        -1.10  \n",
       "50%              -0.58         0.91  \n",
       "75%               1.73         0.91  \n",
       "max               1.73         0.91  "
      ]
     },
     "execution_count": 21,
     "metadata": {},
     "output_type": "execute_result"
    }
   ],
   "source": [
    "df_train_ohe.describe()"
   ]
  },
  {
   "cell_type": "code",
   "execution_count": 22,
   "metadata": {},
   "outputs": [
    {
     "data": {
      "text/html": [
       "<div>\n",
       "<style scoped>\n",
       "    .dataframe tbody tr th:only-of-type {\n",
       "        vertical-align: middle;\n",
       "    }\n",
       "\n",
       "    .dataframe tbody tr th {\n",
       "        vertical-align: top;\n",
       "    }\n",
       "\n",
       "    .dataframe thead th {\n",
       "        text-align: right;\n",
       "    }\n",
       "</style>\n",
       "<table border=\"1\" class=\"dataframe\">\n",
       "  <thead>\n",
       "    <tr style=\"text-align: right;\">\n",
       "      <th></th>\n",
       "      <th>CreditScore</th>\n",
       "      <th>Age</th>\n",
       "      <th>Tenure</th>\n",
       "      <th>Balance</th>\n",
       "      <th>NumOfProducts</th>\n",
       "      <th>HasCrCard</th>\n",
       "      <th>IsActiveMember</th>\n",
       "      <th>EstimatedSalary</th>\n",
       "      <th>Exited</th>\n",
       "      <th>Geography_Germany</th>\n",
       "      <th>Geography_Spain</th>\n",
       "      <th>Gender_Male</th>\n",
       "    </tr>\n",
       "  </thead>\n",
       "  <tbody>\n",
       "    <tr>\n",
       "      <th>count</th>\n",
       "      <td>2000.00</td>\n",
       "      <td>2000.00</td>\n",
       "      <td>2000.00</td>\n",
       "      <td>2000.00</td>\n",
       "      <td>2000.00</td>\n",
       "      <td>2000.00</td>\n",
       "      <td>2000.00</td>\n",
       "      <td>2000.00</td>\n",
       "      <td>2000.00</td>\n",
       "      <td>2000.00</td>\n",
       "      <td>2000.00</td>\n",
       "      <td>2000.00</td>\n",
       "    </tr>\n",
       "    <tr>\n",
       "      <th>mean</th>\n",
       "      <td>-0.05</td>\n",
       "      <td>-0.00</td>\n",
       "      <td>-0.07</td>\n",
       "      <td>0.01</td>\n",
       "      <td>0.05</td>\n",
       "      <td>-0.01</td>\n",
       "      <td>-0.06</td>\n",
       "      <td>0.03</td>\n",
       "      <td>0.21</td>\n",
       "      <td>0.03</td>\n",
       "      <td>-0.04</td>\n",
       "      <td>-0.04</td>\n",
       "    </tr>\n",
       "    <tr>\n",
       "      <th>std</th>\n",
       "      <td>1.00</td>\n",
       "      <td>1.02</td>\n",
       "      <td>1.01</td>\n",
       "      <td>1.01</td>\n",
       "      <td>1.01</td>\n",
       "      <td>1.00</td>\n",
       "      <td>1.00</td>\n",
       "      <td>1.00</td>\n",
       "      <td>0.41</td>\n",
       "      <td>1.02</td>\n",
       "      <td>0.98</td>\n",
       "      <td>1.00</td>\n",
       "    </tr>\n",
       "    <tr>\n",
       "      <th>min</th>\n",
       "      <td>-2.98</td>\n",
       "      <td>-1.99</td>\n",
       "      <td>-1.83</td>\n",
       "      <td>-1.23</td>\n",
       "      <td>-0.89</td>\n",
       "      <td>-1.56</td>\n",
       "      <td>-1.06</td>\n",
       "      <td>-1.72</td>\n",
       "      <td>0.00</td>\n",
       "      <td>-0.57</td>\n",
       "      <td>-0.58</td>\n",
       "      <td>-1.10</td>\n",
       "    </tr>\n",
       "    <tr>\n",
       "      <th>25%</th>\n",
       "      <td>-0.76</td>\n",
       "      <td>-0.66</td>\n",
       "      <td>-0.74</td>\n",
       "      <td>-1.23</td>\n",
       "      <td>-0.89</td>\n",
       "      <td>-1.56</td>\n",
       "      <td>-1.06</td>\n",
       "      <td>-0.84</td>\n",
       "      <td>0.00</td>\n",
       "      <td>-0.57</td>\n",
       "      <td>-0.58</td>\n",
       "      <td>-1.10</td>\n",
       "    </tr>\n",
       "    <tr>\n",
       "      <th>50%</th>\n",
       "      <td>-0.04</td>\n",
       "      <td>-0.18</td>\n",
       "      <td>-0.01</td>\n",
       "      <td>0.36</td>\n",
       "      <td>0.83</td>\n",
       "      <td>0.64</td>\n",
       "      <td>-1.06</td>\n",
       "      <td>0.01</td>\n",
       "      <td>0.00</td>\n",
       "      <td>-0.57</td>\n",
       "      <td>-0.58</td>\n",
       "      <td>0.91</td>\n",
       "    </tr>\n",
       "    <tr>\n",
       "      <th>75%</th>\n",
       "      <td>0.66</td>\n",
       "      <td>0.48</td>\n",
       "      <td>0.72</td>\n",
       "      <td>0.83</td>\n",
       "      <td>0.83</td>\n",
       "      <td>0.64</td>\n",
       "      <td>0.95</td>\n",
       "      <td>0.92</td>\n",
       "      <td>0.00</td>\n",
       "      <td>1.75</td>\n",
       "      <td>-0.58</td>\n",
       "      <td>0.91</td>\n",
       "    </tr>\n",
       "    <tr>\n",
       "      <th>max</th>\n",
       "      <td>2.05</td>\n",
       "      <td>5.04</td>\n",
       "      <td>1.81</td>\n",
       "      <td>2.60</td>\n",
       "      <td>4.27</td>\n",
       "      <td>0.64</td>\n",
       "      <td>0.95</td>\n",
       "      <td>1.74</td>\n",
       "      <td>1.00</td>\n",
       "      <td>1.75</td>\n",
       "      <td>1.73</td>\n",
       "      <td>0.91</td>\n",
       "    </tr>\n",
       "  </tbody>\n",
       "</table>\n",
       "</div>"
      ],
      "text/plain": [
       "       CreditScore     Age  Tenure  Balance  NumOfProducts  HasCrCard  \\\n",
       "count      2000.00 2000.00 2000.00  2000.00        2000.00    2000.00   \n",
       "mean         -0.05   -0.00   -0.07     0.01           0.05      -0.01   \n",
       "std           1.00    1.02    1.01     1.01           1.01       1.00   \n",
       "min          -2.98   -1.99   -1.83    -1.23          -0.89      -1.56   \n",
       "25%          -0.76   -0.66   -0.74    -1.23          -0.89      -1.56   \n",
       "50%          -0.04   -0.18   -0.01     0.36           0.83       0.64   \n",
       "75%           0.66    0.48    0.72     0.83           0.83       0.64   \n",
       "max           2.05    5.04    1.81     2.60           4.27       0.64   \n",
       "\n",
       "       IsActiveMember  EstimatedSalary  Exited  Geography_Germany  \\\n",
       "count         2000.00          2000.00 2000.00            2000.00   \n",
       "mean            -0.06             0.03    0.21               0.03   \n",
       "std              1.00             1.00    0.41               1.02   \n",
       "min             -1.06            -1.72    0.00              -0.57   \n",
       "25%             -1.06            -0.84    0.00              -0.57   \n",
       "50%             -1.06             0.01    0.00              -0.57   \n",
       "75%              0.95             0.92    0.00               1.75   \n",
       "max              0.95             1.74    1.00               1.75   \n",
       "\n",
       "       Geography_Spain  Gender_Male  \n",
       "count          2000.00      2000.00  \n",
       "mean             -0.04        -0.04  \n",
       "std               0.98         1.00  \n",
       "min              -0.58        -1.10  \n",
       "25%              -0.58        -1.10  \n",
       "50%              -0.58         0.91  \n",
       "75%              -0.58         0.91  \n",
       "max               1.73         0.91  "
      ]
     },
     "execution_count": 22,
     "metadata": {},
     "output_type": "execute_result"
    }
   ],
   "source": [
    "df_valid_ohe.describe()"
   ]
  },
  {
   "cell_type": "code",
   "execution_count": 23,
   "metadata": {
    "scrolled": false
   },
   "outputs": [
    {
     "data": {
      "text/html": [
       "<div>\n",
       "<style scoped>\n",
       "    .dataframe tbody tr th:only-of-type {\n",
       "        vertical-align: middle;\n",
       "    }\n",
       "\n",
       "    .dataframe tbody tr th {\n",
       "        vertical-align: top;\n",
       "    }\n",
       "\n",
       "    .dataframe thead th {\n",
       "        text-align: right;\n",
       "    }\n",
       "</style>\n",
       "<table border=\"1\" class=\"dataframe\">\n",
       "  <thead>\n",
       "    <tr style=\"text-align: right;\">\n",
       "      <th></th>\n",
       "      <th>CreditScore</th>\n",
       "      <th>Age</th>\n",
       "      <th>Tenure</th>\n",
       "      <th>Balance</th>\n",
       "      <th>NumOfProducts</th>\n",
       "      <th>HasCrCard</th>\n",
       "      <th>IsActiveMember</th>\n",
       "      <th>EstimatedSalary</th>\n",
       "      <th>Exited</th>\n",
       "      <th>Geography_Germany</th>\n",
       "      <th>Geography_Spain</th>\n",
       "      <th>Gender_Male</th>\n",
       "    </tr>\n",
       "  </thead>\n",
       "  <tbody>\n",
       "    <tr>\n",
       "      <th>count</th>\n",
       "      <td>2000.00</td>\n",
       "      <td>2000.00</td>\n",
       "      <td>2000.00</td>\n",
       "      <td>2000.00</td>\n",
       "      <td>2000.00</td>\n",
       "      <td>2000.00</td>\n",
       "      <td>2000.00</td>\n",
       "      <td>2000.00</td>\n",
       "      <td>2000.00</td>\n",
       "      <td>2000.00</td>\n",
       "      <td>2000.00</td>\n",
       "      <td>2000.00</td>\n",
       "    </tr>\n",
       "    <tr>\n",
       "      <th>mean</th>\n",
       "      <td>-0.04</td>\n",
       "      <td>-0.00</td>\n",
       "      <td>0.01</td>\n",
       "      <td>-0.02</td>\n",
       "      <td>0.05</td>\n",
       "      <td>-0.02</td>\n",
       "      <td>-0.06</td>\n",
       "      <td>0.02</td>\n",
       "      <td>0.21</td>\n",
       "      <td>0.01</td>\n",
       "      <td>0.00</td>\n",
       "      <td>0.01</td>\n",
       "    </tr>\n",
       "    <tr>\n",
       "      <th>std</th>\n",
       "      <td>1.02</td>\n",
       "      <td>0.96</td>\n",
       "      <td>1.01</td>\n",
       "      <td>1.01</td>\n",
       "      <td>1.00</td>\n",
       "      <td>1.01</td>\n",
       "      <td>1.00</td>\n",
       "      <td>0.98</td>\n",
       "      <td>0.41</td>\n",
       "      <td>1.01</td>\n",
       "      <td>1.00</td>\n",
       "      <td>1.00</td>\n",
       "    </tr>\n",
       "    <tr>\n",
       "      <th>min</th>\n",
       "      <td>-3.14</td>\n",
       "      <td>-1.99</td>\n",
       "      <td>-1.83</td>\n",
       "      <td>-1.23</td>\n",
       "      <td>-0.89</td>\n",
       "      <td>-1.56</td>\n",
       "      <td>-1.06</td>\n",
       "      <td>-1.72</td>\n",
       "      <td>0.00</td>\n",
       "      <td>-0.57</td>\n",
       "      <td>-0.58</td>\n",
       "      <td>-1.10</td>\n",
       "    </tr>\n",
       "    <tr>\n",
       "      <th>25%</th>\n",
       "      <td>-0.76</td>\n",
       "      <td>-0.66</td>\n",
       "      <td>-0.74</td>\n",
       "      <td>-1.23</td>\n",
       "      <td>-0.89</td>\n",
       "      <td>-1.56</td>\n",
       "      <td>-1.06</td>\n",
       "      <td>-0.77</td>\n",
       "      <td>0.00</td>\n",
       "      <td>-0.57</td>\n",
       "      <td>-0.58</td>\n",
       "      <td>-1.10</td>\n",
       "    </tr>\n",
       "    <tr>\n",
       "      <th>50%</th>\n",
       "      <td>-0.05</td>\n",
       "      <td>-0.18</td>\n",
       "      <td>-0.01</td>\n",
       "      <td>0.32</td>\n",
       "      <td>0.83</td>\n",
       "      <td>0.64</td>\n",
       "      <td>-1.06</td>\n",
       "      <td>0.02</td>\n",
       "      <td>0.00</td>\n",
       "      <td>-0.57</td>\n",
       "      <td>-0.58</td>\n",
       "      <td>0.91</td>\n",
       "    </tr>\n",
       "    <tr>\n",
       "      <th>75%</th>\n",
       "      <td>0.69</td>\n",
       "      <td>0.48</td>\n",
       "      <td>0.72</td>\n",
       "      <td>0.81</td>\n",
       "      <td>0.83</td>\n",
       "      <td>0.64</td>\n",
       "      <td>0.95</td>\n",
       "      <td>0.86</td>\n",
       "      <td>0.00</td>\n",
       "      <td>1.75</td>\n",
       "      <td>1.73</td>\n",
       "      <td>0.91</td>\n",
       "    </tr>\n",
       "    <tr>\n",
       "      <th>max</th>\n",
       "      <td>2.05</td>\n",
       "      <td>3.99</td>\n",
       "      <td>1.81</td>\n",
       "      <td>2.33</td>\n",
       "      <td>4.27</td>\n",
       "      <td>0.64</td>\n",
       "      <td>0.95</td>\n",
       "      <td>1.74</td>\n",
       "      <td>1.00</td>\n",
       "      <td>1.75</td>\n",
       "      <td>1.73</td>\n",
       "      <td>0.91</td>\n",
       "    </tr>\n",
       "  </tbody>\n",
       "</table>\n",
       "</div>"
      ],
      "text/plain": [
       "       CreditScore     Age  Tenure  Balance  NumOfProducts  HasCrCard  \\\n",
       "count      2000.00 2000.00 2000.00  2000.00        2000.00    2000.00   \n",
       "mean         -0.04   -0.00    0.01    -0.02           0.05      -0.02   \n",
       "std           1.02    0.96    1.01     1.01           1.00       1.01   \n",
       "min          -3.14   -1.99   -1.83    -1.23          -0.89      -1.56   \n",
       "25%          -0.76   -0.66   -0.74    -1.23          -0.89      -1.56   \n",
       "50%          -0.05   -0.18   -0.01     0.32           0.83       0.64   \n",
       "75%           0.69    0.48    0.72     0.81           0.83       0.64   \n",
       "max           2.05    3.99    1.81     2.33           4.27       0.64   \n",
       "\n",
       "       IsActiveMember  EstimatedSalary  Exited  Geography_Germany  \\\n",
       "count         2000.00          2000.00 2000.00            2000.00   \n",
       "mean            -0.06             0.02    0.21               0.01   \n",
       "std              1.00             0.98    0.41               1.01   \n",
       "min             -1.06            -1.72    0.00              -0.57   \n",
       "25%             -1.06            -0.77    0.00              -0.57   \n",
       "50%             -1.06             0.02    0.00              -0.57   \n",
       "75%              0.95             0.86    0.00               1.75   \n",
       "max              0.95             1.74    1.00               1.75   \n",
       "\n",
       "       Geography_Spain  Gender_Male  \n",
       "count          2000.00      2000.00  \n",
       "mean              0.00         0.01  \n",
       "std               1.00         1.00  \n",
       "min              -0.58        -1.10  \n",
       "25%              -0.58        -1.10  \n",
       "50%              -0.58         0.91  \n",
       "75%               1.73         0.91  \n",
       "max               1.73         0.91  "
      ]
     },
     "execution_count": 23,
     "metadata": {},
     "output_type": "execute_result"
    }
   ],
   "source": [
    "df_test_ohe.describe()"
   ]
  },
  {
   "cell_type": "markdown",
   "metadata": {},
   "source": [
    "* Создаем датасеты для обучения моделей и проверки метрик"
   ]
  },
  {
   "cell_type": "code",
   "execution_count": 24,
   "metadata": {},
   "outputs": [],
   "source": [
    "features_train_ohe = df_train_ohe.drop(['Exited'], axis=1)\n",
    "target_train_ohe = df_train_ohe['Exited']"
   ]
  },
  {
   "cell_type": "code",
   "execution_count": 25,
   "metadata": {},
   "outputs": [],
   "source": [
    "features_valid_ohe = df_valid_ohe.drop(['Exited'], axis=1)\n",
    "target_valid_ohe = df_valid_ohe['Exited']"
   ]
  },
  {
   "cell_type": "code",
   "execution_count": 26,
   "metadata": {},
   "outputs": [],
   "source": [
    "features_test_ohe = df_test_ohe.drop(['Exited'], axis=1)\n",
    "target_test_ohe = df_test_ohe['Exited']"
   ]
  },
  {
   "cell_type": "markdown",
   "metadata": {},
   "source": [
    "## Исследование задачи"
   ]
  },
  {
   "cell_type": "markdown",
   "metadata": {},
   "source": [
    "### Исследование баланса классов"
   ]
  },
  {
   "cell_type": "code",
   "execution_count": 27,
   "metadata": {
    "scrolled": true
   },
   "outputs": [
    {
     "data": {
      "text/plain": [
       "0    7963\n",
       "1    2037\n",
       "Name: Exited, dtype: int64"
      ]
     },
     "execution_count": 27,
     "metadata": {},
     "output_type": "execute_result"
    }
   ],
   "source": [
    "df_ohe['Exited'].value_counts()"
   ]
  },
  {
   "cell_type": "markdown",
   "metadata": {},
   "source": [
    "* Объектов отрицательного класса примерно в 4 раза больше положительного класса\n",
    "* В нашем случае проблемма заключается в том, что из-за соотношения отрицательного класса и положительного класса 4 к 1 модель будет чаще прогнозировать отрицательный класс чтобы добиться более высокой точности."
   ]
  },
  {
   "cell_type": "markdown",
   "metadata": {},
   "source": [
    "### Изучение работы моделей без учёта дисбаланса"
   ]
  },
  {
   "cell_type": "code",
   "execution_count": 28,
   "metadata": {},
   "outputs": [
    {
     "name": "stderr",
     "output_type": "stream",
     "text": [
      "/opt/conda/lib/python3.9/site-packages/sklearn/metrics/_classification.py:1245: UndefinedMetricWarning: Precision is ill-defined and being set to 0.0 due to no predicted samples. Use `zero_division` parameter to control this behavior.\n",
      "  _warn_prf(average, modifier, msg_start, len(result))\n"
     ]
    },
    {
     "name": "stdout",
     "output_type": "stream",
     "text": [
      "f1 - 0.522 | auc_roc - 0.75 | accuracy - 0.824 | recall - 0.459 | precision - 0.604 | depht - 2\n",
      "f1 - 0.553 | auc_roc - 0.813 | accuracy - 0.852 | recall - 0.438 | precision - 0.75 | depht - 4\n",
      "f1 - 0.57 | auc_roc - 0.816 | accuracy - 0.858 | recall - 0.45 | precision - 0.777 | depht - 6\n"
     ]
    }
   ],
   "source": [
    "model_DecisionTreeClassifier = None\n",
    "best_f1_st = 0\n",
    "for depth in range(1, 10):\n",
    "    model = DecisionTreeClassifier(max_depth = depth, random_state = 12345)\n",
    "    model.fit(features_train_ohe, target_train_ohe)\n",
    "    answers_st = model.predict(features_valid_ohe)\n",
    "    probabilities_valid = model.predict_proba(features_valid_ohe)\n",
    "    probabilities_one_valid = probabilities_valid[:, 1]\n",
    "    auc_roc_st = roc_auc_score(target_valid_ohe, probabilities_one_valid).round(3)\n",
    "    accuracy_st = accuracy_score(target_valid_ohe, answers_st).round(3)\n",
    "    recall_st = recall_score(target_valid_ohe, answers_st).round(3)\n",
    "    precision_st = precision_score(target_valid_ohe, answers_st).round(3)\n",
    "    f1 = f1_score(target_valid_ohe, answers_st).round(3)\n",
    "    if f1 > best_f1_st:\n",
    "        model_DecisionTreeClassifier = model \n",
    "        best_f1_st = f1\n",
    "        print('f1 -', best_f1_st, '|', 'auc_roc -', auc_roc_st, '|', 'accuracy -', accuracy_st, '|', 'recall -', recall_st, '|', 'precision -', precision_st, '|', 'depht -', depth)"
   ]
  },
  {
   "cell_type": "code",
   "execution_count": 29,
   "metadata": {},
   "outputs": [
    {
     "name": "stdout",
     "output_type": "stream",
     "text": [
      "f1 - 0.552 | auc_roc - 0.815 | accuracy - 0.85 | recall - 0.443 | precision - 0.734 | est - 10\n",
      "f1 - 0.571 | auc_roc - 0.833 | accuracy - 0.856 | recall - 0.459 | precision - 0.756 | est - 30\n",
      "f1 - 0.572 | auc_roc - 0.837 | accuracy - 0.857 | recall - 0.457 | precision - 0.764 | est - 50\n",
      "f1 - 0.576 | auc_roc - 0.839 | accuracy - 0.858 | recall - 0.459 | precision - 0.771 | est - 60\n",
      "f1 - 0.58 | auc_roc - 0.838 | accuracy - 0.86 | recall - 0.464 | precision - 0.773 | est - 70\n",
      "f1 - 0.581 | auc_roc - 0.842 | accuracy - 0.86 | recall - 0.467 | precision - 0.771 | est - 90\n",
      "f1 - 0.584 | auc_roc - 0.841 | accuracy - 0.862 | recall - 0.464 | precision - 0.789 | est - 140\n",
      "f1 - 0.586 | auc_roc - 0.842 | accuracy - 0.862 | recall - 0.467 | precision - 0.789 | est - 160\n",
      "f1 - 0.591 | auc_roc - 0.842 | accuracy - 0.864 | recall - 0.471 | precision - 0.791 | est - 180\n",
      "f1 - 0.593 | auc_roc - 0.841 | accuracy - 0.864 | recall - 0.474 | precision - 0.792 | est - 200\n"
     ]
    }
   ],
   "source": [
    "model_RandomForest = None\n",
    "best_f1_st_1 = 0\n",
    "for est in range(10, 300, 10):\n",
    "    model = RandomForestClassifier(random_state=12345, n_estimators = est) \n",
    "    model.fit(features_train_ohe, target_train_ohe) \n",
    "    answers_st_1 = model.predict(features_valid_ohe)\n",
    "    probabilities_valid = model.predict_proba(features_valid_ohe)\n",
    "    probabilities_one_valid = probabilities_valid[:, 1]\n",
    "    auc_roc_st1 = roc_auc_score(target_valid_ohe, probabilities_one_valid).round(3)\n",
    "    accuracy_st_1 = accuracy_score(target_valid_ohe, answers_st_1).round(3)\n",
    "    recall_st_1 = recall_score(target_valid_ohe, answers_st_1).round(3)\n",
    "    precision_st_1 = precision_score(target_valid_ohe, answers_st_1).round(3)\n",
    "    f1 = f1_score(target_valid_ohe, answers_st_1).round(3)\n",
    "    if f1 > best_f1_st_1:\n",
    "        model_RandomForest = model \n",
    "        best_f1_st_1 = f1\n",
    "        print('f1 -', best_f1_st_1, '|', 'auc_roc -', auc_roc_st1, '|', 'accuracy -', accuracy_st_1, '|', 'recall -', recall_st_1, '|', 'precision -', precision_st_1, '|', 'est -', est)"
   ]
  },
  {
   "cell_type": "code",
   "execution_count": 30,
   "metadata": {},
   "outputs": [
    {
     "name": "stdout",
     "output_type": "stream",
     "text": [
      "f1 - 0.331 | auc_roc - 0.844 | accuracy - 0.802 | recall - 0.234 | precision - 0.563\n"
     ]
    }
   ],
   "source": [
    "model_LogisticRegression = LogisticRegression(random_state=12345, solver='lbfgs', max_iter=1000)\n",
    "model_LogisticRegression.fit(features_train_ohe, target_train_ohe)\n",
    "\n",
    "probabilities_valid = model.predict_proba(features_valid_ohe)\n",
    "probabilities_one_valid = probabilities_valid[:, 1]\n",
    "auc_roc_st2 = roc_auc_score(target_valid_ohe, probabilities_one_valid).round(3)\n",
    "answers_st_2 = model_LogisticRegression.predict(features_valid_ohe)\n",
    "accuracy_st_2 = accuracy_score(target_valid_ohe, answers_st_2).round(3)\n",
    "recall_st_2 = recall_score(target_valid_ohe, answers_st_2).round(3)\n",
    "precision_st_2 = precision_score(target_valid_ohe, answers_st_2).round(3)\n",
    "f1_st_2 = f1_score(target_valid_ohe, answers_st_2).round(3)\n",
    "\n",
    "print('f1 -', f1_st_2, '|', 'auc_roc -', auc_roc_st2, '|', 'accuracy -', accuracy_st_2, '|', 'recall -', recall_st_2, '|', 'precision -', precision_st_2)"
   ]
  },
  {
   "cell_type": "markdown",
   "metadata": {},
   "source": [
    "### Вывод"
   ]
  },
  {
   "cell_type": "markdown",
   "metadata": {},
   "source": [
    "* Положительного класса примерно в 4 раза меньше чем отрицательного.\n",
    "* Значение f1 у Логистической регрессии - 0.33389544688026984\n",
    "* Значение f1 у Решающего дерева (при max_depht = 9) - 0.5786516853932585\n",
    "* Значение f1 у Случайного леса (при n_estimators = 120) - 0.5903083700440529"
   ]
  },
  {
   "cell_type": "markdown",
   "metadata": {},
   "source": [
    "## Борьба с дисбалансом"
   ]
  },
  {
   "cell_type": "markdown",
   "metadata": {},
   "source": [
    "### Проверяем работу моделй с аргументом class_weight='balanced'"
   ]
  },
  {
   "cell_type": "markdown",
   "metadata": {},
   "source": [
    "#### DecisionTreeClassifier"
   ]
  },
  {
   "cell_type": "code",
   "execution_count": 31,
   "metadata": {},
   "outputs": [
    {
     "name": "stdout",
     "output_type": "stream",
     "text": [
      "f1 - 0.499 | auc_roc - 0.693 | accuracy - 0.754 | recall - 0.586 | precision - 0.435 | depht - 1\n",
      "f1 - 0.541 | auc_roc - 0.75 | accuracy - 0.765 | recall - 0.663 | precision - 0.457 | depht - 2\n",
      "f1 - 0.596 | auc_roc - 0.831 | accuracy - 0.81 | recall - 0.67 | precision - 0.537 | depht - 5\n"
     ]
    }
   ],
   "source": [
    "model_DecisionTreeClassifier_b = None\n",
    "best_f1_b = 0\n",
    "for depth in range(1, 20):\n",
    "    model = DecisionTreeClassifier(max_depth = depth, random_state = 12345, class_weight='balanced')\n",
    "    model.fit(features_train_ohe, target_train_ohe)\n",
    "    answers_b = model.predict(features_valid_ohe)\n",
    "    probabilities_valid = model.predict_proba(features_valid_ohe)\n",
    "    probabilities_one_valid = probabilities_valid[:, 1]\n",
    "    auc_roc_b = roc_auc_score(target_valid_ohe, probabilities_one_valid).round(3)\n",
    "    accuracy_b = accuracy_score(target_valid_ohe, answers_b).round(3)\n",
    "    recall_b = recall_score(target_valid_ohe, answers_b).round(3)\n",
    "    precision_b = precision_score(target_valid_ohe, answers_b).round(3)\n",
    "    f1_b = f1_score(target_valid_ohe, answers_b).round(3)\n",
    "    if f1_b > best_f1_b:\n",
    "        model_DecisionTreeClassifier_b = model \n",
    "        best_f1_b = f1_b\n",
    "        print('f1 -', best_f1_b, '|', 'auc_roc -', auc_roc_b, '|', 'accuracy -', accuracy_b, '|', 'recall -', recall_b, '|', 'precision -', precision_b, '|', 'depht -', depth)"
   ]
  },
  {
   "cell_type": "markdown",
   "metadata": {},
   "source": [
    "#### RandomForest"
   ]
  },
  {
   "cell_type": "code",
   "execution_count": 32,
   "metadata": {
    "scrolled": false
   },
   "outputs": [
    {
     "name": "stdout",
     "output_type": "stream",
     "text": [
      "f1 - 0.53 | auc_roc - 0.808 | accuracy - 0.85 | recall - 0.407 | precision - 0.762 | depht - 10\n",
      "f1 - 0.542 | auc_roc - 0.82 | accuracy - 0.85 | recall - 0.423 | precision - 0.753 | depht - 20\n",
      "f1 - 0.549 | auc_roc - 0.838 | accuracy - 0.853 | recall - 0.428 | precision - 0.765 | depht - 40\n",
      "f1 - 0.568 | auc_roc - 0.839 | accuracy - 0.858 | recall - 0.447 | precision - 0.779 | depht - 50\n",
      "f1 - 0.575 | auc_roc - 0.84 | accuracy - 0.862 | recall - 0.447 | precision - 0.803 | depht - 120\n",
      "f1 - 0.577 | auc_roc - 0.842 | accuracy - 0.863 | recall - 0.447 | precision - 0.813 | depht - 250\n",
      "f1 - 0.578 | auc_roc - 0.841 | accuracy - 0.864 | recall - 0.447 | precision - 0.817 | depht - 270\n",
      "f1 - 0.579 | auc_roc - 0.842 | accuracy - 0.864 | recall - 0.447 | precision - 0.82 | depht - 280\n"
     ]
    }
   ],
   "source": [
    "model_RandomForest_b = None\n",
    "best_f1_b1 = 0\n",
    "for est in range(10, 300, 10):\n",
    "    model = RandomForestClassifier(random_state=12345, n_estimators = est, class_weight='balanced') \n",
    "    model.fit(features_train_ohe, target_train_ohe) \n",
    "    answers_b1 = model.predict(features_valid_ohe)\n",
    "    probabilities_valid = model.predict_proba(features_valid_ohe)\n",
    "    probabilities_one_valid = probabilities_valid[:, 1]\n",
    "    auc_roc_b1 = roc_auc_score(target_valid_ohe, probabilities_one_valid).round(3)\n",
    "    accuracy_b1 = accuracy_score(target_valid_ohe, answers_b1).round(3)\n",
    "    recall_b1 = recall_score(target_valid_ohe, answers_b1).round(3)\n",
    "    precision_b1 = precision_score(target_valid_ohe, answers_b1).round(3)\n",
    "    f1_b1 = f1_score(target_valid_ohe, answers_b1).round(3)\n",
    "    if f1_b1 > best_f1_b1:\n",
    "        model_RandomForest_b = model \n",
    "        best_f1_b1 = f1_b1\n",
    "        print('f1 -', best_f1_b1, '|', 'auc_roc -', auc_roc_b1, '|', 'accuracy -', accuracy_b1, '|', 'recall -', recall_b1, '|', 'precision -', precision_b1, '|', 'depht -', est)"
   ]
  },
  {
   "cell_type": "markdown",
   "metadata": {},
   "source": [
    "#### LogisticRegression"
   ]
  },
  {
   "cell_type": "code",
   "execution_count": 33,
   "metadata": {},
   "outputs": [
    {
     "name": "stdout",
     "output_type": "stream",
     "text": [
      "f1 - 0.331 | auc_roc - 0.842 | accuracy - 0.802 | recall - 0.234 | precision - 0.563\n"
     ]
    }
   ],
   "source": [
    "model_LogisticRegression_b = LogisticRegression(random_state=12345, solver='lbfgs', max_iter=1000, class_weight='balanced')\n",
    "model_LogisticRegression.fit(features_train_ohe, target_train_ohe)\n",
    "\n",
    "probabilities_valid = model.predict_proba(features_valid_ohe)\n",
    "probabilities_one_valid = probabilities_valid[:, 1]\n",
    "answers_b2 = model_LogisticRegression.predict(features_valid_ohe)\n",
    "auc_roc_b2 = roc_auc_score(target_valid_ohe, probabilities_one_valid).round(3)\n",
    "accuracy_b2 = accuracy_score(target_valid_ohe, answers_b2).round(3)\n",
    "recall_b2 = recall_score(target_valid_ohe, answers_b2).round(3)\n",
    "precision_b2 = precision_score(target_valid_ohe, answers_b2).round(3)\n",
    "f1_b2 = f1_score(target_valid_ohe, answers_b2).round(3)\n",
    "\n",
    "print('f1 -', f1_b2, '|', 'auc_roc -', auc_roc_b2, '|', 'accuracy -', accuracy_b2, '|', 'recall -', recall_b2, '|', 'precision -', precision_b2)"
   ]
  },
  {
   "cell_type": "markdown",
   "metadata": {},
   "source": [
    "### Увеличиваем выборки"
   ]
  },
  {
   "cell_type": "code",
   "execution_count": 34,
   "metadata": {},
   "outputs": [],
   "source": [
    "def upsample(features, target, repeat):\n",
    "    features_zeros = features[target == 0]\n",
    "    features_ones = features[target == 1]\n",
    "    target_zeros = target[target == 0]\n",
    "    target_ones = target[target == 1]\n",
    "\n",
    "    features_upsampled = pd.concat([features_zeros] + [features_ones] * repeat)\n",
    "    target_upsampled = pd.concat([target_zeros] + [target_ones] * repeat)\n",
    "    \n",
    "    features_upsampled, target_upsampled = shuffle(features_upsampled, target_upsampled, random_state=12345)\n",
    "    \n",
    "    return features_upsampled, target_upsampled\n",
    "\n",
    "features_upsampled, target_upsampled = upsample(features_train_ohe, target_train_ohe, 4)\n",
    "features_upsampled_valid, target_upsampled_valid = upsample(features_valid_ohe, target_valid_ohe, 4)\n",
    "features_upsampled_test, target_upsampled_test = upsample(features_test_ohe, target_test_ohe, 4)"
   ]
  },
  {
   "cell_type": "code",
   "execution_count": 35,
   "metadata": {
    "scrolled": true
   },
   "outputs": [
    {
     "data": {
      "text/plain": [
       "0    4804\n",
       "1    4784\n",
       "Name: Exited, dtype: int64"
      ]
     },
     "execution_count": 35,
     "metadata": {},
     "output_type": "execute_result"
    }
   ],
   "source": [
    "target_upsampled.value_counts()"
   ]
  },
  {
   "cell_type": "code",
   "execution_count": 36,
   "metadata": {
    "scrolled": false
   },
   "outputs": [
    {
     "data": {
      "text/plain": [
       "0    4804\n",
       "1    1196\n",
       "Name: Exited, dtype: int64"
      ]
     },
     "execution_count": 36,
     "metadata": {},
     "output_type": "execute_result"
    }
   ],
   "source": [
    "target_train_ohe.value_counts()"
   ]
  },
  {
   "cell_type": "markdown",
   "metadata": {},
   "source": [
    "#### DecisionTreeClassifier"
   ]
  },
  {
   "cell_type": "code",
   "execution_count": 37,
   "metadata": {},
   "outputs": [
    {
     "name": "stdout",
     "output_type": "stream",
     "text": [
      "f1 - 0.499 | auc_roc - 0.693 | accuracy - 0.754 | recall - 0.586 | precision - 0.435 | depht - 1\n",
      "f1 - 0.541 | auc_roc - 0.75 | accuracy - 0.765 | recall - 0.663 | precision - 0.457 | depht - 2\n",
      "f1 - 0.596 | auc_roc - 0.831 | accuracy - 0.81 | recall - 0.67 | precision - 0.537 | depht - 5\n"
     ]
    }
   ],
   "source": [
    "model_DecisionTreeClassifier_up = None\n",
    "best_f1_up = 0\n",
    "for depth in range(1, 20):\n",
    "    model = DecisionTreeClassifier(max_depth = depth, random_state = 12345)\n",
    "    model.fit(features_upsampled, target_upsampled)\n",
    "    answers_up = model.predict(features_valid_ohe)\n",
    "    probabilities_valid = model.predict_proba(features_valid_ohe)\n",
    "    probabilities_one_valid = probabilities_valid[:, 1]\n",
    "    auc_roc_up = roc_auc_score(target_valid_ohe, probabilities_one_valid).round(3)\n",
    "    accuracy_up = accuracy_score(target_valid_ohe, answers_up).round(3)\n",
    "    recall_up = recall_score(target_valid_ohe, answers_up).round(3)\n",
    "    precision_up = precision_score(target_valid_ohe, answers_up).round(3)\n",
    "    f1_up = f1_score(target_valid_ohe, answers_up).round(3)\n",
    "    if f1_up > best_f1_up:\n",
    "        model_DecisionTreeClassifier_up = model \n",
    "        best_f1_up = f1_up\n",
    "        print('f1 -', best_f1_up, '|', 'auc_roc -', auc_roc_up, '|', 'accuracy -', accuracy_up, '|', 'recall -', recall_up, '|', 'precision -', precision_up, '|', 'depht -', depth)"
   ]
  },
  {
   "cell_type": "markdown",
   "metadata": {},
   "source": [
    "#### RandomForest"
   ]
  },
  {
   "cell_type": "code",
   "execution_count": 38,
   "metadata": {},
   "outputs": [
    {
     "name": "stdout",
     "output_type": "stream",
     "text": [
      "f1 - 0.582 | auc_roc - 0.809 | accuracy - 0.845 | recall - 0.517 | precision - 0.667 | est - 10\n",
      "f1 - 0.596 | auc_roc - 0.824 | accuracy - 0.85 | recall - 0.531 | precision - 0.679 | est - 20\n",
      "f1 - 0.6 | auc_roc - 0.827 | accuracy - 0.848 | recall - 0.543 | precision - 0.67 | est - 30\n",
      "f1 - 0.609 | auc_roc - 0.837 | accuracy - 0.85 | recall - 0.56 | precision - 0.667 | est - 70\n",
      "f1 - 0.611 | auc_roc - 0.839 | accuracy - 0.852 | recall - 0.555 | precision - 0.678 | est - 90\n"
     ]
    }
   ],
   "source": [
    "model_RandomForest_up = None\n",
    "best_f1_up1 = 0\n",
    "for est in range(10, 300, 10):\n",
    "    model = RandomForestClassifier(random_state=12345, n_estimators = est) \n",
    "    model.fit(features_upsampled, target_upsampled) \n",
    "    answers_up1 = model.predict(features_valid_ohe)\n",
    "    probabilities_valid = model.predict_proba(features_valid_ohe)\n",
    "    probabilities_one_valid = probabilities_valid[:, 1]\n",
    "    auc_roc_up1 = roc_auc_score(target_valid_ohe, probabilities_one_valid).round(3)\n",
    "    accuracy_up1 = accuracy_score(target_valid_ohe, answers_up1).round(3)\n",
    "    recall_up1 = recall_score(target_valid_ohe, answers_up1).round(3)\n",
    "    precision_up1 = precision_score(target_valid_ohe, answers_up1).round(3)\n",
    "    f1_up1 = f1_score(target_valid_ohe, answers_up1).round(3)\n",
    "    if f1_up1 > best_f1_up1:\n",
    "        model_RandomForest_up = model \n",
    "        best_f1_up1 = f1_up1\n",
    "        print('f1 -', best_f1_up1, '|', 'auc_roc -', auc_roc_up1, '|', 'accuracy -', accuracy_up1, '|', 'recall -', recall_up1, '|', 'precision -', precision_up1, '|', 'est -', est)"
   ]
  },
  {
   "cell_type": "markdown",
   "metadata": {},
   "source": [
    "#### LogisticRegression"
   ]
  },
  {
   "cell_type": "code",
   "execution_count": 39,
   "metadata": {
    "scrolled": false
   },
   "outputs": [
    {
     "name": "stdout",
     "output_type": "stream",
     "text": [
      "threshold - 0.0 f1 - 0.348 | auc_roc - 0.841 | accuracy - 0.218 | recall - 0.998 | precision - 0.211\n",
      "threshold - 0.02 f1 - 0.373 | auc_roc - 0.841 | accuracy - 0.304 | recall - 0.99 | precision - 0.23\n",
      "threshold - 0.04 f1 - 0.391 | auc_roc - 0.841 | accuracy - 0.372 | recall - 0.967 | precision - 0.245\n",
      "threshold - 0.06 f1 - 0.412 | auc_roc - 0.841 | accuracy - 0.44 | recall - 0.94 | precision - 0.264\n",
      "threshold - 0.08 f1 - 0.433 | auc_roc - 0.841 | accuracy - 0.494 | recall - 0.926 | precision - 0.283\n",
      "threshold - 0.1 f1 - 0.456 | auc_roc - 0.841 | accuracy - 0.544 | recall - 0.914 | precision - 0.303\n",
      "threshold - 0.12 f1 - 0.475 | auc_roc - 0.841 | accuracy - 0.58 | recall - 0.907 | precision - 0.321\n",
      "threshold - 0.14 f1 - 0.493 | auc_roc - 0.841 | accuracy - 0.616 | recall - 0.895 | precision - 0.34\n",
      "threshold - 0.16 f1 - 0.513 | auc_roc - 0.841 | accuracy - 0.655 | recall - 0.871 | precision - 0.364\n",
      "threshold - 0.18 f1 - 0.522 | auc_roc - 0.841 | accuracy - 0.676 | recall - 0.844 | precision - 0.378\n",
      "threshold - 0.2 f1 - 0.544 | auc_roc - 0.841 | accuracy - 0.708 | recall - 0.833 | precision - 0.404\n",
      "threshold - 0.22 f1 - 0.554 | auc_roc - 0.841 | accuracy - 0.727 | recall - 0.811 | precision - 0.421\n",
      "threshold - 0.24 f1 - 0.559 | auc_roc - 0.841 | accuracy - 0.742 | recall - 0.785 | precision - 0.434\n",
      "threshold - 0.26 f1 - 0.566 | auc_roc - 0.841 | accuracy - 0.758 | recall - 0.756 | precision - 0.452\n",
      "threshold - 0.28 f1 - 0.571 | auc_roc - 0.841 | accuracy - 0.77 | recall - 0.732 | precision - 0.469\n"
     ]
    }
   ],
   "source": [
    "model_LogisticRegression_up = LogisticRegression(random_state=12345, solver='lbfgs', max_iter=1000)\n",
    "model_LogisticRegression.fit(features_upsampled, target_upsampled)\n",
    "probabilities_valid_up2 = model.predict_proba(features_valid_ohe)\n",
    "probabilities_one_valid_up2 = probabilities_valid_up2[:, 1]\n",
    "\n",
    "for threshold in np.arange(0, 0.3, 0.02):\n",
    "    predicted_valid_up2 = probabilities_one_valid_up2 > threshold\n",
    "    probabilities_valid = model.predict_proba(features_valid_ohe)\n",
    "    probabilities_one_valid = probabilities_valid[:, 1]\n",
    "    auc_roc_up2 = roc_auc_score(target_valid_ohe, probabilities_one_valid).round(3)\n",
    "    precision_up2 = precision_score(target_valid_ohe, predicted_valid_up2).round(3)\n",
    "    recall_up2 = recall_score(target_valid_ohe, predicted_valid_up2).round(3)\n",
    "    accuracy_up2 = accuracy_score(target_valid_ohe, predicted_valid_up2).round(3)\n",
    "    f1_up2 = f1_score(target_valid_ohe, predicted_valid_up2).round(3)\n",
    "    \n",
    "    print('threshold -', threshold, 'f1 -', f1_up2, '|', 'auc_roc -', auc_roc_up2, '|', 'accuracy -', accuracy_up2, '|', 'recall -', recall_up2, '|', 'precision -', precision_up2)\n",
    "          "
   ]
  },
  {
   "cell_type": "markdown",
   "metadata": {},
   "source": [
    "### Уменьшаем выборки"
   ]
  },
  {
   "cell_type": "code",
   "execution_count": 40,
   "metadata": {},
   "outputs": [],
   "source": [
    "def downsample(features, target, fraction):\n",
    "    features_zeros = features[target == 0]\n",
    "    features_ones = features[target == 1]\n",
    "    target_zeros = target[target == 0]\n",
    "    target_ones = target[target == 1]\n",
    "\n",
    "    features_downsampled = pd.concat(\n",
    "        [features_zeros.sample(frac=fraction, random_state=12345)] + [features_ones])\n",
    "    target_downsampled = pd.concat(\n",
    "        [target_zeros.sample(frac=fraction, random_state=12345)] + [target_ones])\n",
    "    \n",
    "    features_downsampled, target_downsampled = shuffle(\n",
    "        features_downsampled, target_downsampled, random_state=12345)\n",
    "    \n",
    "    return features_downsampled, target_downsampled\n",
    "\n",
    "features_downsampled, target_downsampled = downsample(features_train_ohe, target_train_ohe, 0.25)"
   ]
  },
  {
   "cell_type": "code",
   "execution_count": 41,
   "metadata": {},
   "outputs": [
    {
     "data": {
      "text/plain": [
       "0    1201\n",
       "1    1196\n",
       "Name: Exited, dtype: int64"
      ]
     },
     "execution_count": 41,
     "metadata": {},
     "output_type": "execute_result"
    }
   ],
   "source": [
    "target_downsampled.value_counts()"
   ]
  },
  {
   "cell_type": "code",
   "execution_count": 42,
   "metadata": {
    "scrolled": true
   },
   "outputs": [
    {
     "data": {
      "text/plain": [
       "0    4804\n",
       "1    1196\n",
       "Name: Exited, dtype: int64"
      ]
     },
     "execution_count": 42,
     "metadata": {},
     "output_type": "execute_result"
    }
   ],
   "source": [
    "target_train_ohe.value_counts()"
   ]
  },
  {
   "cell_type": "markdown",
   "metadata": {},
   "source": [
    "#### DecisionTreeClassifier"
   ]
  },
  {
   "cell_type": "code",
   "execution_count": 43,
   "metadata": {},
   "outputs": [
    {
     "name": "stdout",
     "output_type": "stream",
     "text": [
      "f1 - 0.506 | auc_roc - 0.702 | accuracy - 0.74 | recall - 0.636 | precision - 0.42 | depht - 1\n",
      "f1 - 0.539 | auc_roc - 0.758 | accuracy - 0.749 | recall - 0.703 | precision - 0.438 | depht - 2\n",
      "f1 - 0.556 | auc_roc - 0.803 | accuracy - 0.768 | recall - 0.694 | precision - 0.463 | depht - 3\n",
      "f1 - 0.594 | auc_roc - 0.824 | accuracy - 0.8 | recall - 0.701 | precision - 0.516 | depht - 5\n"
     ]
    }
   ],
   "source": [
    "model_DecisionTreeClassifier_down = None\n",
    "best_f1_down = 0\n",
    "for depth in range(1, 20):\n",
    "    model = DecisionTreeClassifier(max_depth = depth, random_state = 12345)\n",
    "    model.fit(features_downsampled, target_downsampled)\n",
    "    answers_down = model.predict(features_valid_ohe)\n",
    "    probabilities_valid = model.predict_proba(features_valid_ohe)\n",
    "    probabilities_one_valid = probabilities_valid[:, 1]\n",
    "    auc_roc_down = roc_auc_score(target_valid_ohe, probabilities_one_valid).round(3)\n",
    "    accuracy_down = accuracy_score(target_valid_ohe, answers_down).round(3)\n",
    "    recall_down = recall_score(target_valid_ohe, answers_down).round(3)\n",
    "    precision_down = precision_score(target_valid_ohe, answers_down).round(3)\n",
    "    f1_down = f1_score(target_valid_ohe, answers_down).round(3)\n",
    "    if f1_down > best_f1_down:\n",
    "        model_DecisionTreeClassifier = model \n",
    "        best_f1_down = f1_down\n",
    "        print('f1 -', best_f1_down, '|', 'auc_roc -', auc_roc_down, '|', 'accuracy -', accuracy_down, '|', 'recall -', recall_down, '|', 'precision -', precision_down, '|', 'depht -', depth)"
   ]
  },
  {
   "cell_type": "markdown",
   "metadata": {},
   "source": [
    "#### RandomForest"
   ]
  },
  {
   "cell_type": "code",
   "execution_count": 44,
   "metadata": {},
   "outputs": [
    {
     "name": "stdout",
     "output_type": "stream",
     "text": [
      "f1 - 0.576 | auc_roc - 0.832 | accuracy - 0.784 | recall - 0.703 | precision - 0.488 | est - 10\n",
      "f1 - 0.59 | auc_roc - 0.84 | accuracy - 0.787 | recall - 0.734 | precision - 0.494 | est - 20\n"
     ]
    }
   ],
   "source": [
    "model_RandomForest_down = None\n",
    "best_f1_down1 = 0\n",
    "for est in range(10, 300, 10):\n",
    "    model = RandomForestClassifier(random_state=12345, n_estimators = est) \n",
    "    model.fit(features_downsampled, target_downsampled) \n",
    "    answers_down1 = model.predict(features_valid_ohe)\n",
    "    probabilities_valid = model.predict_proba(features_valid_ohe)\n",
    "    probabilities_one_valid = probabilities_valid[:, 1]\n",
    "    auc_roc_down1 = roc_auc_score(target_valid_ohe, probabilities_one_valid).round(3)\n",
    "    accuracy_down1 = accuracy_score(target_valid_ohe, answers_down1).round(3)\n",
    "    recall_down1 = recall_score(target_valid_ohe, answers_down1).round(3)\n",
    "    precision_down1 = precision_score(target_valid_ohe, answers_down1).round(3)\n",
    "    f1_down1 = f1_score(target_valid_ohe, answers_down1).round(3)\n",
    "    if f1_down1 > best_f1_down1:\n",
    "        model_RandomForest = model \n",
    "        best_f1_down1 = f1_down1\n",
    "        print('f1 -', best_f1_down1, '|', 'auc_roc -', auc_roc_down1, '|', 'accuracy -', accuracy_down1, '|', 'recall -', recall_down1, '|', 'precision -', precision_down1, '|', 'est -', est)"
   ]
  },
  {
   "cell_type": "markdown",
   "metadata": {},
   "source": [
    "#### LogisticRegression"
   ]
  },
  {
   "cell_type": "code",
   "execution_count": 45,
   "metadata": {
    "scrolled": false
   },
   "outputs": [
    {
     "name": "stdout",
     "output_type": "stream",
     "text": [
      "threshold - 0.0 f1 - 0.346 | auc_roc - 0.847 | accuracy - 0.209 | recall - 1.0 | precision - 0.209\n",
      "threshold - 0.02 f1 - 0.349 | auc_roc - 0.847 | accuracy - 0.222 | recall - 1.0 | precision - 0.212\n",
      "threshold - 0.04 f1 - 0.357 | auc_roc - 0.847 | accuracy - 0.25 | recall - 0.998 | precision - 0.218\n",
      "threshold - 0.06 f1 - 0.364 | auc_roc - 0.847 | accuracy - 0.274 | recall - 0.995 | precision - 0.223\n",
      "threshold - 0.08 f1 - 0.373 | auc_roc - 0.847 | accuracy - 0.302 | recall - 0.993 | precision - 0.23\n",
      "threshold - 0.1 f1 - 0.382 | auc_roc - 0.847 | accuracy - 0.333 | recall - 0.988 | precision - 0.237\n",
      "threshold - 0.12 f1 - 0.389 | auc_roc - 0.847 | accuracy - 0.356 | recall - 0.983 | precision - 0.243\n",
      "threshold - 0.14 f1 - 0.397 | auc_roc - 0.847 | accuracy - 0.38 | recall - 0.976 | precision - 0.249\n",
      "threshold - 0.16 f1 - 0.404 | auc_roc - 0.847 | accuracy - 0.406 | recall - 0.964 | precision - 0.256\n",
      "threshold - 0.18 f1 - 0.412 | auc_roc - 0.847 | accuracy - 0.434 | recall - 0.95 | precision - 0.263\n",
      "threshold - 0.2 f1 - 0.424 | auc_roc - 0.847 | accuracy - 0.466 | recall - 0.943 | precision - 0.274\n",
      "threshold - 0.22 f1 - 0.431 | auc_roc - 0.847 | accuracy - 0.484 | recall - 0.935 | precision - 0.28\n",
      "threshold - 0.24 f1 - 0.444 | auc_roc - 0.847 | accuracy - 0.51 | recall - 0.935 | precision - 0.291\n",
      "threshold - 0.26 f1 - 0.454 | auc_roc - 0.847 | accuracy - 0.532 | recall - 0.931 | precision - 0.3\n",
      "threshold - 0.28 f1 - 0.47 | auc_roc - 0.847 | accuracy - 0.565 | recall - 0.923 | precision - 0.315\n"
     ]
    }
   ],
   "source": [
    "model_LogisticRegression_down = LogisticRegression(random_state=12345, solver='lbfgs', max_iter=1000)\n",
    "model_LogisticRegression.fit(features_downsampled, target_downsampled)\n",
    "probabilities_valid_down2 = model.predict_proba(features_valid_ohe)\n",
    "probabilities_one_valid_down2 = probabilities_valid_down2[:, 1]\n",
    "\n",
    "for threshold in np.arange(0, 0.3, 0.02):\n",
    "    predicted_valid_down2 = probabilities_one_valid_down2 > threshold\n",
    "    probabilities_valid = model.predict_proba(features_valid_ohe)\n",
    "    probabilities_one_valid = probabilities_valid[:, 1]\n",
    "    auc_roc_down2 = roc_auc_score(target_valid_ohe, probabilities_one_valid).round(3)\n",
    "    precision_down2 = precision_score(target_valid_ohe, predicted_valid_down2).round(3)\n",
    "    recall_down2 = recall_score(target_valid_ohe, predicted_valid_down2).round(3)\n",
    "    accuracy_down2 = accuracy_score(target_valid_ohe, predicted_valid_down2).round(3)\n",
    "    f1_down2 = f1_score(target_valid_ohe, predicted_valid_down2).round(3)\n",
    "    \n",
    "    print('threshold -', threshold, 'f1 -', f1_down2, '|', 'auc_roc -', auc_roc_down2, '|', 'accuracy -', accuracy_down2, '|', 'recall -', recall_down2, '|', 'precision -', precision_down2)\n",
    "          \n"
   ]
  },
  {
   "cell_type": "markdown",
   "metadata": {},
   "source": [
    "### Вывод"
   ]
  },
  {
   "cell_type": "markdown",
   "metadata": {},
   "source": [
    "* Лучший метод борьбы с дисбалансом классов - увиличение выборки. При использовании указанного метода мы можем получить максимальные значения f1 меры.\n",
    "* Максимальное значение f1 у Случайного леса (при n_estimators = 180) - 0.6123521681997371"
   ]
  },
  {
   "cell_type": "markdown",
   "metadata": {},
   "source": [
    "## Тестирование модели"
   ]
  },
  {
   "cell_type": "code",
   "execution_count": 46,
   "metadata": {},
   "outputs": [
    {
     "name": "stdout",
     "output_type": "stream",
     "text": [
      "f1 - 0.59 | accuracy - 0.84 | recall - 0.54 | precision - 0.66\n"
     ]
    }
   ],
   "source": [
    "test_predictions_model = model_RandomForest_up.predict(features_test_ohe)\n",
    "test_f1_final = f1_score(target_test_ohe, test_predictions_model).round(2) \n",
    "accuracy_final = accuracy_score(target_test_ohe, test_predictions_model).round(2)\n",
    "recall_final = recall_score(target_test_ohe, test_predictions_model).round(2)\n",
    "precision_final = precision_score(target_test_ohe, test_predictions_model).round(2)\n",
    "\n",
    "print('f1 -', test_f1_final, '|', 'accuracy -', accuracy_final, '|', 'recall -', recall_final,\\\n",
    "      '|', 'precision -', precision_final)"
   ]
  },
  {
   "cell_type": "code",
   "execution_count": 47,
   "metadata": {},
   "outputs": [
    {
     "data": {
      "image/png": "[encoded data removed]",
      "text/plain": [
       "<Figure size 432x288 with 1 Axes>"
      ]
     },
     "metadata": {
      "needs_background": "light"
     },
     "output_type": "display_data"
    }
   ],
   "source": [
    "probabilities_valid_final = model.predict_proba(features_test_ohe)\n",
    "probabilities_one_valid_final = probabilities_valid_final[:, 1]\n",
    "\n",
    "fpr, tpr, thresholds = roc_curve(target_test_ohe, probabilities_one_valid_final) \n",
    "plt.figure()\n",
    "plt.plot(fpr, tpr) \n",
    "\n",
    "plt.plot([0, 1], [0, 1], linestyle='--')\n",
    "plt.xlim([0.0, 1.0])\n",
    "plt.ylim([0.0, 1.0])\n",
    "plt.xlabel(\"False Positive Rate\")\n",
    "plt.ylabel(\"True Positive Rate\")\n",
    "plt.title(\"ROC-кривая\")\n",
    "\n",
    "plt.show()"
   ]
  },
  {
   "cell_type": "code",
   "execution_count": 48,
   "metadata": {},
   "outputs": [
    {
     "name": "stdout",
     "output_type": "stream",
     "text": [
      "0.8459459337911556\n"
     ]
    }
   ],
   "source": [
    "auc_roc_final = roc_auc_score(target_test_ohe, probabilities_one_valid_final)\n",
    "print(auc_roc_final)"
   ]
  },
  {
   "cell_type": "markdown",
   "metadata": {},
   "source": [
    "## Вывод"
   ]
  },
  {
   "cell_type": "markdown",
   "metadata": {},
   "source": [
    "**В ходе выполнения проекта было сделано следующее:**\n",
    "* Подготовлены данные для обучения моделей. \n",
    "* Обучили и проверили работу 3 моделей без учета дисбаланса классов - решающего дерева, случайного леса и логистической регрессии.\n",
    "* Применены несколько способов борьбы с дисбалансом классов и выбран наилучший.\n",
    "* Выбрана модель с самым высоким показателем f1.\n",
    "* Проведено тестирование лучшей модели."
   ]
  },
  {
   "cell_type": "markdown",
   "metadata": {},
   "source": [
    "**Замечания**\n",
    "* Наибольшее влияние дисбаланс классов оказывал на модель логистической регрессии.\n",
    "* Модель случайный лес лучше всех справлялась с задачей практически на всех этапах проекта.\n",
    "* При борьбе с дисбалансом классов максимальное повышение f1 меры у модели случайный лес составило 2%, без учета дисбаланса  максимальное значение f1 меры у указанной модели было 59%. "
   ]
  },
  {
   "cell_type": "markdown",
   "metadata": {},
   "source": [
    "## Чек-лист готовности проекта"
   ]
  },
  {
   "cell_type": "markdown",
   "metadata": {},
   "source": [
    "Поставьте 'x' в выполненных пунктах. Далее нажмите Shift+Enter."
   ]
  },
  {
   "cell_type": "markdown",
   "metadata": {},
   "source": [
    "- [x]  Jupyter Notebook открыт\n",
    "- [x]  Весь код выполняется без ошибок\n",
    "- [x]  Ячейки с кодом расположены в порядке исполнения\n",
    "- [x]  Выполнен шаг 1: данные подготовлены\n",
    "- [x]  Выполнен шаг 2: задача исследована\n",
    "    - [x]  Исследован баланс классов\n",
    "    - [x]  Изучены модели без учёта дисбаланса\n",
    "    - [x]  Написаны выводы по результатам исследования\n",
    "- [x]  Выполнен шаг 3: учтён дисбаланс\n",
    "    - [x]  Применено несколько способов борьбы с дисбалансом\n",
    "    - [x]  Написаны выводы по результатам исследования\n",
    "- [x]  Выполнен шаг 4: проведено тестирование\n",
    "- [x]  Удалось достичь *F1*-меры не менее 0.59\n",
    "- [x]  Исследована метрика *AUC-ROC*"
   ]
  },
  {
   "cell_type": "code",
   "execution_count": null,
   "metadata": {},
   "outputs": [],
   "source": []
  }
 ],
 "metadata": {
  "ExecuteTimeLog": [
   {
    "duration": 1597,
    "start_time": "2023-01-23T05:09:49.717Z"
   },
   {
    "duration": 5,
    "start_time": "2023-01-23T05:10:56.376Z"
   },
   {
    "duration": 92,
    "start_time": "2023-01-23T05:14:04.553Z"
   },
   {
    "duration": 46,
    "start_time": "2023-02-03T11:02:22.937Z"
   },
   {
    "duration": 1607,
    "start_time": "2023-02-03T11:02:29.140Z"
   },
   {
    "duration": 3,
    "start_time": "2023-02-03T11:02:30.749Z"
   },
   {
    "duration": 389,
    "start_time": "2023-02-03T11:02:30.754Z"
   },
   {
    "duration": 15,
    "start_time": "2023-02-03T11:02:43.758Z"
   },
   {
    "duration": 21,
    "start_time": "2023-02-03T11:14:08.727Z"
   },
   {
    "duration": 17,
    "start_time": "2023-02-03T11:14:24.634Z"
   },
   {
    "duration": 16,
    "start_time": "2023-02-03T11:17:10.137Z"
   },
   {
    "duration": 5,
    "start_time": "2023-02-03T11:19:05.376Z"
   },
   {
    "duration": 16,
    "start_time": "2023-02-03T11:19:18.911Z"
   },
   {
    "duration": 7,
    "start_time": "2023-02-03T12:03:35.522Z"
   },
   {
    "duration": 6,
    "start_time": "2023-02-03T12:03:48.667Z"
   },
   {
    "duration": 3,
    "start_time": "2023-02-03T12:04:22.889Z"
   },
   {
    "duration": 96,
    "start_time": "2023-02-03T12:05:01.130Z"
   },
   {
    "duration": 14,
    "start_time": "2023-02-03T12:05:01.449Z"
   },
   {
    "duration": 5,
    "start_time": "2023-02-03T12:05:42.692Z"
   },
   {
    "duration": 5,
    "start_time": "2023-02-03T12:05:51.789Z"
   },
   {
    "duration": 4,
    "start_time": "2023-02-03T12:06:00.134Z"
   },
   {
    "duration": 22,
    "start_time": "2023-02-03T12:12:54.126Z"
   },
   {
    "duration": 22,
    "start_time": "2023-02-03T12:12:54.586Z"
   },
   {
    "duration": 5,
    "start_time": "2023-02-03T12:13:32.699Z"
   },
   {
    "duration": 5,
    "start_time": "2023-02-03T12:13:32.993Z"
   },
   {
    "duration": 4,
    "start_time": "2023-02-03T12:13:33.255Z"
   },
   {
    "duration": 30,
    "start_time": "2023-02-03T12:13:34.055Z"
   },
   {
    "duration": 20,
    "start_time": "2023-02-03T12:15:19.363Z"
   },
   {
    "duration": 234,
    "start_time": "2023-02-03T12:17:02.477Z"
   },
   {
    "duration": 193,
    "start_time": "2023-02-03T12:17:21.340Z"
   },
   {
    "duration": 86,
    "start_time": "2023-02-03T12:17:51.647Z"
   },
   {
    "duration": 39,
    "start_time": "2023-02-03T12:17:52.925Z"
   },
   {
    "duration": 5,
    "start_time": "2023-02-03T12:17:53.232Z"
   },
   {
    "duration": 27,
    "start_time": "2023-02-03T12:17:55.737Z"
   },
   {
    "duration": 7,
    "start_time": "2023-02-03T12:17:55.981Z"
   },
   {
    "duration": 10,
    "start_time": "2023-02-03T12:17:56.246Z"
   },
   {
    "duration": 2866,
    "start_time": "2023-02-03T12:17:56.860Z"
   },
   {
    "duration": 4,
    "start_time": "2023-02-03T12:23:12.693Z"
   },
   {
    "duration": 8,
    "start_time": "2023-02-03T12:23:12.698Z"
   },
   {
    "duration": 56,
    "start_time": "2023-02-03T12:23:12.708Z"
   },
   {
    "duration": 11,
    "start_time": "2023-02-03T12:23:12.766Z"
   },
   {
    "duration": 32,
    "start_time": "2023-02-03T12:23:12.779Z"
   },
   {
    "duration": 15,
    "start_time": "2023-02-03T12:23:12.813Z"
   },
   {
    "duration": 223,
    "start_time": "2023-02-03T12:23:12.831Z"
   },
   {
    "duration": 82,
    "start_time": "2023-02-03T12:23:13.056Z"
   },
   {
    "duration": 25,
    "start_time": "2023-02-03T12:23:13.140Z"
   },
   {
    "duration": 4,
    "start_time": "2023-02-03T12:23:13.167Z"
   },
   {
    "duration": 17,
    "start_time": "2023-02-03T12:23:13.193Z"
   },
   {
    "duration": 9,
    "start_time": "2023-02-03T12:23:13.212Z"
   },
   {
    "duration": 13,
    "start_time": "2023-02-03T12:23:13.222Z"
   },
   {
    "duration": 3006,
    "start_time": "2023-02-03T12:23:13.238Z"
   },
   {
    "duration": 307093,
    "start_time": "2023-02-03T12:23:16.246Z"
   },
   {
    "duration": 6386,
    "start_time": "2023-02-03T12:28:23.341Z"
   },
   {
    "duration": 1588,
    "start_time": "2023-02-03T13:13:10.570Z"
   },
   {
    "duration": 3,
    "start_time": "2023-02-03T13:13:12.160Z"
   },
   {
    "duration": 100,
    "start_time": "2023-02-03T13:13:12.165Z"
   },
   {
    "duration": 14,
    "start_time": "2023-02-03T13:13:12.266Z"
   },
   {
    "duration": 23,
    "start_time": "2023-02-03T13:13:12.282Z"
   },
   {
    "duration": 17,
    "start_time": "2023-02-03T13:13:12.306Z"
   },
   {
    "duration": 247,
    "start_time": "2023-02-03T13:13:12.325Z"
   },
   {
    "duration": 83,
    "start_time": "2023-02-03T13:13:12.574Z"
   },
   {
    "duration": 21,
    "start_time": "2023-02-03T13:13:12.659Z"
   },
   {
    "duration": 3,
    "start_time": "2023-02-03T13:13:12.682Z"
   },
   {
    "duration": 33,
    "start_time": "2023-02-03T13:13:12.686Z"
   },
   {
    "duration": 6,
    "start_time": "2023-02-03T13:13:12.720Z"
   },
   {
    "duration": 6,
    "start_time": "2023-02-03T13:13:12.728Z"
   },
   {
    "duration": 2731,
    "start_time": "2023-02-03T13:13:12.736Z"
   },
   {
    "duration": 259835,
    "start_time": "2023-02-03T13:13:15.468Z"
   },
   {
    "duration": 4308,
    "start_time": "2023-02-03T13:17:35.310Z"
   },
   {
    "duration": 161,
    "start_time": "2023-02-03T13:26:26.322Z"
   },
   {
    "duration": 248,
    "start_time": "2023-02-03T13:26:31.290Z"
   },
   {
    "duration": 77,
    "start_time": "2023-02-03T13:26:32.239Z"
   },
   {
    "duration": 22,
    "start_time": "2023-02-03T13:26:32.526Z"
   },
   {
    "duration": 3,
    "start_time": "2023-02-03T13:26:32.799Z"
   },
   {
    "duration": 20,
    "start_time": "2023-02-03T13:26:33.376Z"
   },
   {
    "duration": 7,
    "start_time": "2023-02-03T13:26:33.701Z"
   },
   {
    "duration": 7,
    "start_time": "2023-02-03T13:26:34.272Z"
   },
   {
    "duration": 3,
    "start_time": "2023-02-03T13:27:04.152Z"
   },
   {
    "duration": 36,
    "start_time": "2023-02-03T13:27:40.052Z"
   },
   {
    "duration": 35,
    "start_time": "2023-02-03T13:29:17.441Z"
   },
   {
    "duration": 5,
    "start_time": "2023-02-03T13:29:17.789Z"
   },
   {
    "duration": 5,
    "start_time": "2023-02-03T13:29:18.164Z"
   },
   {
    "duration": 4,
    "start_time": "2023-02-03T13:29:18.578Z"
   },
   {
    "duration": 47,
    "start_time": "2023-02-03T13:29:30.615Z"
   },
   {
    "duration": 44,
    "start_time": "2023-02-03T13:29:40.396Z"
   },
   {
    "duration": 4,
    "start_time": "2023-02-03T13:31:06.679Z"
   },
   {
    "duration": 4,
    "start_time": "2023-02-03T13:31:07.052Z"
   },
   {
    "duration": 3,
    "start_time": "2023-02-03T13:31:07.667Z"
   },
   {
    "duration": 3099,
    "start_time": "2023-02-03T13:39:16.177Z"
   },
   {
    "duration": 2931,
    "start_time": "2023-02-03T13:39:36.235Z"
   },
   {
    "duration": 2888,
    "start_time": "2023-02-03T13:44:14.153Z"
   },
   {
    "duration": 2896,
    "start_time": "2023-02-03T13:44:23.544Z"
   },
   {
    "duration": 47,
    "start_time": "2023-02-03T13:45:22.794Z"
   },
   {
    "duration": 53,
    "start_time": "2023-02-03T13:45:35.584Z"
   },
   {
    "duration": 2913,
    "start_time": "2023-02-03T13:46:03.316Z"
   },
   {
    "duration": 2905,
    "start_time": "2023-02-03T13:46:57.028Z"
   },
   {
    "duration": 47,
    "start_time": "2023-02-03T13:48:27.097Z"
   },
   {
    "duration": 48,
    "start_time": "2023-02-03T13:48:53.688Z"
   },
   {
    "duration": 40,
    "start_time": "2023-02-03T13:51:12.148Z"
   },
   {
    "duration": 2910,
    "start_time": "2023-02-03T13:51:31.790Z"
   },
   {
    "duration": 2947,
    "start_time": "2023-02-03T13:52:49.724Z"
   },
   {
    "duration": 2974,
    "start_time": "2023-02-03T13:53:06.626Z"
   },
   {
    "duration": 2949,
    "start_time": "2023-02-03T13:53:49.302Z"
   },
   {
    "duration": 804,
    "start_time": "2023-02-03T14:02:30.536Z"
   },
   {
    "duration": 1418,
    "start_time": "2023-02-03T14:05:00.303Z"
   },
   {
    "duration": 3,
    "start_time": "2023-02-03T14:05:01.723Z"
   },
   {
    "duration": 56,
    "start_time": "2023-02-03T14:05:01.727Z"
   },
   {
    "duration": 16,
    "start_time": "2023-02-03T14:05:01.784Z"
   },
   {
    "duration": 28,
    "start_time": "2023-02-03T14:05:01.803Z"
   },
   {
    "duration": 14,
    "start_time": "2023-02-03T14:05:01.833Z"
   },
   {
    "duration": 297,
    "start_time": "2023-02-03T14:05:01.849Z"
   },
   {
    "duration": 93,
    "start_time": "2023-02-03T14:05:02.147Z"
   },
   {
    "duration": 24,
    "start_time": "2023-02-03T14:05:02.242Z"
   },
   {
    "duration": 4,
    "start_time": "2023-02-03T14:05:02.268Z"
   },
   {
    "duration": 37,
    "start_time": "2023-02-03T14:05:02.273Z"
   },
   {
    "duration": 8,
    "start_time": "2023-02-03T14:05:02.311Z"
   },
   {
    "duration": 8,
    "start_time": "2023-02-03T14:05:02.320Z"
   },
   {
    "duration": 45,
    "start_time": "2023-02-03T14:05:02.332Z"
   },
   {
    "duration": 4,
    "start_time": "2023-02-03T14:05:02.378Z"
   },
   {
    "duration": 5,
    "start_time": "2023-02-03T14:05:02.409Z"
   },
   {
    "duration": 13,
    "start_time": "2023-02-03T14:05:02.415Z"
   },
   {
    "duration": 7,
    "start_time": "2023-02-03T14:05:02.429Z"
   },
   {
    "duration": 5,
    "start_time": "2023-02-03T14:05:02.437Z"
   },
   {
    "duration": 6,
    "start_time": "2023-02-03T14:05:02.444Z"
   },
   {
    "duration": 2978,
    "start_time": "2023-02-03T14:05:02.452Z"
   },
   {
    "duration": 1282,
    "start_time": "2023-02-03T14:06:28.461Z"
   },
   {
    "duration": 3,
    "start_time": "2023-02-03T14:06:29.744Z"
   },
   {
    "duration": 48,
    "start_time": "2023-02-03T14:06:29.749Z"
   },
   {
    "duration": 14,
    "start_time": "2023-02-03T14:06:29.798Z"
   },
   {
    "duration": 14,
    "start_time": "2023-02-03T14:06:29.814Z"
   },
   {
    "duration": 12,
    "start_time": "2023-02-03T14:06:29.830Z"
   },
   {
    "duration": 256,
    "start_time": "2023-02-03T14:06:29.844Z"
   },
   {
    "duration": 84,
    "start_time": "2023-02-03T14:06:30.101Z"
   },
   {
    "duration": 29,
    "start_time": "2023-02-03T14:06:30.187Z"
   },
   {
    "duration": 3,
    "start_time": "2023-02-03T14:06:30.218Z"
   },
   {
    "duration": 43,
    "start_time": "2023-02-03T14:06:30.223Z"
   },
   {
    "duration": 9,
    "start_time": "2023-02-03T14:06:30.268Z"
   },
   {
    "duration": 27,
    "start_time": "2023-02-03T14:06:30.279Z"
   },
   {
    "duration": 59,
    "start_time": "2023-02-03T14:06:30.309Z"
   },
   {
    "duration": 16,
    "start_time": "2023-02-03T14:06:30.370Z"
   },
   {
    "duration": 31,
    "start_time": "2023-02-03T14:06:30.388Z"
   },
   {
    "duration": 39,
    "start_time": "2023-02-03T14:06:30.420Z"
   },
   {
    "duration": 29,
    "start_time": "2023-02-03T14:06:30.460Z"
   },
   {
    "duration": 35,
    "start_time": "2023-02-03T14:06:30.490Z"
   },
   {
    "duration": 27,
    "start_time": "2023-02-03T14:06:30.526Z"
   },
   {
    "duration": 2927,
    "start_time": "2023-02-03T14:06:30.555Z"
   },
   {
    "duration": 294566,
    "start_time": "2023-02-03T14:06:33.483Z"
   },
   {
    "duration": 122,
    "start_time": "2023-02-03T14:11:28.051Z"
   },
   {
    "duration": 13332,
    "start_time": "2023-02-03T14:12:14.003Z"
   },
   {
    "duration": 102,
    "start_time": "2023-02-03T14:12:28.418Z"
   },
   {
    "duration": 13168,
    "start_time": "2023-02-03T14:12:34.865Z"
   },
   {
    "duration": 12953,
    "start_time": "2023-02-03T14:12:51.635Z"
   },
   {
    "duration": 21553,
    "start_time": "2023-02-03T14:14:26.766Z"
   },
   {
    "duration": 295583,
    "start_time": "2023-02-03T14:17:25.878Z"
   },
   {
    "duration": 20945,
    "start_time": "2023-02-03T14:22:28.151Z"
   },
   {
    "duration": 21647,
    "start_time": "2023-02-03T14:25:25.453Z"
   },
   {
    "duration": 20964,
    "start_time": "2023-02-03T14:28:12.850Z"
   },
   {
    "duration": 1332,
    "start_time": "2023-02-03T14:29:09.119Z"
   },
   {
    "duration": 3,
    "start_time": "2023-02-03T14:29:10.453Z"
   },
   {
    "duration": 48,
    "start_time": "2023-02-03T14:29:10.457Z"
   },
   {
    "duration": 13,
    "start_time": "2023-02-03T14:29:10.507Z"
   },
   {
    "duration": 16,
    "start_time": "2023-02-03T14:29:10.522Z"
   },
   {
    "duration": 13,
    "start_time": "2023-02-03T14:29:10.539Z"
   },
   {
    "duration": 273,
    "start_time": "2023-02-03T14:29:10.553Z"
   },
   {
    "duration": 86,
    "start_time": "2023-02-03T14:29:10.827Z"
   },
   {
    "duration": 23,
    "start_time": "2023-02-03T14:29:10.914Z"
   },
   {
    "duration": 3,
    "start_time": "2023-02-03T14:29:10.939Z"
   },
   {
    "duration": 22,
    "start_time": "2023-02-03T14:29:10.944Z"
   },
   {
    "duration": 6,
    "start_time": "2023-02-03T14:29:10.968Z"
   },
   {
    "duration": 7,
    "start_time": "2023-02-03T14:29:10.975Z"
   },
   {
    "duration": 43,
    "start_time": "2023-02-03T14:29:11.009Z"
   },
   {
    "duration": 4,
    "start_time": "2023-02-03T14:29:11.054Z"
   },
   {
    "duration": 5,
    "start_time": "2023-02-03T14:29:11.060Z"
   },
   {
    "duration": 3,
    "start_time": "2023-02-03T14:29:11.067Z"
   },
   {
    "duration": 7,
    "start_time": "2023-02-03T14:29:11.071Z"
   },
   {
    "duration": 6,
    "start_time": "2023-02-03T14:29:11.079Z"
   },
   {
    "duration": 25,
    "start_time": "2023-02-03T14:29:11.087Z"
   },
   {
    "duration": 458,
    "start_time": "2023-02-03T14:29:11.114Z"
   },
   {
    "duration": 0,
    "start_time": "2023-02-03T14:29:11.574Z"
   },
   {
    "duration": 0,
    "start_time": "2023-02-03T14:29:11.576Z"
   },
   {
    "duration": 325,
    "start_time": "2023-02-03T14:30:27.386Z"
   },
   {
    "duration": 713,
    "start_time": "2023-02-03T14:30:48.991Z"
   },
   {
    "duration": 21304,
    "start_time": "2023-02-03T14:31:41.102Z"
   },
   {
    "duration": 21955,
    "start_time": "2023-02-03T14:33:05.881Z"
   },
   {
    "duration": 1652,
    "start_time": "2023-02-10T20:54:31.336Z"
   },
   {
    "duration": 3,
    "start_time": "2023-02-10T20:54:32.990Z"
   },
   {
    "duration": 197,
    "start_time": "2023-02-10T20:54:32.994Z"
   },
   {
    "duration": 13,
    "start_time": "2023-02-10T20:54:33.192Z"
   },
   {
    "duration": 14,
    "start_time": "2023-02-10T20:54:33.207Z"
   },
   {
    "duration": 15,
    "start_time": "2023-02-10T20:54:33.223Z"
   },
   {
    "duration": 230,
    "start_time": "2023-02-10T20:54:33.239Z"
   },
   {
    "duration": 106,
    "start_time": "2023-02-10T20:54:33.470Z"
   },
   {
    "duration": 26,
    "start_time": "2023-02-10T20:54:33.577Z"
   },
   {
    "duration": 39,
    "start_time": "2023-02-10T20:54:33.605Z"
   },
   {
    "duration": 34,
    "start_time": "2023-02-10T20:54:33.646Z"
   },
   {
    "duration": 45,
    "start_time": "2023-02-10T20:54:33.682Z"
   },
   {
    "duration": 8,
    "start_time": "2023-02-10T20:54:33.729Z"
   },
   {
    "duration": 45,
    "start_time": "2023-02-10T20:54:33.740Z"
   },
   {
    "duration": 126,
    "start_time": "2023-02-10T20:54:33.787Z"
   },
   {
    "duration": 28,
    "start_time": "2023-02-10T20:55:07.344Z"
   },
   {
    "duration": 25,
    "start_time": "2023-02-10T20:55:25.840Z"
   },
   {
    "duration": 4,
    "start_time": "2023-02-10T21:01:46.092Z"
   },
   {
    "duration": 26,
    "start_time": "2023-02-10T21:03:37.287Z"
   },
   {
    "duration": 10,
    "start_time": "2023-02-10T21:05:13.293Z"
   },
   {
    "duration": 29,
    "start_time": "2023-02-10T21:05:26.574Z"
   },
   {
    "duration": 20,
    "start_time": "2023-02-10T21:06:06.146Z"
   },
   {
    "duration": 5,
    "start_time": "2023-02-10T21:06:12.079Z"
   },
   {
    "duration": 5,
    "start_time": "2023-02-10T21:06:12.087Z"
   },
   {
    "duration": 46,
    "start_time": "2023-02-10T21:06:12.094Z"
   },
   {
    "duration": 19,
    "start_time": "2023-02-10T21:06:12.142Z"
   },
   {
    "duration": 26,
    "start_time": "2023-02-10T21:06:12.165Z"
   },
   {
    "duration": 15,
    "start_time": "2023-02-10T21:06:12.193Z"
   },
   {
    "duration": 19,
    "start_time": "2023-02-10T21:06:12.209Z"
   },
   {
    "duration": 6,
    "start_time": "2023-02-10T21:06:12.230Z"
   },
   {
    "duration": 16,
    "start_time": "2023-02-10T21:06:12.238Z"
   },
   {
    "duration": 14,
    "start_time": "2023-02-10T21:06:12.255Z"
   },
   {
    "duration": 7,
    "start_time": "2023-02-10T21:06:12.271Z"
   },
   {
    "duration": 7,
    "start_time": "2023-02-10T21:06:12.279Z"
   },
   {
    "duration": 8,
    "start_time": "2023-02-10T21:06:12.288Z"
   },
   {
    "duration": 12,
    "start_time": "2023-02-10T21:06:12.299Z"
   },
   {
    "duration": 12,
    "start_time": "2023-02-10T21:06:12.313Z"
   },
   {
    "duration": 11,
    "start_time": "2023-02-10T21:07:56.577Z"
   },
   {
    "duration": 10,
    "start_time": "2023-02-10T21:12:38.829Z"
   },
   {
    "duration": 9,
    "start_time": "2023-02-10T21:14:29.125Z"
   },
   {
    "duration": 11,
    "start_time": "2023-02-10T21:14:32.867Z"
   },
   {
    "duration": 5,
    "start_time": "2023-02-10T21:16:01.878Z"
   },
   {
    "duration": 4,
    "start_time": "2023-02-10T21:20:21.163Z"
   },
   {
    "duration": 10,
    "start_time": "2023-02-10T21:20:44.566Z"
   },
   {
    "duration": 4,
    "start_time": "2023-02-10T21:20:52.742Z"
   },
   {
    "duration": 22,
    "start_time": "2023-02-10T21:20:52.749Z"
   },
   {
    "duration": 52,
    "start_time": "2023-02-10T21:20:52.772Z"
   },
   {
    "duration": 14,
    "start_time": "2023-02-10T21:20:52.827Z"
   },
   {
    "duration": 21,
    "start_time": "2023-02-10T21:20:52.845Z"
   },
   {
    "duration": 32,
    "start_time": "2023-02-10T21:20:52.868Z"
   },
   {
    "duration": 27,
    "start_time": "2023-02-10T21:20:52.902Z"
   },
   {
    "duration": 19,
    "start_time": "2023-02-10T21:20:52.932Z"
   },
   {
    "duration": 5,
    "start_time": "2023-02-10T21:20:52.958Z"
   },
   {
    "duration": 10,
    "start_time": "2023-02-10T21:20:52.968Z"
   },
   {
    "duration": 15,
    "start_time": "2023-02-10T21:20:52.980Z"
   },
   {
    "duration": 9,
    "start_time": "2023-02-10T21:20:52.997Z"
   },
   {
    "duration": 15,
    "start_time": "2023-02-10T21:20:53.008Z"
   },
   {
    "duration": 7,
    "start_time": "2023-02-10T21:20:53.027Z"
   },
   {
    "duration": 24,
    "start_time": "2023-02-10T21:20:53.036Z"
   },
   {
    "duration": 16,
    "start_time": "2023-02-10T21:20:53.062Z"
   },
   {
    "duration": 6,
    "start_time": "2023-02-10T21:20:53.080Z"
   },
   {
    "duration": 13,
    "start_time": "2023-02-10T21:20:53.088Z"
   },
   {
    "duration": 14,
    "start_time": "2023-02-10T21:21:14.166Z"
   },
   {
    "duration": 5,
    "start_time": "2023-02-10T21:21:18.031Z"
   },
   {
    "duration": 11,
    "start_time": "2023-02-10T21:21:18.038Z"
   },
   {
    "duration": 59,
    "start_time": "2023-02-10T21:21:18.054Z"
   },
   {
    "duration": 11,
    "start_time": "2023-02-10T21:21:18.114Z"
   },
   {
    "duration": 15,
    "start_time": "2023-02-10T21:21:18.128Z"
   },
   {
    "duration": 23,
    "start_time": "2023-02-10T21:21:18.145Z"
   },
   {
    "duration": 25,
    "start_time": "2023-02-10T21:21:18.170Z"
   },
   {
    "duration": 5,
    "start_time": "2023-02-10T21:21:18.197Z"
   },
   {
    "duration": 5,
    "start_time": "2023-02-10T21:21:18.204Z"
   },
   {
    "duration": 5,
    "start_time": "2023-02-10T21:21:18.210Z"
   },
   {
    "duration": 13,
    "start_time": "2023-02-10T21:21:18.216Z"
   },
   {
    "duration": 37,
    "start_time": "2023-02-10T21:21:18.230Z"
   },
   {
    "duration": 6,
    "start_time": "2023-02-10T21:21:18.269Z"
   },
   {
    "duration": 8,
    "start_time": "2023-02-10T21:21:18.278Z"
   },
   {
    "duration": 14,
    "start_time": "2023-02-10T21:21:18.287Z"
   },
   {
    "duration": 37,
    "start_time": "2023-02-10T21:21:18.302Z"
   },
   {
    "duration": 22,
    "start_time": "2023-02-10T21:21:18.341Z"
   },
   {
    "duration": 21,
    "start_time": "2023-02-10T21:21:18.365Z"
   },
   {
    "duration": 11,
    "start_time": "2023-02-10T21:23:26.774Z"
   },
   {
    "duration": 135,
    "start_time": "2023-02-10T21:30:40.223Z"
   },
   {
    "duration": 18136,
    "start_time": "2023-02-10T21:32:02.236Z"
   },
   {
    "duration": 27293,
    "start_time": "2023-02-10T21:32:43.445Z"
   },
   {
    "duration": 218,
    "start_time": "2023-02-10T21:33:12.946Z"
   },
   {
    "duration": 4,
    "start_time": "2023-02-10T21:35:08.419Z"
   },
   {
    "duration": 10,
    "start_time": "2023-02-10T21:35:08.425Z"
   },
   {
    "duration": 59,
    "start_time": "2023-02-10T21:35:08.436Z"
   },
   {
    "duration": 11,
    "start_time": "2023-02-10T21:35:08.496Z"
   },
   {
    "duration": 14,
    "start_time": "2023-02-10T21:35:08.509Z"
   },
   {
    "duration": 13,
    "start_time": "2023-02-10T21:35:08.524Z"
   },
   {
    "duration": 25,
    "start_time": "2023-02-10T21:35:08.539Z"
   },
   {
    "duration": 7,
    "start_time": "2023-02-10T21:35:08.565Z"
   },
   {
    "duration": 5,
    "start_time": "2023-02-10T21:35:08.574Z"
   },
   {
    "duration": 10,
    "start_time": "2023-02-10T21:35:08.580Z"
   },
   {
    "duration": 13,
    "start_time": "2023-02-10T21:35:08.591Z"
   },
   {
    "duration": 15,
    "start_time": "2023-02-10T21:35:08.605Z"
   },
   {
    "duration": 8,
    "start_time": "2023-02-10T21:35:08.622Z"
   },
   {
    "duration": 6,
    "start_time": "2023-02-10T21:35:08.632Z"
   },
   {
    "duration": 17,
    "start_time": "2023-02-10T21:35:08.639Z"
   },
   {
    "duration": 44,
    "start_time": "2023-02-10T21:35:08.659Z"
   },
   {
    "duration": 11,
    "start_time": "2023-02-10T21:35:08.704Z"
   },
   {
    "duration": 170,
    "start_time": "2023-02-10T21:35:08.717Z"
   },
   {
    "duration": 29279,
    "start_time": "2023-02-10T21:35:08.889Z"
   },
   {
    "duration": 382,
    "start_time": "2023-02-10T21:35:38.169Z"
   },
   {
    "duration": 11,
    "start_time": "2023-02-10T21:36:26.985Z"
   },
   {
    "duration": 6,
    "start_time": "2023-02-10T21:42:06.867Z"
   },
   {
    "duration": 4,
    "start_time": "2023-02-10T21:57:19.489Z"
   },
   {
    "duration": 21,
    "start_time": "2023-02-10T22:05:00.778Z"
   },
   {
    "duration": 224,
    "start_time": "2023-02-10T22:05:13.382Z"
   },
   {
    "duration": 18,
    "start_time": "2023-02-10T22:06:50.110Z"
   },
   {
    "duration": 5,
    "start_time": "2023-02-10T22:07:06.781Z"
   },
   {
    "duration": 12,
    "start_time": "2023-02-10T22:07:06.788Z"
   },
   {
    "duration": 46,
    "start_time": "2023-02-10T22:07:06.801Z"
   },
   {
    "duration": 16,
    "start_time": "2023-02-10T22:07:06.850Z"
   },
   {
    "duration": 35,
    "start_time": "2023-02-10T22:07:06.871Z"
   },
   {
    "duration": 51,
    "start_time": "2023-02-10T22:07:06.908Z"
   },
   {
    "duration": 17,
    "start_time": "2023-02-10T22:07:06.967Z"
   },
   {
    "duration": 21,
    "start_time": "2023-02-10T22:07:06.986Z"
   },
   {
    "duration": 6,
    "start_time": "2023-02-10T22:07:07.009Z"
   },
   {
    "duration": 5,
    "start_time": "2023-02-10T22:07:07.016Z"
   },
   {
    "duration": 7,
    "start_time": "2023-02-10T22:07:07.023Z"
   },
   {
    "duration": 6,
    "start_time": "2023-02-10T22:07:07.032Z"
   },
   {
    "duration": 16,
    "start_time": "2023-02-10T22:07:07.041Z"
   },
   {
    "duration": 32,
    "start_time": "2023-02-10T22:07:07.060Z"
   },
   {
    "duration": 7,
    "start_time": "2023-02-10T22:07:07.094Z"
   },
   {
    "duration": 16,
    "start_time": "2023-02-10T22:07:07.103Z"
   },
   {
    "duration": 54,
    "start_time": "2023-02-10T22:07:07.121Z"
   },
   {
    "duration": 13,
    "start_time": "2023-02-10T22:07:07.177Z"
   },
   {
    "duration": 11,
    "start_time": "2023-02-10T22:07:07.194Z"
   },
   {
    "duration": 17,
    "start_time": "2023-02-10T22:07:07.207Z"
   },
   {
    "duration": 0,
    "start_time": "2023-02-10T22:07:07.225Z"
   },
   {
    "duration": 0,
    "start_time": "2023-02-10T22:07:07.227Z"
   },
   {
    "duration": 0,
    "start_time": "2023-02-10T22:07:07.228Z"
   },
   {
    "duration": 217,
    "start_time": "2023-02-10T22:07:15.998Z"
   },
   {
    "duration": 225,
    "start_time": "2023-02-10T22:08:27.774Z"
   },
   {
    "duration": 29500,
    "start_time": "2023-02-10T22:12:27.678Z"
   },
   {
    "duration": 443,
    "start_time": "2023-02-10T22:14:41.408Z"
   },
   {
    "duration": 51,
    "start_time": "2023-02-11T06:29:30.393Z"
   },
   {
    "duration": 1577,
    "start_time": "2023-02-11T06:29:33.667Z"
   },
   {
    "duration": 3,
    "start_time": "2023-02-11T06:29:35.246Z"
   },
   {
    "duration": 115,
    "start_time": "2023-02-11T06:29:35.251Z"
   },
   {
    "duration": 14,
    "start_time": "2023-02-11T06:29:35.368Z"
   },
   {
    "duration": 21,
    "start_time": "2023-02-11T06:29:35.384Z"
   },
   {
    "duration": 14,
    "start_time": "2023-02-11T06:29:35.406Z"
   },
   {
    "duration": 36,
    "start_time": "2023-02-11T06:29:35.421Z"
   },
   {
    "duration": 34,
    "start_time": "2023-02-11T06:29:35.458Z"
   },
   {
    "duration": 7,
    "start_time": "2023-02-11T06:29:35.494Z"
   },
   {
    "duration": 27,
    "start_time": "2023-02-11T06:29:35.502Z"
   },
   {
    "duration": 30,
    "start_time": "2023-02-11T06:29:35.531Z"
   },
   {
    "duration": 13,
    "start_time": "2023-02-11T06:29:35.563Z"
   },
   {
    "duration": 12,
    "start_time": "2023-02-11T06:29:35.578Z"
   },
   {
    "duration": 12,
    "start_time": "2023-02-11T06:29:35.594Z"
   },
   {
    "duration": 9,
    "start_time": "2023-02-11T06:29:35.608Z"
   },
   {
    "duration": 46,
    "start_time": "2023-02-11T06:29:35.618Z"
   },
   {
    "duration": 42,
    "start_time": "2023-02-11T06:29:35.666Z"
   },
   {
    "duration": 11,
    "start_time": "2023-02-11T06:29:35.710Z"
   },
   {
    "duration": 8,
    "start_time": "2023-02-11T06:29:35.722Z"
   },
   {
    "duration": 189,
    "start_time": "2023-02-11T06:29:35.732Z"
   },
   {
    "duration": 29218,
    "start_time": "2023-02-11T06:29:35.923Z"
   },
   {
    "duration": 300,
    "start_time": "2023-02-11T06:30:05.142Z"
   },
   {
    "duration": 303,
    "start_time": "2023-02-11T06:30:05.445Z"
   },
   {
    "duration": 197,
    "start_time": "2023-02-11T06:31:29.395Z"
   },
   {
    "duration": 28837,
    "start_time": "2023-02-11T06:31:38.489Z"
   },
   {
    "duration": 535,
    "start_time": "2023-02-11T06:32:07.328Z"
   },
   {
    "duration": 4,
    "start_time": "2023-02-11T06:42:04.150Z"
   },
   {
    "duration": 87,
    "start_time": "2023-02-11T06:48:54.990Z"
   },
   {
    "duration": 17,
    "start_time": "2023-02-11T06:49:03.078Z"
   },
   {
    "duration": 13,
    "start_time": "2023-02-11T06:49:19.162Z"
   },
   {
    "duration": 65,
    "start_time": "2023-02-11T06:51:14.585Z"
   },
   {
    "duration": 6,
    "start_time": "2023-02-11T06:51:44.267Z"
   },
   {
    "duration": 9,
    "start_time": "2023-02-11T06:51:44.276Z"
   },
   {
    "duration": 67,
    "start_time": "2023-02-11T06:51:44.288Z"
   },
   {
    "duration": 12,
    "start_time": "2023-02-11T06:51:44.356Z"
   },
   {
    "duration": 31,
    "start_time": "2023-02-11T06:51:44.372Z"
   },
   {
    "duration": 40,
    "start_time": "2023-02-11T06:51:44.405Z"
   },
   {
    "duration": 13,
    "start_time": "2023-02-11T06:51:44.446Z"
   },
   {
    "duration": 44,
    "start_time": "2023-02-11T06:51:44.461Z"
   },
   {
    "duration": 12,
    "start_time": "2023-02-11T06:51:44.507Z"
   },
   {
    "duration": 9,
    "start_time": "2023-02-11T06:51:44.521Z"
   },
   {
    "duration": 4,
    "start_time": "2023-02-11T06:51:44.540Z"
   },
   {
    "duration": 9,
    "start_time": "2023-02-11T06:51:44.546Z"
   },
   {
    "duration": 10,
    "start_time": "2023-02-11T06:51:44.557Z"
   },
   {
    "duration": 5,
    "start_time": "2023-02-11T06:51:44.570Z"
   },
   {
    "duration": 5,
    "start_time": "2023-02-11T06:51:44.578Z"
   },
   {
    "duration": 10,
    "start_time": "2023-02-11T06:51:44.585Z"
   },
   {
    "duration": 72,
    "start_time": "2023-02-11T06:51:44.597Z"
   },
   {
    "duration": 13,
    "start_time": "2023-02-11T06:51:44.672Z"
   },
   {
    "duration": 9,
    "start_time": "2023-02-11T06:51:44.687Z"
   },
   {
    "duration": 215,
    "start_time": "2023-02-11T06:51:44.698Z"
   },
   {
    "duration": 31206,
    "start_time": "2023-02-11T06:51:44.916Z"
   },
   {
    "duration": 218,
    "start_time": "2023-02-11T06:52:16.124Z"
   },
   {
    "duration": 637,
    "start_time": "2023-02-11T06:52:16.345Z"
   },
   {
    "duration": 29756,
    "start_time": "2023-02-11T06:52:16.984Z"
   },
   {
    "duration": 110,
    "start_time": "2023-02-11T06:52:46.741Z"
   },
   {
    "duration": 110,
    "start_time": "2023-02-11T06:52:46.942Z"
   },
   {
    "duration": 290,
    "start_time": "2023-02-11T06:52:47.054Z"
   },
   {
    "duration": 23,
    "start_time": "2023-02-11T06:53:21.729Z"
   },
   {
    "duration": 11,
    "start_time": "2023-02-11T06:53:51.975Z"
   },
   {
    "duration": 11,
    "start_time": "2023-02-11T06:54:29.568Z"
   },
   {
    "duration": 7,
    "start_time": "2023-02-11T06:55:05.546Z"
   },
   {
    "duration": 48,
    "start_time": "2023-02-11T06:55:58.142Z"
   },
   {
    "duration": 6,
    "start_time": "2023-02-11T06:56:03.463Z"
   },
   {
    "duration": 70,
    "start_time": "2023-02-12T21:43:21.090Z"
   },
   {
    "duration": 1647,
    "start_time": "2023-02-12T21:43:24.856Z"
   },
   {
    "duration": 3,
    "start_time": "2023-02-12T21:43:26.506Z"
   },
   {
    "duration": 207,
    "start_time": "2023-02-12T21:43:26.512Z"
   },
   {
    "duration": 20,
    "start_time": "2023-02-12T21:43:26.721Z"
   },
   {
    "duration": 23,
    "start_time": "2023-02-12T21:43:26.745Z"
   },
   {
    "duration": 21,
    "start_time": "2023-02-12T21:43:26.770Z"
   },
   {
    "duration": 12,
    "start_time": "2023-02-12T21:43:26.793Z"
   },
   {
    "duration": 50,
    "start_time": "2023-02-12T21:43:26.807Z"
   },
   {
    "duration": 8,
    "start_time": "2023-02-12T21:43:26.859Z"
   },
   {
    "duration": 6,
    "start_time": "2023-02-12T21:43:26.869Z"
   },
   {
    "duration": 10,
    "start_time": "2023-02-12T21:43:26.877Z"
   },
   {
    "duration": 14,
    "start_time": "2023-02-12T21:43:26.889Z"
   },
   {
    "duration": 7,
    "start_time": "2023-02-12T21:43:26.904Z"
   },
   {
    "duration": 6,
    "start_time": "2023-02-12T21:43:26.936Z"
   },
   {
    "duration": 18,
    "start_time": "2023-02-12T21:43:26.944Z"
   },
   {
    "duration": 35,
    "start_time": "2023-02-12T21:43:26.965Z"
   },
   {
    "duration": 60,
    "start_time": "2023-02-12T21:43:27.002Z"
   },
   {
    "duration": 18,
    "start_time": "2023-02-12T21:43:27.064Z"
   },
   {
    "duration": 8,
    "start_time": "2023-02-12T21:43:27.084Z"
   },
   {
    "duration": 216,
    "start_time": "2023-02-12T21:43:27.094Z"
   },
   {
    "duration": 31181,
    "start_time": "2023-02-12T21:43:27.314Z"
   },
   {
    "duration": 154,
    "start_time": "2023-02-12T21:43:58.496Z"
   },
   {
    "duration": 627,
    "start_time": "2023-02-12T21:43:58.651Z"
   },
   {
    "duration": 29211,
    "start_time": "2023-02-12T21:43:59.280Z"
   },
   {
    "duration": 145,
    "start_time": "2023-02-12T21:44:28.495Z"
   },
   {
    "duration": 96,
    "start_time": "2023-02-12T21:44:28.643Z"
   },
   {
    "duration": 7,
    "start_time": "2023-02-12T21:44:28.741Z"
   },
   {
    "duration": 9,
    "start_time": "2023-02-12T21:44:28.750Z"
   },
   {
    "duration": 949,
    "start_time": "2023-02-12T21:44:28.761Z"
   },
   {
    "duration": 41362,
    "start_time": "2023-02-12T21:44:29.712Z"
   },
   {
    "duration": 567,
    "start_time": "2023-02-12T21:45:11.076Z"
   },
   {
    "duration": 77,
    "start_time": "2023-02-12T21:52:07.756Z"
   },
   {
    "duration": 13,
    "start_time": "2023-02-12T21:52:11.348Z"
   },
   {
    "duration": 6,
    "start_time": "2023-02-12T21:52:11.845Z"
   },
   {
    "duration": 6,
    "start_time": "2023-02-12T21:52:13.059Z"
   },
   {
    "duration": 339,
    "start_time": "2023-02-12T21:54:07.972Z"
   },
   {
    "duration": 44904,
    "start_time": "2023-02-12T21:55:46.658Z"
   },
   {
    "duration": 637,
    "start_time": "2023-02-12T21:57:29.204Z"
   },
   {
    "duration": 39795,
    "start_time": "2023-02-12T21:57:56.487Z"
   },
   {
    "duration": 391,
    "start_time": "2023-02-12T21:58:36.284Z"
   },
   {
    "duration": 308,
    "start_time": "2023-02-12T21:58:54.892Z"
   },
   {
    "duration": 15829,
    "start_time": "2023-02-12T21:59:07.637Z"
   },
   {
    "duration": 98,
    "start_time": "2023-02-12T21:59:30.045Z"
   },
   {
    "duration": 283,
    "start_time": "2023-02-12T22:00:08.580Z"
   },
   {
    "duration": 68,
    "start_time": "2023-02-12T22:07:16.492Z"
   },
   {
    "duration": 75,
    "start_time": "2023-02-12T22:07:33.075Z"
   },
   {
    "duration": 299,
    "start_time": "2023-02-12T22:07:57.170Z"
   },
   {
    "duration": 556,
    "start_time": "2023-02-12T22:08:34.058Z"
   },
   {
    "duration": 99,
    "start_time": "2023-02-12T22:08:39.940Z"
   },
   {
    "duration": 85,
    "start_time": "2023-02-12T22:09:08.620Z"
   },
   {
    "duration": 367,
    "start_time": "2023-02-12T22:10:35.992Z"
   },
   {
    "duration": 350,
    "start_time": "2023-02-12T22:12:10.693Z"
   },
   {
    "duration": 368,
    "start_time": "2023-02-12T22:14:11.700Z"
   },
   {
    "duration": 446,
    "start_time": "2023-02-12T22:15:07.425Z"
   },
   {
    "duration": 29,
    "start_time": "2023-02-12T22:19:52.194Z"
   },
   {
    "duration": 33,
    "start_time": "2023-02-12T22:20:25.684Z"
   },
   {
    "duration": 2445,
    "start_time": "2023-02-12T22:23:20.455Z"
   },
   {
    "duration": 697,
    "start_time": "2023-02-12T22:24:17.023Z"
   },
   {
    "duration": 14,
    "start_time": "2023-02-12T22:25:58.170Z"
   },
   {
    "duration": 10,
    "start_time": "2023-02-12T22:26:16.638Z"
   },
   {
    "duration": 12,
    "start_time": "2023-02-12T22:26:53.769Z"
   },
   {
    "duration": 673,
    "start_time": "2023-02-12T22:27:12.087Z"
   },
   {
    "duration": 675,
    "start_time": "2023-02-12T22:27:42.578Z"
   },
   {
    "duration": 1411,
    "start_time": "2023-02-12T22:28:35.081Z"
   },
   {
    "duration": 5,
    "start_time": "2023-02-12T22:28:36.494Z"
   },
   {
    "duration": 54,
    "start_time": "2023-02-12T22:28:36.501Z"
   },
   {
    "duration": 18,
    "start_time": "2023-02-12T22:28:36.557Z"
   },
   {
    "duration": 16,
    "start_time": "2023-02-12T22:28:36.578Z"
   },
   {
    "duration": 47,
    "start_time": "2023-02-12T22:28:36.595Z"
   },
   {
    "duration": 13,
    "start_time": "2023-02-12T22:28:36.644Z"
   },
   {
    "duration": 29,
    "start_time": "2023-02-12T22:28:36.659Z"
   },
   {
    "duration": 8,
    "start_time": "2023-02-12T22:28:36.689Z"
   },
   {
    "duration": 5,
    "start_time": "2023-02-12T22:28:36.699Z"
   },
   {
    "duration": 33,
    "start_time": "2023-02-12T22:28:36.706Z"
   },
   {
    "duration": 9,
    "start_time": "2023-02-12T22:28:36.740Z"
   },
   {
    "duration": 7,
    "start_time": "2023-02-12T22:28:36.751Z"
   },
   {
    "duration": 5,
    "start_time": "2023-02-12T22:28:36.761Z"
   },
   {
    "duration": 11,
    "start_time": "2023-02-12T22:28:36.767Z"
   },
   {
    "duration": 14,
    "start_time": "2023-02-12T22:28:36.781Z"
   },
   {
    "duration": 68,
    "start_time": "2023-02-12T22:28:36.796Z"
   },
   {
    "duration": 12,
    "start_time": "2023-02-12T22:28:36.866Z"
   },
   {
    "duration": 39,
    "start_time": "2023-02-12T22:28:36.880Z"
   },
   {
    "duration": 188,
    "start_time": "2023-02-12T22:28:36.921Z"
   },
   {
    "duration": 29369,
    "start_time": "2023-02-12T22:28:37.111Z"
   },
   {
    "duration": 157,
    "start_time": "2023-02-12T22:29:06.482Z"
   },
   {
    "duration": 614,
    "start_time": "2023-02-12T22:29:06.642Z"
   },
   {
    "duration": 27814,
    "start_time": "2023-02-12T22:29:07.257Z"
   },
   {
    "duration": 77,
    "start_time": "2023-02-12T22:29:35.073Z"
   },
   {
    "duration": 98,
    "start_time": "2023-02-12T22:29:35.239Z"
   },
   {
    "duration": 32,
    "start_time": "2023-02-12T22:29:35.339Z"
   },
   {
    "duration": 27,
    "start_time": "2023-02-12T22:29:35.374Z"
   },
   {
    "duration": 605,
    "start_time": "2023-02-12T22:29:35.403Z"
   },
   {
    "duration": 38099,
    "start_time": "2023-02-12T22:29:36.010Z"
   },
   {
    "duration": 455,
    "start_time": "2023-02-12T22:30:14.111Z"
   },
   {
    "duration": 11,
    "start_time": "2023-02-12T22:30:14.567Z"
   },
   {
    "duration": 13,
    "start_time": "2023-02-12T22:30:14.580Z"
   },
   {
    "duration": 11,
    "start_time": "2023-02-12T22:30:14.595Z"
   },
   {
    "duration": 318,
    "start_time": "2023-02-12T22:30:14.608Z"
   },
   {
    "duration": 15090,
    "start_time": "2023-02-12T22:30:14.927Z"
   },
   {
    "duration": 427,
    "start_time": "2023-02-12T22:30:30.020Z"
   },
   {
    "duration": 701,
    "start_time": "2023-02-12T22:30:30.449Z"
   },
   {
    "duration": 11,
    "start_time": "2023-02-12T22:30:31.152Z"
   },
   {
    "duration": 598,
    "start_time": "2023-02-12T22:32:05.539Z"
   },
   {
    "duration": 182,
    "start_time": "2023-02-12T22:34:12.888Z"
   },
   {
    "duration": 175,
    "start_time": "2023-02-12T22:34:29.810Z"
   },
   {
    "duration": 175,
    "start_time": "2023-02-12T22:35:51.847Z"
   },
   {
    "duration": 28125,
    "start_time": "2023-02-12T22:38:04.202Z"
   },
   {
    "duration": 627,
    "start_time": "2023-02-12T22:41:24.455Z"
   },
   {
    "duration": 5,
    "start_time": "2023-02-12T22:41:39.554Z"
   },
   {
    "duration": 7,
    "start_time": "2023-02-12T22:41:39.560Z"
   },
   {
    "duration": 53,
    "start_time": "2023-02-12T22:41:39.568Z"
   },
   {
    "duration": 11,
    "start_time": "2023-02-12T22:41:39.623Z"
   },
   {
    "duration": 16,
    "start_time": "2023-02-12T22:41:39.636Z"
   },
   {
    "duration": 17,
    "start_time": "2023-02-12T22:41:39.654Z"
   },
   {
    "duration": 12,
    "start_time": "2023-02-12T22:41:39.672Z"
   },
   {
    "duration": 50,
    "start_time": "2023-02-12T22:41:39.686Z"
   },
   {
    "duration": 7,
    "start_time": "2023-02-12T22:41:39.739Z"
   },
   {
    "duration": 6,
    "start_time": "2023-02-12T22:41:39.748Z"
   },
   {
    "duration": 5,
    "start_time": "2023-02-12T22:41:39.756Z"
   },
   {
    "duration": 7,
    "start_time": "2023-02-12T22:41:39.763Z"
   },
   {
    "duration": 9,
    "start_time": "2023-02-12T22:41:39.771Z"
   },
   {
    "duration": 5,
    "start_time": "2023-02-12T22:41:39.783Z"
   },
   {
    "duration": 8,
    "start_time": "2023-02-12T22:41:39.790Z"
   },
   {
    "duration": 39,
    "start_time": "2023-02-12T22:41:39.799Z"
   },
   {
    "duration": 48,
    "start_time": "2023-02-12T22:41:39.839Z"
   },
   {
    "duration": 12,
    "start_time": "2023-02-12T22:41:39.889Z"
   },
   {
    "duration": 7,
    "start_time": "2023-02-12T22:41:39.903Z"
   },
   {
    "duration": 210,
    "start_time": "2023-02-12T22:41:39.912Z"
   },
   {
    "duration": 28214,
    "start_time": "2023-02-12T22:41:40.123Z"
   },
   {
    "duration": 338,
    "start_time": "2023-02-12T22:42:08.340Z"
   },
   {
    "duration": 563,
    "start_time": "2023-02-12T22:42:08.680Z"
   },
   {
    "duration": 27518,
    "start_time": "2023-02-12T22:42:09.245Z"
   },
   {
    "duration": 172,
    "start_time": "2023-02-12T22:42:36.765Z"
   },
   {
    "duration": 100,
    "start_time": "2023-02-12T22:42:36.945Z"
   },
   {
    "duration": 28,
    "start_time": "2023-02-12T22:42:37.047Z"
   },
   {
    "duration": 22,
    "start_time": "2023-02-12T22:42:37.077Z"
   },
   {
    "duration": 662,
    "start_time": "2023-02-12T22:42:37.101Z"
   },
   {
    "duration": 38694,
    "start_time": "2023-02-12T22:42:37.764Z"
   },
   {
    "duration": 437,
    "start_time": "2023-02-12T22:43:16.459Z"
   },
   {
    "duration": 10,
    "start_time": "2023-02-12T22:43:16.898Z"
   },
   {
    "duration": 11,
    "start_time": "2023-02-12T22:43:16.910Z"
   },
   {
    "duration": 7,
    "start_time": "2023-02-12T22:43:16.923Z"
   },
   {
    "duration": 354,
    "start_time": "2023-02-12T22:43:16.936Z"
   },
   {
    "duration": 15125,
    "start_time": "2023-02-12T22:43:17.291Z"
   },
   {
    "duration": 433,
    "start_time": "2023-02-12T22:43:32.418Z"
   },
   {
    "duration": 618,
    "start_time": "2023-02-12T22:43:32.853Z"
   },
   {
    "duration": 11,
    "start_time": "2023-02-12T22:43:33.473Z"
   },
   {
    "duration": 152,
    "start_time": "2023-02-12T22:43:33.486Z"
   },
   {
    "duration": 530,
    "start_time": "2023-02-12T22:46:01.483Z"
   },
   {
    "duration": 532,
    "start_time": "2023-02-12T22:46:07.043Z"
   },
   {
    "duration": 505,
    "start_time": "2023-02-12T22:46:19.960Z"
   },
   {
    "duration": 529,
    "start_time": "2023-02-12T22:46:25.279Z"
   },
   {
    "duration": 511,
    "start_time": "2023-02-12T22:46:45.111Z"
   },
   {
    "duration": 553,
    "start_time": "2023-02-12T22:47:30.617Z"
   },
   {
    "duration": 30070,
    "start_time": "2023-02-12T22:50:01.434Z"
   },
   {
    "duration": 35,
    "start_time": "2023-02-12T22:51:58.812Z"
   },
   {
    "duration": 696,
    "start_time": "2023-02-12T22:56:17.578Z"
   },
   {
    "duration": 38410,
    "start_time": "2023-02-12T22:58:25.473Z"
   },
   {
    "duration": 415,
    "start_time": "2023-02-12T23:02:09.182Z"
   },
   {
    "duration": 353,
    "start_time": "2023-02-12T23:05:07.561Z"
   },
   {
    "duration": 15320,
    "start_time": "2023-02-12T23:05:43.435Z"
   },
   {
    "duration": 15038,
    "start_time": "2023-02-12T23:08:19.999Z"
   },
   {
    "duration": 503,
    "start_time": "2023-02-12T23:11:18.069Z"
   },
   {
    "duration": 584,
    "start_time": "2023-02-12T23:13:03.288Z"
   },
   {
    "duration": 38206,
    "start_time": "2023-02-12T23:14:43.076Z"
   },
   {
    "duration": 653,
    "start_time": "2023-02-12T23:22:01.613Z"
   },
   {
    "duration": 601,
    "start_time": "2023-02-12T23:23:36.059Z"
   },
   {
    "duration": 1527,
    "start_time": "2023-02-12T23:31:03.826Z"
   },
   {
    "duration": 17670,
    "start_time": "2023-02-12T23:31:49.776Z"
   },
   {
    "duration": 109,
    "start_time": "2023-02-12T23:36:27.938Z"
   },
   {
    "duration": 17424,
    "start_time": "2023-02-12T23:36:44.860Z"
   },
   {
    "duration": 38438,
    "start_time": "2023-02-12T23:37:04.552Z"
   },
   {
    "duration": 14172,
    "start_time": "2023-02-12T23:40:21.935Z"
   },
   {
    "duration": 14181,
    "start_time": "2023-02-12T23:41:19.232Z"
   },
   {
    "duration": 14196,
    "start_time": "2023-02-12T23:42:23.007Z"
   },
   {
    "duration": 10,
    "start_time": "2023-02-13T00:01:14.156Z"
   },
   {
    "duration": 15628,
    "start_time": "2023-02-13T00:01:53.472Z"
   },
   {
    "duration": 39245,
    "start_time": "2023-02-13T00:02:22.315Z"
   },
   {
    "duration": 11,
    "start_time": "2023-02-13T00:12:33.291Z"
   },
   {
    "duration": 45,
    "start_time": "2023-02-13T00:12:43.118Z"
   },
   {
    "duration": 41,
    "start_time": "2023-02-13T00:13:44.140Z"
   },
   {
    "duration": 43,
    "start_time": "2023-02-13T00:14:15.359Z"
   },
   {
    "duration": 32,
    "start_time": "2023-02-13T00:14:53.952Z"
   },
   {
    "duration": 1494,
    "start_time": "2023-02-13T00:17:14.433Z"
   },
   {
    "duration": 6,
    "start_time": "2023-02-13T00:17:15.930Z"
   },
   {
    "duration": 55,
    "start_time": "2023-02-13T00:17:15.937Z"
   },
   {
    "duration": 16,
    "start_time": "2023-02-13T00:17:15.994Z"
   },
   {
    "duration": 16,
    "start_time": "2023-02-13T00:17:16.014Z"
   },
   {
    "duration": 19,
    "start_time": "2023-02-13T00:17:16.032Z"
   },
   {
    "duration": 12,
    "start_time": "2023-02-13T00:17:16.053Z"
   },
   {
    "duration": 25,
    "start_time": "2023-02-13T00:17:16.066Z"
   },
   {
    "duration": 6,
    "start_time": "2023-02-13T00:17:16.093Z"
   },
   {
    "duration": 37,
    "start_time": "2023-02-13T00:17:16.101Z"
   },
   {
    "duration": 8,
    "start_time": "2023-02-13T00:17:16.140Z"
   },
   {
    "duration": 8,
    "start_time": "2023-02-13T00:17:16.150Z"
   },
   {
    "duration": 29,
    "start_time": "2023-02-13T00:17:16.160Z"
   },
   {
    "duration": 9,
    "start_time": "2023-02-13T00:17:16.193Z"
   },
   {
    "duration": 6,
    "start_time": "2023-02-13T00:17:16.204Z"
   },
   {
    "duration": 13,
    "start_time": "2023-02-13T00:17:16.211Z"
   },
   {
    "duration": 35,
    "start_time": "2023-02-13T00:17:16.226Z"
   },
   {
    "duration": 19,
    "start_time": "2023-02-13T00:17:16.263Z"
   },
   {
    "duration": 8,
    "start_time": "2023-02-13T00:17:16.284Z"
   },
   {
    "duration": 196,
    "start_time": "2023-02-13T00:17:16.294Z"
   },
   {
    "duration": 28533,
    "start_time": "2023-02-13T00:17:16.492Z"
   },
   {
    "duration": 114,
    "start_time": "2023-02-13T00:17:45.027Z"
   },
   {
    "duration": 623,
    "start_time": "2023-02-13T00:17:45.143Z"
   },
   {
    "duration": 27781,
    "start_time": "2023-02-13T00:17:45.768Z"
   },
   {
    "duration": 287,
    "start_time": "2023-02-13T00:18:13.551Z"
   },
   {
    "duration": 99,
    "start_time": "2023-02-13T00:18:13.840Z"
   },
   {
    "duration": 6,
    "start_time": "2023-02-13T00:18:13.941Z"
   },
   {
    "duration": 6,
    "start_time": "2023-02-13T00:18:13.949Z"
   },
   {
    "duration": 647,
    "start_time": "2023-02-13T00:18:13.957Z"
   },
   {
    "duration": 38039,
    "start_time": "2023-02-13T00:18:14.606Z"
   },
   {
    "duration": 438,
    "start_time": "2023-02-13T00:18:52.647Z"
   },
   {
    "duration": 0,
    "start_time": "2023-02-13T00:18:53.087Z"
   },
   {
    "duration": 0,
    "start_time": "2023-02-13T00:18:53.088Z"
   },
   {
    "duration": 0,
    "start_time": "2023-02-13T00:18:53.089Z"
   },
   {
    "duration": 0,
    "start_time": "2023-02-13T00:18:53.091Z"
   },
   {
    "duration": 0,
    "start_time": "2023-02-13T00:18:53.092Z"
   },
   {
    "duration": 0,
    "start_time": "2023-02-13T00:18:53.093Z"
   },
   {
    "duration": 0,
    "start_time": "2023-02-13T00:18:53.094Z"
   },
   {
    "duration": 0,
    "start_time": "2023-02-13T00:18:53.095Z"
   },
   {
    "duration": 0,
    "start_time": "2023-02-13T00:18:53.096Z"
   },
   {
    "duration": 466,
    "start_time": "2023-02-13T00:20:17.821Z"
   },
   {
    "duration": 17,
    "start_time": "2023-02-13T00:20:58.323Z"
   },
   {
    "duration": 11,
    "start_time": "2023-02-13T00:21:15.550Z"
   },
   {
    "duration": 6,
    "start_time": "2023-02-13T00:21:16.339Z"
   },
   {
    "duration": 6,
    "start_time": "2023-02-13T00:21:16.570Z"
   },
   {
    "duration": 294,
    "start_time": "2023-02-13T00:21:16.819Z"
   },
   {
    "duration": 15212,
    "start_time": "2023-02-13T00:21:17.407Z"
   },
   {
    "duration": 424,
    "start_time": "2023-02-13T00:21:32.621Z"
   },
   {
    "duration": 9,
    "start_time": "2023-02-13T00:21:39.798Z"
   },
   {
    "duration": 1542,
    "start_time": "2023-02-13T00:22:01.712Z"
   },
   {
    "duration": 4,
    "start_time": "2023-02-13T00:22:03.255Z"
   },
   {
    "duration": 67,
    "start_time": "2023-02-13T00:22:03.261Z"
   },
   {
    "duration": 17,
    "start_time": "2023-02-13T00:22:03.330Z"
   },
   {
    "duration": 25,
    "start_time": "2023-02-13T00:22:03.350Z"
   },
   {
    "duration": 15,
    "start_time": "2023-02-13T00:22:03.377Z"
   },
   {
    "duration": 11,
    "start_time": "2023-02-13T00:22:03.394Z"
   },
   {
    "duration": 46,
    "start_time": "2023-02-13T00:22:03.406Z"
   },
   {
    "duration": 7,
    "start_time": "2023-02-13T00:22:03.453Z"
   },
   {
    "duration": 7,
    "start_time": "2023-02-13T00:22:03.461Z"
   },
   {
    "duration": 6,
    "start_time": "2023-02-13T00:22:03.470Z"
   },
   {
    "duration": 7,
    "start_time": "2023-02-13T00:22:03.477Z"
   },
   {
    "duration": 7,
    "start_time": "2023-02-13T00:22:03.486Z"
   },
   {
    "duration": 6,
    "start_time": "2023-02-13T00:22:03.495Z"
   },
   {
    "duration": 6,
    "start_time": "2023-02-13T00:22:03.502Z"
   },
   {
    "duration": 34,
    "start_time": "2023-02-13T00:22:03.510Z"
   },
   {
    "duration": 36,
    "start_time": "2023-02-13T00:22:03.546Z"
   },
   {
    "duration": 15,
    "start_time": "2023-02-13T00:22:03.583Z"
   },
   {
    "duration": 16,
    "start_time": "2023-02-13T00:22:03.600Z"
   },
   {
    "duration": 200,
    "start_time": "2023-02-13T00:22:03.636Z"
   },
   {
    "duration": 29433,
    "start_time": "2023-02-13T00:22:03.838Z"
   },
   {
    "duration": 272,
    "start_time": "2023-02-13T00:22:33.273Z"
   },
   {
    "duration": 641,
    "start_time": "2023-02-13T00:22:33.547Z"
   },
   {
    "duration": 29404,
    "start_time": "2023-02-13T00:22:34.191Z"
   },
   {
    "duration": 142,
    "start_time": "2023-02-13T00:23:03.597Z"
   },
   {
    "duration": 108,
    "start_time": "2023-02-13T00:23:03.741Z"
   },
   {
    "duration": 10,
    "start_time": "2023-02-13T00:23:03.851Z"
   },
   {
    "duration": 10,
    "start_time": "2023-02-13T00:23:03.863Z"
   },
   {
    "duration": 671,
    "start_time": "2023-02-13T00:23:03.875Z"
   },
   {
    "duration": 40898,
    "start_time": "2023-02-13T00:23:04.548Z"
   },
   {
    "duration": 428,
    "start_time": "2023-02-13T00:23:45.448Z"
   },
   {
    "duration": 11,
    "start_time": "2023-02-13T00:23:45.877Z"
   },
   {
    "duration": 9,
    "start_time": "2023-02-13T00:23:45.890Z"
   },
   {
    "duration": 10,
    "start_time": "2023-02-13T00:23:45.901Z"
   },
   {
    "duration": 324,
    "start_time": "2023-02-13T00:23:45.912Z"
   },
   {
    "duration": 15881,
    "start_time": "2023-02-13T00:23:46.238Z"
   },
   {
    "duration": 415,
    "start_time": "2023-02-13T00:24:02.121Z"
   },
   {
    "duration": 34,
    "start_time": "2023-02-13T00:24:02.539Z"
   },
   {
    "duration": 38539,
    "start_time": "2023-02-13T00:24:02.575Z"
   },
   {
    "duration": 40657,
    "start_time": "2023-02-13T00:24:41.116Z"
   },
   {
    "duration": 110,
    "start_time": "2023-02-13T00:32:55.654Z"
   },
   {
    "duration": 71,
    "start_time": "2023-02-13T00:33:12.993Z"
   },
   {
    "duration": 113,
    "start_time": "2023-02-13T00:33:26.923Z"
   },
   {
    "duration": 10,
    "start_time": "2023-02-13T00:36:53.972Z"
   },
   {
    "duration": 15596,
    "start_time": "2023-02-13T00:37:22.305Z"
   },
   {
    "duration": 10,
    "start_time": "2023-02-13T00:37:37.903Z"
   },
   {
    "duration": 30,
    "start_time": "2023-02-13T00:38:09.117Z"
   },
   {
    "duration": 13,
    "start_time": "2023-02-13T00:38:55.496Z"
   },
   {
    "duration": 50,
    "start_time": "2023-02-13T00:39:01.773Z"
   },
   {
    "duration": 1474,
    "start_time": "2023-02-13T00:39:39.315Z"
   },
   {
    "duration": 4,
    "start_time": "2023-02-13T00:39:40.791Z"
   },
   {
    "duration": 56,
    "start_time": "2023-02-13T00:39:40.797Z"
   },
   {
    "duration": 17,
    "start_time": "2023-02-13T00:39:40.855Z"
   },
   {
    "duration": 18,
    "start_time": "2023-02-13T00:39:40.875Z"
   },
   {
    "duration": 42,
    "start_time": "2023-02-13T00:39:40.895Z"
   },
   {
    "duration": 12,
    "start_time": "2023-02-13T00:39:40.940Z"
   },
   {
    "duration": 30,
    "start_time": "2023-02-13T00:39:40.954Z"
   },
   {
    "duration": 7,
    "start_time": "2023-02-13T00:39:40.986Z"
   },
   {
    "duration": 11,
    "start_time": "2023-02-13T00:39:40.994Z"
   },
   {
    "duration": 9,
    "start_time": "2023-02-13T00:39:41.007Z"
   },
   {
    "duration": 15,
    "start_time": "2023-02-13T00:39:41.036Z"
   },
   {
    "duration": 20,
    "start_time": "2023-02-13T00:39:41.053Z"
   },
   {
    "duration": 6,
    "start_time": "2023-02-13T00:39:41.077Z"
   },
   {
    "duration": 16,
    "start_time": "2023-02-13T00:39:41.085Z"
   },
   {
    "duration": 18,
    "start_time": "2023-02-13T00:39:41.103Z"
   },
   {
    "duration": 55,
    "start_time": "2023-02-13T00:39:41.123Z"
   },
   {
    "duration": 13,
    "start_time": "2023-02-13T00:39:41.180Z"
   },
   {
    "duration": 16,
    "start_time": "2023-02-13T00:39:41.195Z"
   },
   {
    "duration": 202,
    "start_time": "2023-02-13T00:39:41.212Z"
   },
   {
    "duration": 28413,
    "start_time": "2023-02-13T00:39:41.416Z"
   },
   {
    "duration": 409,
    "start_time": "2023-02-13T00:40:09.831Z"
   },
   {
    "duration": 542,
    "start_time": "2023-02-13T00:40:10.242Z"
   },
   {
    "duration": 28354,
    "start_time": "2023-02-13T00:40:10.786Z"
   },
   {
    "duration": 204,
    "start_time": "2023-02-13T00:40:39.142Z"
   },
   {
    "duration": 144,
    "start_time": "2023-02-13T00:40:39.348Z"
   },
   {
    "duration": 67,
    "start_time": "2023-02-13T00:40:39.494Z"
   },
   {
    "duration": 26,
    "start_time": "2023-02-13T00:40:39.563Z"
   },
   {
    "duration": 648,
    "start_time": "2023-02-13T00:40:39.592Z"
   },
   {
    "duration": 39340,
    "start_time": "2023-02-13T00:40:40.242Z"
   },
   {
    "duration": 478,
    "start_time": "2023-02-13T00:41:19.584Z"
   },
   {
    "duration": 10,
    "start_time": "2023-02-13T00:41:20.064Z"
   },
   {
    "duration": 31,
    "start_time": "2023-02-13T00:41:20.076Z"
   },
   {
    "duration": 38,
    "start_time": "2023-02-13T00:41:20.108Z"
   },
   {
    "duration": 343,
    "start_time": "2023-02-13T00:41:20.148Z"
   },
   {
    "duration": 15633,
    "start_time": "2023-02-13T00:41:20.493Z"
   },
   {
    "duration": 426,
    "start_time": "2023-02-13T00:41:36.129Z"
   },
   {
    "duration": 55,
    "start_time": "2023-02-13T00:41:36.557Z"
   },
   {
    "duration": 27707,
    "start_time": "2023-02-13T00:47:57.969Z"
   },
   {
    "duration": 57,
    "start_time": "2023-02-13T00:48:32.402Z"
   },
   {
    "duration": 15,
    "start_time": "2023-02-13T01:03:33.798Z"
   },
   {
    "duration": 15,
    "start_time": "2023-02-13T01:03:36.377Z"
   },
   {
    "duration": 142,
    "start_time": "2023-02-13T01:06:00.913Z"
   },
   {
    "duration": 14,
    "start_time": "2023-02-13T01:06:20.573Z"
   },
   {
    "duration": 6,
    "start_time": "2023-02-13T01:07:36.776Z"
   },
   {
    "duration": 5,
    "start_time": "2023-02-13T01:08:00.809Z"
   },
   {
    "duration": 12,
    "start_time": "2023-02-13T01:08:30.666Z"
   },
   {
    "duration": 17,
    "start_time": "2023-02-13T01:09:49.997Z"
   },
   {
    "duration": 186,
    "start_time": "2023-02-13T01:10:50.052Z"
   },
   {
    "duration": 1538,
    "start_time": "2023-02-13T01:11:06.898Z"
   },
   {
    "duration": 4,
    "start_time": "2023-02-13T01:11:08.439Z"
   },
   {
    "duration": 80,
    "start_time": "2023-02-13T01:11:08.444Z"
   },
   {
    "duration": 15,
    "start_time": "2023-02-13T01:11:08.526Z"
   },
   {
    "duration": 36,
    "start_time": "2023-02-13T01:11:08.543Z"
   },
   {
    "duration": 32,
    "start_time": "2023-02-13T01:11:08.580Z"
   },
   {
    "duration": 18,
    "start_time": "2023-02-13T01:11:08.613Z"
   },
   {
    "duration": 40,
    "start_time": "2023-02-13T01:11:08.632Z"
   },
   {
    "duration": 12,
    "start_time": "2023-02-13T01:11:08.674Z"
   },
   {
    "duration": 25,
    "start_time": "2023-02-13T01:11:08.688Z"
   },
   {
    "duration": 20,
    "start_time": "2023-02-13T01:11:08.715Z"
   },
   {
    "duration": 28,
    "start_time": "2023-02-13T01:11:08.737Z"
   },
   {
    "duration": 47,
    "start_time": "2023-02-13T01:11:08.768Z"
   },
   {
    "duration": 6,
    "start_time": "2023-02-13T01:11:08.820Z"
   },
   {
    "duration": 15,
    "start_time": "2023-02-13T01:11:08.828Z"
   },
   {
    "duration": 28,
    "start_time": "2023-02-13T01:11:08.845Z"
   },
   {
    "duration": 37,
    "start_time": "2023-02-13T01:11:08.875Z"
   },
   {
    "duration": 11,
    "start_time": "2023-02-13T01:11:08.914Z"
   },
   {
    "duration": 39,
    "start_time": "2023-02-13T01:11:08.927Z"
   },
   {
    "duration": 200,
    "start_time": "2023-02-13T01:11:08.968Z"
   },
   {
    "duration": 30304,
    "start_time": "2023-02-13T01:11:09.169Z"
   },
   {
    "duration": 164,
    "start_time": "2023-02-13T01:11:39.475Z"
   },
   {
    "duration": 618,
    "start_time": "2023-02-13T01:11:39.640Z"
   },
   {
    "duration": 28452,
    "start_time": "2023-02-13T01:11:40.260Z"
   },
   {
    "duration": 133,
    "start_time": "2023-02-13T01:12:08.714Z"
   },
   {
    "duration": 103,
    "start_time": "2023-02-13T01:12:08.942Z"
   },
   {
    "duration": 6,
    "start_time": "2023-02-13T01:12:09.048Z"
   },
   {
    "duration": 17,
    "start_time": "2023-02-13T01:12:09.056Z"
   },
   {
    "duration": 637,
    "start_time": "2023-02-13T01:12:09.075Z"
   },
   {
    "duration": 38553,
    "start_time": "2023-02-13T01:12:09.714Z"
   },
   {
    "duration": 711,
    "start_time": "2023-02-13T01:12:48.270Z"
   },
   {
    "duration": 12,
    "start_time": "2023-02-13T01:12:48.983Z"
   },
   {
    "duration": 6,
    "start_time": "2023-02-13T01:12:48.997Z"
   },
   {
    "duration": 8,
    "start_time": "2023-02-13T01:12:49.005Z"
   },
   {
    "duration": 335,
    "start_time": "2023-02-13T01:12:49.015Z"
   },
   {
    "duration": 15281,
    "start_time": "2023-02-13T01:12:49.352Z"
   },
   {
    "duration": 515,
    "start_time": "2023-02-13T01:13:04.634Z"
   },
   {
    "duration": 5,
    "start_time": "2023-02-13T01:13:05.151Z"
   },
   {
    "duration": 32,
    "start_time": "2023-02-13T01:13:05.158Z"
   },
   {
    "duration": 317,
    "start_time": "2023-02-13T01:13:05.191Z"
   },
   {
    "duration": 38559,
    "start_time": "2023-02-13T01:16:27.377Z"
   },
   {
    "duration": 457,
    "start_time": "2023-02-13T01:20:18.960Z"
   },
   {
    "duration": 41235,
    "start_time": "2023-02-13T01:24:42.205Z"
   },
   {
    "duration": 18,
    "start_time": "2023-02-13T01:25:23.443Z"
   },
   {
    "duration": 17,
    "start_time": "2023-02-13T01:25:37.037Z"
   },
   {
    "duration": 23,
    "start_time": "2023-02-13T01:26:18.927Z"
   },
   {
    "duration": 38464,
    "start_time": "2023-02-13T01:29:03.383Z"
   },
   {
    "duration": 11,
    "start_time": "2023-02-13T03:09:01.178Z"
   },
   {
    "duration": 11,
    "start_time": "2023-02-13T03:09:15.999Z"
   },
   {
    "duration": 17,
    "start_time": "2023-02-13T03:09:31.428Z"
   },
   {
    "duration": 4,
    "start_time": "2023-02-13T03:09:36.190Z"
   },
   {
    "duration": 3,
    "start_time": "2023-02-13T03:09:36.487Z"
   },
   {
    "duration": 67,
    "start_time": "2023-02-13T03:09:36.723Z"
   },
   {
    "duration": 14,
    "start_time": "2023-02-13T03:09:36.962Z"
   },
   {
    "duration": 18,
    "start_time": "2023-02-13T03:09:37.163Z"
   },
   {
    "duration": 15,
    "start_time": "2023-02-13T03:09:37.380Z"
   },
   {
    "duration": 27,
    "start_time": "2023-02-13T03:09:38.032Z"
   },
   {
    "duration": 25,
    "start_time": "2023-02-13T03:09:39.092Z"
   },
   {
    "duration": 20,
    "start_time": "2023-02-13T03:09:40.229Z"
   },
   {
    "duration": 15,
    "start_time": "2023-02-13T03:09:40.958Z"
   },
   {
    "duration": 5,
    "start_time": "2023-02-13T03:10:06.517Z"
   },
   {
    "duration": 4,
    "start_time": "2023-02-13T03:10:12.185Z"
   },
   {
    "duration": 1384,
    "start_time": "2023-02-13T03:11:49.929Z"
   },
   {
    "duration": 14,
    "start_time": "2023-02-13T03:12:09.773Z"
   },
   {
    "duration": 19,
    "start_time": "2023-02-13T03:12:37.000Z"
   },
   {
    "duration": 6,
    "start_time": "2023-02-13T03:12:53.192Z"
   },
   {
    "duration": 25,
    "start_time": "2023-02-13T03:12:53.200Z"
   },
   {
    "duration": 93,
    "start_time": "2023-02-13T03:12:53.227Z"
   },
   {
    "duration": 18,
    "start_time": "2023-02-13T03:12:53.322Z"
   },
   {
    "duration": 45,
    "start_time": "2023-02-13T03:12:53.344Z"
   },
   {
    "duration": 39,
    "start_time": "2023-02-13T03:12:53.391Z"
   },
   {
    "duration": 48,
    "start_time": "2023-02-13T03:12:53.432Z"
   },
   {
    "duration": 45,
    "start_time": "2023-02-13T03:12:53.481Z"
   },
   {
    "duration": 29,
    "start_time": "2023-02-13T03:12:53.528Z"
   },
   {
    "duration": 28,
    "start_time": "2023-02-13T03:12:53.558Z"
   },
   {
    "duration": 35,
    "start_time": "2023-02-13T03:12:53.587Z"
   },
   {
    "duration": 42,
    "start_time": "2023-02-13T03:12:53.624Z"
   },
   {
    "duration": 20,
    "start_time": "2023-02-13T03:12:53.669Z"
   },
   {
    "duration": 21,
    "start_time": "2023-02-13T03:12:53.693Z"
   },
   {
    "duration": 12,
    "start_time": "2023-02-13T03:12:53.716Z"
   },
   {
    "duration": 39,
    "start_time": "2023-02-13T03:12:53.730Z"
   },
   {
    "duration": 30,
    "start_time": "2023-02-13T03:12:53.770Z"
   },
   {
    "duration": 31,
    "start_time": "2023-02-13T03:12:53.802Z"
   },
   {
    "duration": 0,
    "start_time": "2023-02-13T03:12:53.835Z"
   },
   {
    "duration": 0,
    "start_time": "2023-02-13T03:12:53.837Z"
   },
   {
    "duration": 0,
    "start_time": "2023-02-13T03:12:53.841Z"
   },
   {
    "duration": 0,
    "start_time": "2023-02-13T03:12:53.842Z"
   },
   {
    "duration": 0,
    "start_time": "2023-02-13T03:12:53.845Z"
   },
   {
    "duration": 0,
    "start_time": "2023-02-13T03:12:53.846Z"
   },
   {
    "duration": 0,
    "start_time": "2023-02-13T03:12:53.847Z"
   },
   {
    "duration": 0,
    "start_time": "2023-02-13T03:12:53.848Z"
   },
   {
    "duration": 0,
    "start_time": "2023-02-13T03:12:53.849Z"
   },
   {
    "duration": 0,
    "start_time": "2023-02-13T03:12:53.850Z"
   },
   {
    "duration": 1,
    "start_time": "2023-02-13T03:12:53.851Z"
   },
   {
    "duration": 0,
    "start_time": "2023-02-13T03:12:53.853Z"
   },
   {
    "duration": 0,
    "start_time": "2023-02-13T03:12:53.854Z"
   },
   {
    "duration": 0,
    "start_time": "2023-02-13T03:12:53.855Z"
   },
   {
    "duration": 0,
    "start_time": "2023-02-13T03:12:53.857Z"
   },
   {
    "duration": 0,
    "start_time": "2023-02-13T03:12:53.859Z"
   },
   {
    "duration": 0,
    "start_time": "2023-02-13T03:12:53.860Z"
   },
   {
    "duration": 0,
    "start_time": "2023-02-13T03:12:53.861Z"
   },
   {
    "duration": 0,
    "start_time": "2023-02-13T03:12:53.862Z"
   },
   {
    "duration": 0,
    "start_time": "2023-02-13T03:12:53.863Z"
   },
   {
    "duration": 0,
    "start_time": "2023-02-13T03:12:53.864Z"
   },
   {
    "duration": 0,
    "start_time": "2023-02-13T03:12:53.865Z"
   },
   {
    "duration": 0,
    "start_time": "2023-02-13T03:12:53.866Z"
   },
   {
    "duration": 0,
    "start_time": "2023-02-13T03:12:53.866Z"
   },
   {
    "duration": 0,
    "start_time": "2023-02-13T03:12:53.867Z"
   },
   {
    "duration": 0,
    "start_time": "2023-02-13T03:12:53.868Z"
   },
   {
    "duration": 121,
    "start_time": "2023-02-13T03:13:06.371Z"
   },
   {
    "duration": 3,
    "start_time": "2023-02-13T03:14:05.375Z"
   },
   {
    "duration": 9,
    "start_time": "2023-02-13T03:14:07.400Z"
   },
   {
    "duration": 42,
    "start_time": "2023-02-13T03:14:08.960Z"
   },
   {
    "duration": 13,
    "start_time": "2023-02-13T03:14:09.299Z"
   },
   {
    "duration": 2132,
    "start_time": "2023-02-13T03:14:35.771Z"
   },
   {
    "duration": 3,
    "start_time": "2023-02-13T03:14:37.905Z"
   },
   {
    "duration": 75,
    "start_time": "2023-02-13T03:14:37.912Z"
   },
   {
    "duration": 17,
    "start_time": "2023-02-13T03:14:37.991Z"
   },
   {
    "duration": 20,
    "start_time": "2023-02-13T03:14:38.009Z"
   },
   {
    "duration": 23,
    "start_time": "2023-02-13T03:14:38.031Z"
   },
   {
    "duration": 29,
    "start_time": "2023-02-13T03:14:38.057Z"
   },
   {
    "duration": 25,
    "start_time": "2023-02-13T03:14:38.088Z"
   },
   {
    "duration": 4,
    "start_time": "2023-02-13T03:14:38.115Z"
   },
   {
    "duration": 22,
    "start_time": "2023-02-13T03:14:38.120Z"
   },
   {
    "duration": 24,
    "start_time": "2023-02-13T03:14:38.151Z"
   },
   {
    "duration": 20,
    "start_time": "2023-02-13T03:14:38.178Z"
   },
   {
    "duration": 4,
    "start_time": "2023-02-13T03:14:38.202Z"
   },
   {
    "duration": 18,
    "start_time": "2023-02-13T03:14:38.207Z"
   },
   {
    "duration": 11,
    "start_time": "2023-02-13T03:14:38.228Z"
   },
   {
    "duration": 54,
    "start_time": "2023-02-13T03:14:38.243Z"
   },
   {
    "duration": 14,
    "start_time": "2023-02-13T03:14:38.300Z"
   },
   {
    "duration": 22,
    "start_time": "2023-02-13T03:14:38.317Z"
   },
   {
    "duration": 81,
    "start_time": "2023-02-13T03:14:38.340Z"
   },
   {
    "duration": 23,
    "start_time": "2023-02-13T03:14:38.423Z"
   },
   {
    "duration": 54,
    "start_time": "2023-02-13T03:14:38.451Z"
   },
   {
    "duration": 211,
    "start_time": "2023-02-13T03:14:38.507Z"
   },
   {
    "duration": 34052,
    "start_time": "2023-02-13T03:14:38.720Z"
   },
   {
    "duration": 480,
    "start_time": "2023-02-13T03:15:12.773Z"
   },
   {
    "duration": 693,
    "start_time": "2023-02-13T03:15:13.255Z"
   },
   {
    "duration": 34085,
    "start_time": "2023-02-13T03:15:13.951Z"
   },
   {
    "duration": 796,
    "start_time": "2023-02-13T03:15:48.041Z"
   },
   {
    "duration": 81,
    "start_time": "2023-02-13T03:15:48.841Z"
   },
   {
    "duration": 5,
    "start_time": "2023-02-13T03:15:48.924Z"
   },
   {
    "duration": 33,
    "start_time": "2023-02-13T03:15:48.931Z"
   },
   {
    "duration": 651,
    "start_time": "2023-02-13T03:15:48.966Z"
   },
   {
    "duration": 46841,
    "start_time": "2023-02-13T03:15:49.619Z"
   },
   {
    "duration": 400,
    "start_time": "2023-02-13T03:16:36.462Z"
   },
   {
    "duration": 11,
    "start_time": "2023-02-13T03:16:36.864Z"
   },
   {
    "duration": 42,
    "start_time": "2023-02-13T03:16:36.876Z"
   },
   {
    "duration": 41,
    "start_time": "2023-02-13T03:16:36.920Z"
   },
   {
    "duration": 327,
    "start_time": "2023-02-13T03:16:36.963Z"
   },
   {
    "duration": 17764,
    "start_time": "2023-02-13T03:16:37.292Z"
   },
   {
    "duration": 607,
    "start_time": "2023-02-13T03:16:55.061Z"
   },
   {
    "duration": 6,
    "start_time": "2023-02-13T03:16:55.673Z"
   },
   {
    "duration": 18,
    "start_time": "2023-02-13T03:16:55.681Z"
   },
   {
    "duration": 48101,
    "start_time": "2023-02-13T03:16:55.701Z"
   },
   {
    "duration": 46928,
    "start_time": "2023-02-13T03:17:43.804Z"
   },
   {
    "duration": 23,
    "start_time": "2023-02-13T03:18:30.734Z"
   },
   {
    "duration": 663,
    "start_time": "2023-02-13T03:20:45.109Z"
   },
   {
    "duration": 3,
    "start_time": "2023-02-13T03:22:42.173Z"
   },
   {
    "duration": 13,
    "start_time": "2023-02-13T03:23:44.777Z"
   },
   {
    "duration": 15,
    "start_time": "2023-02-13T03:23:46.160Z"
   },
   {
    "duration": 146,
    "start_time": "2023-02-13T03:24:39.404Z"
   },
   {
    "duration": 39,
    "start_time": "2023-02-13T03:25:22.063Z"
   },
   {
    "duration": 50,
    "start_time": "2023-02-13T03:25:37.310Z"
   },
   {
    "duration": 39,
    "start_time": "2023-02-13T03:26:00.798Z"
   },
   {
    "duration": 42,
    "start_time": "2023-02-13T03:28:24.305Z"
   },
   {
    "duration": 19,
    "start_time": "2023-02-13T03:35:28.713Z"
   },
   {
    "duration": 4,
    "start_time": "2023-02-13T03:35:32.590Z"
   },
   {
    "duration": 4,
    "start_time": "2023-02-13T03:35:32.947Z"
   },
   {
    "duration": 14,
    "start_time": "2023-02-13T03:37:00.471Z"
   },
   {
    "duration": 3,
    "start_time": "2023-02-13T03:37:03.058Z"
   },
   {
    "duration": 10,
    "start_time": "2023-02-13T03:37:03.377Z"
   },
   {
    "duration": 25,
    "start_time": "2023-02-13T03:37:03.886Z"
   },
   {
    "duration": 12,
    "start_time": "2023-02-13T03:37:04.555Z"
   },
   {
    "duration": 44,
    "start_time": "2023-02-13T03:37:54.586Z"
   },
   {
    "duration": 1546,
    "start_time": "2023-02-13T03:39:08.431Z"
   },
   {
    "duration": 3,
    "start_time": "2023-02-13T03:39:09.979Z"
   },
   {
    "duration": 62,
    "start_time": "2023-02-13T03:39:09.985Z"
   },
   {
    "duration": 18,
    "start_time": "2023-02-13T03:39:10.051Z"
   },
   {
    "duration": 20,
    "start_time": "2023-02-13T03:39:10.072Z"
   },
   {
    "duration": 41,
    "start_time": "2023-02-13T03:39:10.094Z"
   },
   {
    "duration": 36,
    "start_time": "2023-02-13T03:39:10.137Z"
   },
   {
    "duration": 60,
    "start_time": "2023-02-13T03:39:10.174Z"
   },
   {
    "duration": 16,
    "start_time": "2023-02-13T03:39:10.238Z"
   },
   {
    "duration": 23,
    "start_time": "2023-02-13T03:39:10.256Z"
   },
   {
    "duration": 27,
    "start_time": "2023-02-13T03:39:10.281Z"
   },
   {
    "duration": 142,
    "start_time": "2023-02-13T03:39:10.311Z"
   },
   {
    "duration": 0,
    "start_time": "2023-02-13T03:39:10.456Z"
   },
   {
    "duration": 0,
    "start_time": "2023-02-13T03:39:10.457Z"
   },
   {
    "duration": 0,
    "start_time": "2023-02-13T03:39:10.459Z"
   },
   {
    "duration": 0,
    "start_time": "2023-02-13T03:39:10.460Z"
   },
   {
    "duration": 0,
    "start_time": "2023-02-13T03:39:10.461Z"
   },
   {
    "duration": 0,
    "start_time": "2023-02-13T03:39:10.462Z"
   },
   {
    "duration": 0,
    "start_time": "2023-02-13T03:39:10.463Z"
   },
   {
    "duration": 0,
    "start_time": "2023-02-13T03:39:10.464Z"
   },
   {
    "duration": 0,
    "start_time": "2023-02-13T03:39:10.466Z"
   },
   {
    "duration": 0,
    "start_time": "2023-02-13T03:39:10.467Z"
   },
   {
    "duration": 0,
    "start_time": "2023-02-13T03:39:10.468Z"
   },
   {
    "duration": 0,
    "start_time": "2023-02-13T03:39:10.469Z"
   },
   {
    "duration": 0,
    "start_time": "2023-02-13T03:39:10.470Z"
   },
   {
    "duration": 0,
    "start_time": "2023-02-13T03:39:10.471Z"
   },
   {
    "duration": 0,
    "start_time": "2023-02-13T03:39:10.472Z"
   },
   {
    "duration": 0,
    "start_time": "2023-02-13T03:39:10.474Z"
   },
   {
    "duration": 0,
    "start_time": "2023-02-13T03:39:10.475Z"
   },
   {
    "duration": 0,
    "start_time": "2023-02-13T03:39:10.476Z"
   },
   {
    "duration": 0,
    "start_time": "2023-02-13T03:39:10.477Z"
   },
   {
    "duration": 0,
    "start_time": "2023-02-13T03:39:10.478Z"
   },
   {
    "duration": 0,
    "start_time": "2023-02-13T03:39:10.479Z"
   },
   {
    "duration": 0,
    "start_time": "2023-02-13T03:39:10.480Z"
   },
   {
    "duration": 0,
    "start_time": "2023-02-13T03:39:10.482Z"
   },
   {
    "duration": 0,
    "start_time": "2023-02-13T03:39:10.483Z"
   },
   {
    "duration": 0,
    "start_time": "2023-02-13T03:39:10.484Z"
   },
   {
    "duration": 0,
    "start_time": "2023-02-13T03:39:10.485Z"
   },
   {
    "duration": 0,
    "start_time": "2023-02-13T03:39:10.536Z"
   },
   {
    "duration": 0,
    "start_time": "2023-02-13T03:39:10.537Z"
   },
   {
    "duration": 0,
    "start_time": "2023-02-13T03:39:10.538Z"
   },
   {
    "duration": 0,
    "start_time": "2023-02-13T03:39:10.539Z"
   },
   {
    "duration": 0,
    "start_time": "2023-02-13T03:39:10.539Z"
   },
   {
    "duration": 0,
    "start_time": "2023-02-13T03:39:10.540Z"
   },
   {
    "duration": 0,
    "start_time": "2023-02-13T03:39:10.541Z"
   },
   {
    "duration": 0,
    "start_time": "2023-02-13T03:39:10.541Z"
   },
   {
    "duration": 14,
    "start_time": "2023-02-13T03:39:38.127Z"
   },
   {
    "duration": 24,
    "start_time": "2023-02-13T03:39:40.199Z"
   },
   {
    "duration": 12,
    "start_time": "2023-02-13T03:39:41.599Z"
   },
   {
    "duration": 49,
    "start_time": "2023-02-13T03:39:42.800Z"
   },
   {
    "duration": 10,
    "start_time": "2023-02-13T03:39:57.931Z"
   },
   {
    "duration": 6,
    "start_time": "2023-02-13T03:39:58.518Z"
   },
   {
    "duration": 3,
    "start_time": "2023-02-13T03:39:58.918Z"
   },
   {
    "duration": 5,
    "start_time": "2023-02-13T03:39:59.620Z"
   },
   {
    "duration": 4,
    "start_time": "2023-02-13T03:40:00.052Z"
   },
   {
    "duration": 5,
    "start_time": "2023-02-13T03:40:00.724Z"
   },
   {
    "duration": 45,
    "start_time": "2023-02-13T03:40:01.194Z"
   },
   {
    "duration": 39,
    "start_time": "2023-02-13T03:40:01.789Z"
   },
   {
    "duration": 35,
    "start_time": "2023-02-13T03:40:03.964Z"
   },
   {
    "duration": 6,
    "start_time": "2023-02-13T03:40:20.601Z"
   },
   {
    "duration": 183,
    "start_time": "2023-02-13T03:40:24.078Z"
   },
   {
    "duration": 32526,
    "start_time": "2023-02-13T03:40:27.167Z"
   },
   {
    "duration": 445,
    "start_time": "2023-02-13T03:40:59.696Z"
   },
   {
    "duration": 527,
    "start_time": "2023-02-13T03:41:12.336Z"
   },
   {
    "duration": 31560,
    "start_time": "2023-02-13T03:41:21.683Z"
   },
   {
    "duration": 386,
    "start_time": "2023-02-13T03:41:58.757Z"
   },
   {
    "duration": 24,
    "start_time": "2023-02-13T03:42:02.395Z"
   },
   {
    "duration": 6,
    "start_time": "2023-02-13T03:42:05.623Z"
   },
   {
    "duration": 11,
    "start_time": "2023-02-13T03:42:07.243Z"
   },
   {
    "duration": 654,
    "start_time": "2023-02-13T03:42:22.112Z"
   },
   {
    "duration": 626,
    "start_time": "2023-02-13T03:42:26.660Z"
   },
   {
    "duration": 44387,
    "start_time": "2023-02-13T03:42:35.668Z"
   },
   {
    "duration": 469,
    "start_time": "2023-02-13T03:43:24.011Z"
   },
   {
    "duration": 11,
    "start_time": "2023-02-13T03:43:31.091Z"
   },
   {
    "duration": 6,
    "start_time": "2023-02-13T03:43:32.357Z"
   },
   {
    "duration": 8,
    "start_time": "2023-02-13T03:43:32.630Z"
   },
   {
    "duration": 312,
    "start_time": "2023-02-13T03:43:35.808Z"
   },
   {
    "duration": 16895,
    "start_time": "2023-02-13T03:43:49.469Z"
   },
   {
    "duration": 549,
    "start_time": "2023-02-13T03:44:10.001Z"
   },
   {
    "duration": 109,
    "start_time": "2023-02-13T03:47:29.274Z"
   },
   {
    "duration": 84,
    "start_time": "2023-02-13T03:49:38.134Z"
   },
   {
    "duration": 105,
    "start_time": "2023-02-13T03:49:50.564Z"
   },
   {
    "duration": 143,
    "start_time": "2023-02-13T03:51:18.136Z"
   },
   {
    "duration": 119,
    "start_time": "2023-02-13T03:51:28.450Z"
   },
   {
    "duration": 107,
    "start_time": "2023-02-13T03:52:12.979Z"
   },
   {
    "duration": 23,
    "start_time": "2023-02-13T03:54:19.541Z"
   },
   {
    "duration": 1549,
    "start_time": "2023-02-13T03:54:30.364Z"
   },
   {
    "duration": 3,
    "start_time": "2023-02-13T03:54:31.915Z"
   },
   {
    "duration": 95,
    "start_time": "2023-02-13T03:54:31.919Z"
   },
   {
    "duration": 17,
    "start_time": "2023-02-13T03:54:32.016Z"
   },
   {
    "duration": 38,
    "start_time": "2023-02-13T03:54:32.036Z"
   },
   {
    "duration": 31,
    "start_time": "2023-02-13T03:54:32.075Z"
   },
   {
    "duration": 15,
    "start_time": "2023-02-13T03:54:32.108Z"
   },
   {
    "duration": 37,
    "start_time": "2023-02-13T03:54:32.124Z"
   },
   {
    "duration": 32,
    "start_time": "2023-02-13T03:54:32.163Z"
   },
   {
    "duration": 17,
    "start_time": "2023-02-13T03:54:32.197Z"
   },
   {
    "duration": 39,
    "start_time": "2023-02-13T03:54:32.216Z"
   },
   {
    "duration": 28,
    "start_time": "2023-02-13T03:54:32.257Z"
   },
   {
    "duration": 44,
    "start_time": "2023-02-13T03:54:32.287Z"
   },
   {
    "duration": 21,
    "start_time": "2023-02-13T03:54:32.334Z"
   },
   {
    "duration": 59,
    "start_time": "2023-02-13T03:54:32.356Z"
   },
   {
    "duration": 6,
    "start_time": "2023-02-13T03:54:32.417Z"
   },
   {
    "duration": 38,
    "start_time": "2023-02-13T03:54:32.425Z"
   },
   {
    "duration": 18,
    "start_time": "2023-02-13T03:54:32.465Z"
   },
   {
    "duration": 25,
    "start_time": "2023-02-13T03:54:32.485Z"
   },
   {
    "duration": 24,
    "start_time": "2023-02-13T03:54:32.512Z"
   },
   {
    "duration": 29,
    "start_time": "2023-02-13T03:54:32.543Z"
   },
   {
    "duration": 65,
    "start_time": "2023-02-13T03:54:32.574Z"
   },
   {
    "duration": 49,
    "start_time": "2023-02-13T03:54:32.641Z"
   },
   {
    "duration": 54,
    "start_time": "2023-02-13T03:54:32.692Z"
   },
   {
    "duration": 7,
    "start_time": "2023-02-13T03:54:32.748Z"
   },
   {
    "duration": 214,
    "start_time": "2023-02-13T03:54:32.757Z"
   },
   {
    "duration": 30159,
    "start_time": "2023-02-13T03:54:32.973Z"
   },
   {
    "duration": 608,
    "start_time": "2023-02-13T03:55:03.133Z"
   },
   {
    "duration": 651,
    "start_time": "2023-02-13T03:55:03.744Z"
   },
   {
    "duration": 29503,
    "start_time": "2023-02-13T03:55:04.398Z"
   },
   {
    "duration": 644,
    "start_time": "2023-02-13T03:55:33.903Z"
   },
   {
    "duration": 104,
    "start_time": "2023-02-13T03:55:34.549Z"
   },
   {
    "duration": 11,
    "start_time": "2023-02-13T03:55:34.655Z"
   },
   {
    "duration": 8,
    "start_time": "2023-02-13T03:55:34.668Z"
   },
   {
    "duration": 679,
    "start_time": "2023-02-13T03:55:34.677Z"
   },
   {
    "duration": 41849,
    "start_time": "2023-02-13T03:55:35.359Z"
   },
   {
    "duration": 930,
    "start_time": "2023-02-13T03:56:17.210Z"
   },
   {
    "duration": 17,
    "start_time": "2023-02-13T03:56:18.142Z"
   },
   {
    "duration": 42,
    "start_time": "2023-02-13T03:56:18.161Z"
   },
   {
    "duration": 65,
    "start_time": "2023-02-13T03:56:18.205Z"
   },
   {
    "duration": 380,
    "start_time": "2023-02-13T03:56:18.275Z"
   },
   {
    "duration": 17096,
    "start_time": "2023-02-13T03:56:18.657Z"
   },
   {
    "duration": 1692,
    "start_time": "2023-02-13T03:56:35.758Z"
   },
   {
    "duration": 40746,
    "start_time": "2023-02-13T03:56:37.452Z"
   },
   {
    "duration": 77,
    "start_time": "2023-02-13T03:57:18.199Z"
   },
   {
    "duration": 3,
    "start_time": "2023-02-13T03:57:18.278Z"
   },
   {
    "duration": 21,
    "start_time": "2023-02-13T03:57:54.910Z"
   },
   {
    "duration": 1514,
    "start_time": "2023-02-13T03:58:15.755Z"
   },
   {
    "duration": 3,
    "start_time": "2023-02-13T03:58:17.272Z"
   },
   {
    "duration": 62,
    "start_time": "2023-02-13T03:58:17.277Z"
   },
   {
    "duration": 23,
    "start_time": "2023-02-13T03:58:17.349Z"
   },
   {
    "duration": 18,
    "start_time": "2023-02-13T03:58:17.375Z"
   },
   {
    "duration": 16,
    "start_time": "2023-02-13T03:58:17.395Z"
   },
   {
    "duration": 36,
    "start_time": "2023-02-13T03:58:17.413Z"
   },
   {
    "duration": 29,
    "start_time": "2023-02-13T03:58:17.455Z"
   },
   {
    "duration": 4,
    "start_time": "2023-02-13T03:58:17.486Z"
   },
   {
    "duration": 10,
    "start_time": "2023-02-13T03:58:17.491Z"
   },
   {
    "duration": 13,
    "start_time": "2023-02-13T03:58:17.502Z"
   },
   {
    "duration": 28,
    "start_time": "2023-02-13T03:58:17.516Z"
   },
   {
    "duration": 36,
    "start_time": "2023-02-13T03:58:17.546Z"
   },
   {
    "duration": 13,
    "start_time": "2023-02-13T03:58:17.586Z"
   },
   {
    "duration": 56,
    "start_time": "2023-02-13T03:58:17.601Z"
   },
   {
    "duration": 5,
    "start_time": "2023-02-13T03:58:17.659Z"
   },
   {
    "duration": 7,
    "start_time": "2023-02-13T03:58:17.666Z"
   },
   {
    "duration": 7,
    "start_time": "2023-02-13T03:58:17.675Z"
   },
   {
    "duration": 7,
    "start_time": "2023-02-13T03:58:17.683Z"
   },
   {
    "duration": 7,
    "start_time": "2023-02-13T03:58:17.692Z"
   },
   {
    "duration": 7,
    "start_time": "2023-02-13T03:58:17.700Z"
   },
   {
    "duration": 78,
    "start_time": "2023-02-13T03:58:17.709Z"
   },
   {
    "duration": 60,
    "start_time": "2023-02-13T03:58:17.789Z"
   },
   {
    "duration": 39,
    "start_time": "2023-02-13T03:58:17.854Z"
   },
   {
    "duration": 5,
    "start_time": "2023-02-13T03:58:17.894Z"
   },
   {
    "duration": 208,
    "start_time": "2023-02-13T03:58:17.901Z"
   },
   {
    "duration": 32203,
    "start_time": "2023-02-13T03:58:18.111Z"
   },
   {
    "duration": 144,
    "start_time": "2023-02-13T03:58:50.316Z"
   },
   {
    "duration": 706,
    "start_time": "2023-02-13T03:58:50.462Z"
   },
   {
    "duration": 31551,
    "start_time": "2023-02-13T03:58:51.170Z"
   },
   {
    "duration": 317,
    "start_time": "2023-02-13T03:59:22.723Z"
   },
   {
    "duration": 103,
    "start_time": "2023-02-13T03:59:23.050Z"
   },
   {
    "duration": 11,
    "start_time": "2023-02-13T03:59:23.155Z"
   },
   {
    "duration": 7,
    "start_time": "2023-02-13T03:59:23.168Z"
   },
   {
    "duration": 620,
    "start_time": "2023-02-13T03:59:23.177Z"
   },
   {
    "duration": 44313,
    "start_time": "2023-02-13T03:59:23.799Z"
   },
   {
    "duration": 660,
    "start_time": "2023-02-13T04:00:08.114Z"
   },
   {
    "duration": 10,
    "start_time": "2023-02-13T04:00:08.776Z"
   },
   {
    "duration": 31,
    "start_time": "2023-02-13T04:00:08.787Z"
   },
   {
    "duration": 10,
    "start_time": "2023-02-13T04:00:08.820Z"
   },
   {
    "duration": 309,
    "start_time": "2023-02-13T04:00:08.837Z"
   },
   {
    "duration": 16903,
    "start_time": "2023-02-13T04:00:09.150Z"
   },
   {
    "duration": 514,
    "start_time": "2023-02-13T04:00:26.054Z"
   },
   {
    "duration": 44617,
    "start_time": "2023-02-13T04:00:26.570Z"
   },
   {
    "duration": 114,
    "start_time": "2023-02-13T04:01:11.188Z"
   },
   {
    "duration": 3,
    "start_time": "2023-02-13T04:01:11.304Z"
   },
   {
    "duration": 108,
    "start_time": "2023-02-13T04:01:16.964Z"
   },
   {
    "duration": 116,
    "start_time": "2023-02-13T04:01:27.132Z"
   },
   {
    "duration": 161,
    "start_time": "2023-02-13T04:05:43.411Z"
   },
   {
    "duration": 11,
    "start_time": "2023-02-13T04:06:25.458Z"
   },
   {
    "duration": 5,
    "start_time": "2023-02-13T04:06:41.276Z"
   },
   {
    "duration": 143,
    "start_time": "2023-02-13T04:06:46.619Z"
   },
   {
    "duration": 16,
    "start_time": "2023-02-13T04:09:35.531Z"
   },
   {
    "duration": 4,
    "start_time": "2023-02-13T04:10:18.111Z"
   },
   {
    "duration": 21,
    "start_time": "2023-02-13T04:10:22.334Z"
   },
   {
    "duration": 14,
    "start_time": "2023-02-13T04:10:51.026Z"
   },
   {
    "duration": 176,
    "start_time": "2023-02-13T04:12:13.416Z"
   },
   {
    "duration": 289,
    "start_time": "2023-02-13T04:15:01.617Z"
   },
   {
    "duration": 289,
    "start_time": "2023-02-13T04:15:29.857Z"
   },
   {
    "duration": 7,
    "start_time": "2023-02-13T04:15:30.711Z"
   },
   {
    "duration": 113,
    "start_time": "2023-02-13T04:33:53.226Z"
   },
   {
    "duration": 109,
    "start_time": "2023-02-13T04:34:47.812Z"
   },
   {
    "duration": 282,
    "start_time": "2023-02-13T04:34:52.329Z"
   },
   {
    "duration": 1537,
    "start_time": "2023-02-13T04:35:07.973Z"
   },
   {
    "duration": 4,
    "start_time": "2023-02-13T04:35:09.512Z"
   },
   {
    "duration": 79,
    "start_time": "2023-02-13T04:35:09.517Z"
   },
   {
    "duration": 15,
    "start_time": "2023-02-13T04:35:09.598Z"
   },
   {
    "duration": 26,
    "start_time": "2023-02-13T04:35:09.615Z"
   },
   {
    "duration": 19,
    "start_time": "2023-02-13T04:35:09.643Z"
   },
   {
    "duration": 21,
    "start_time": "2023-02-13T04:35:09.663Z"
   },
   {
    "duration": 38,
    "start_time": "2023-02-13T04:35:09.686Z"
   },
   {
    "duration": 36,
    "start_time": "2023-02-13T04:35:09.726Z"
   },
   {
    "duration": 22,
    "start_time": "2023-02-13T04:35:09.764Z"
   },
   {
    "duration": 9,
    "start_time": "2023-02-13T04:35:09.789Z"
   },
   {
    "duration": 34,
    "start_time": "2023-02-13T04:35:09.800Z"
   },
   {
    "duration": 40,
    "start_time": "2023-02-13T04:35:09.836Z"
   },
   {
    "duration": 13,
    "start_time": "2023-02-13T04:35:09.879Z"
   },
   {
    "duration": 62,
    "start_time": "2023-02-13T04:35:09.894Z"
   },
   {
    "duration": 5,
    "start_time": "2023-02-13T04:35:09.958Z"
   },
   {
    "duration": 25,
    "start_time": "2023-02-13T04:35:09.965Z"
   },
   {
    "duration": 31,
    "start_time": "2023-02-13T04:35:09.992Z"
   },
   {
    "duration": 45,
    "start_time": "2023-02-13T04:35:10.025Z"
   },
   {
    "duration": 13,
    "start_time": "2023-02-13T04:35:10.072Z"
   },
   {
    "duration": 36,
    "start_time": "2023-02-13T04:35:10.087Z"
   },
   {
    "duration": 56,
    "start_time": "2023-02-13T04:35:10.125Z"
   },
   {
    "duration": 35,
    "start_time": "2023-02-13T04:35:10.183Z"
   },
   {
    "duration": 42,
    "start_time": "2023-02-13T04:35:10.219Z"
   },
   {
    "duration": 6,
    "start_time": "2023-02-13T04:35:10.263Z"
   },
   {
    "duration": 196,
    "start_time": "2023-02-13T04:35:10.271Z"
   },
   {
    "duration": 31165,
    "start_time": "2023-02-13T04:35:10.468Z"
   },
   {
    "duration": 107,
    "start_time": "2023-02-13T04:35:41.635Z"
   },
   {
    "duration": 628,
    "start_time": "2023-02-13T04:35:41.744Z"
   },
   {
    "duration": 30702,
    "start_time": "2023-02-13T04:35:42.374Z"
   },
   {
    "duration": 168,
    "start_time": "2023-02-13T04:36:13.078Z"
   },
   {
    "duration": 20,
    "start_time": "2023-02-13T04:36:13.338Z"
   },
   {
    "duration": 6,
    "start_time": "2023-02-13T04:36:13.360Z"
   },
   {
    "duration": 14,
    "start_time": "2023-02-13T04:36:13.368Z"
   },
   {
    "duration": 647,
    "start_time": "2023-02-13T04:36:13.383Z"
   },
   {
    "duration": 43373,
    "start_time": "2023-02-13T04:36:14.032Z"
   },
   {
    "duration": 456,
    "start_time": "2023-02-13T04:36:57.406Z"
   },
   {
    "duration": 10,
    "start_time": "2023-02-13T04:36:57.863Z"
   },
   {
    "duration": 6,
    "start_time": "2023-02-13T04:36:57.875Z"
   },
   {
    "duration": 7,
    "start_time": "2023-02-13T04:36:57.883Z"
   },
   {
    "duration": 306,
    "start_time": "2023-02-13T04:36:57.895Z"
   },
   {
    "duration": 16044,
    "start_time": "2023-02-13T04:36:58.203Z"
   },
   {
    "duration": 517,
    "start_time": "2023-02-13T04:37:14.249Z"
   },
   {
    "duration": 208,
    "start_time": "2023-02-13T04:37:14.768Z"
   },
   {
    "duration": 580,
    "start_time": "2023-02-13T04:37:14.978Z"
   },
   {
    "duration": 7,
    "start_time": "2023-02-13T04:37:15.560Z"
   },
   {
    "duration": 46,
    "start_time": "2023-02-13T15:03:35.757Z"
   },
   {
    "duration": 1615,
    "start_time": "2023-02-13T15:03:42.290Z"
   },
   {
    "duration": 3,
    "start_time": "2023-02-13T15:03:43.908Z"
   },
   {
    "duration": 111,
    "start_time": "2023-02-13T15:03:43.912Z"
   },
   {
    "duration": 18,
    "start_time": "2023-02-13T15:03:44.025Z"
   },
   {
    "duration": 15,
    "start_time": "2023-02-13T15:03:44.844Z"
   },
   {
    "duration": 16,
    "start_time": "2023-02-13T15:03:45.514Z"
   },
   {
    "duration": 12,
    "start_time": "2023-02-13T15:05:59.633Z"
   },
   {
    "duration": 49,
    "start_time": "2023-02-13T23:09:29.220Z"
   },
   {
    "duration": 1719,
    "start_time": "2023-02-13T23:09:36.367Z"
   },
   {
    "duration": 3,
    "start_time": "2023-02-13T23:09:38.088Z"
   },
   {
    "duration": 203,
    "start_time": "2023-02-13T23:09:38.093Z"
   },
   {
    "duration": 19,
    "start_time": "2023-02-13T23:09:38.298Z"
   },
   {
    "duration": 17,
    "start_time": "2023-02-13T23:09:38.497Z"
   },
   {
    "duration": 19,
    "start_time": "2023-02-13T23:09:43.447Z"
   },
   {
    "duration": 5,
    "start_time": "2023-02-13T23:10:01.657Z"
   },
   {
    "duration": 17,
    "start_time": "2023-02-13T23:10:22.682Z"
   },
   {
    "duration": 4,
    "start_time": "2023-02-13T23:10:28.148Z"
   },
   {
    "duration": 17,
    "start_time": "2023-02-13T23:10:40.953Z"
   },
   {
    "duration": 5,
    "start_time": "2023-02-13T23:10:41.447Z"
   },
   {
    "duration": 5,
    "start_time": "2023-02-14T00:07:31.208Z"
   },
   {
    "duration": 784,
    "start_time": "2023-02-14T00:11:54.191Z"
   },
   {
    "duration": 690,
    "start_time": "2023-02-14T00:12:09.431Z"
   },
   {
    "duration": 37,
    "start_time": "2023-02-14T00:12:31.712Z"
   },
   {
    "duration": 11,
    "start_time": "2023-02-14T00:12:52.296Z"
   },
   {
    "duration": 37,
    "start_time": "2023-02-14T00:13:05.360Z"
   },
   {
    "duration": 11,
    "start_time": "2023-02-14T00:13:05.963Z"
   },
   {
    "duration": 13,
    "start_time": "2023-02-14T00:17:55.214Z"
   },
   {
    "duration": 339,
    "start_time": "2023-02-14T00:18:13.554Z"
   },
   {
    "duration": 787,
    "start_time": "2023-02-14T00:18:28.020Z"
   },
   {
    "duration": 4,
    "start_time": "2023-02-14T00:18:45.163Z"
   },
   {
    "duration": 4,
    "start_time": "2023-02-14T00:18:45.388Z"
   },
   {
    "duration": 47,
    "start_time": "2023-02-14T00:18:46.180Z"
   },
   {
    "duration": 12,
    "start_time": "2023-02-14T00:18:46.772Z"
   },
   {
    "duration": 16,
    "start_time": "2023-02-14T00:18:47.266Z"
   },
   {
    "duration": 17,
    "start_time": "2023-02-14T00:18:49.190Z"
   },
   {
    "duration": 12,
    "start_time": "2023-02-14T00:18:51.003Z"
   },
   {
    "duration": 744,
    "start_time": "2023-02-14T00:18:53.164Z"
   },
   {
    "duration": 743,
    "start_time": "2023-02-14T00:23:58.721Z"
   },
   {
    "duration": 728,
    "start_time": "2023-02-14T00:30:14.027Z"
   },
   {
    "duration": 710,
    "start_time": "2023-02-14T00:31:11.348Z"
   },
   {
    "duration": 724,
    "start_time": "2023-02-14T00:31:33.612Z"
   },
   {
    "duration": 308,
    "start_time": "2023-02-14T00:35:25.938Z"
   },
   {
    "duration": 10,
    "start_time": "2023-02-14T00:35:26.860Z"
   },
   {
    "duration": 11,
    "start_time": "2023-02-14T00:35:28.782Z"
   },
   {
    "duration": 4,
    "start_time": "2023-02-14T00:35:34.600Z"
   },
   {
    "duration": 510,
    "start_time": "2023-02-14T00:38:40.296Z"
   },
   {
    "duration": 4,
    "start_time": "2023-02-14T00:40:07.221Z"
   },
   {
    "duration": 406,
    "start_time": "2023-02-14T00:40:08.288Z"
   },
   {
    "duration": 11,
    "start_time": "2023-02-14T00:40:21.568Z"
   },
   {
    "duration": 10,
    "start_time": "2023-02-14T00:40:47.726Z"
   },
   {
    "duration": 5,
    "start_time": "2023-02-14T00:40:51.148Z"
   },
   {
    "duration": 195,
    "start_time": "2023-02-14T00:40:51.511Z"
   },
   {
    "duration": 417,
    "start_time": "2023-02-14T00:41:12.602Z"
   },
   {
    "duration": 6,
    "start_time": "2023-02-14T00:45:27.861Z"
   },
   {
    "duration": 417,
    "start_time": "2023-02-14T00:49:39.354Z"
   },
   {
    "duration": 19,
    "start_time": "2023-02-14T00:50:08.071Z"
   },
   {
    "duration": 20,
    "start_time": "2023-02-14T00:50:16.702Z"
   },
   {
    "duration": 12,
    "start_time": "2023-02-14T00:54:44.479Z"
   },
   {
    "duration": 4,
    "start_time": "2023-02-14T00:54:45.940Z"
   },
   {
    "duration": 5,
    "start_time": "2023-02-14T00:54:46.413Z"
   },
   {
    "duration": 7,
    "start_time": "2023-02-14T00:54:48.667Z"
   },
   {
    "duration": 6,
    "start_time": "2023-02-14T00:54:49.151Z"
   },
   {
    "duration": 7,
    "start_time": "2023-02-14T00:54:50.122Z"
   },
   {
    "duration": 25,
    "start_time": "2023-02-14T00:54:50.657Z"
   },
   {
    "duration": 18,
    "start_time": "2023-02-14T00:54:55.571Z"
   },
   {
    "duration": 19,
    "start_time": "2023-02-14T00:56:01.008Z"
   },
   {
    "duration": 5,
    "start_time": "2023-02-14T00:56:11.094Z"
   },
   {
    "duration": 6,
    "start_time": "2023-02-14T00:56:12.220Z"
   },
   {
    "duration": 5,
    "start_time": "2023-02-14T00:56:12.438Z"
   },
   {
    "duration": 3,
    "start_time": "2023-02-14T00:56:12.649Z"
   },
   {
    "duration": 18,
    "start_time": "2023-02-14T00:56:13.525Z"
   },
   {
    "duration": 16,
    "start_time": "2023-02-14T00:56:50.945Z"
   },
   {
    "duration": 4,
    "start_time": "2023-02-14T00:56:51.923Z"
   },
   {
    "duration": 6,
    "start_time": "2023-02-14T00:56:52.251Z"
   },
   {
    "duration": 6,
    "start_time": "2023-02-14T00:56:52.530Z"
   },
   {
    "duration": 9,
    "start_time": "2023-02-14T00:58:48.764Z"
   },
   {
    "duration": 3,
    "start_time": "2023-02-14T00:58:52.089Z"
   },
   {
    "duration": 18,
    "start_time": "2023-02-14T00:58:52.683Z"
   },
   {
    "duration": 4,
    "start_time": "2023-02-14T00:59:32.695Z"
   },
   {
    "duration": 11,
    "start_time": "2023-02-14T00:59:58.855Z"
   },
   {
    "duration": 4,
    "start_time": "2023-02-14T01:00:33.572Z"
   },
   {
    "duration": 16,
    "start_time": "2023-02-14T01:00:47.476Z"
   },
   {
    "duration": 6,
    "start_time": "2023-02-14T01:00:47.778Z"
   },
   {
    "duration": 5,
    "start_time": "2023-02-14T01:00:48.055Z"
   },
   {
    "duration": 6,
    "start_time": "2023-02-14T01:00:48.304Z"
   },
   {
    "duration": 12,
    "start_time": "2023-02-14T01:00:48.576Z"
   },
   {
    "duration": 4,
    "start_time": "2023-02-14T01:00:49.536Z"
   },
   {
    "duration": 19,
    "start_time": "2023-02-14T01:00:50.056Z"
   },
   {
    "duration": 23,
    "start_time": "2023-02-14T01:01:03.654Z"
   },
   {
    "duration": 25,
    "start_time": "2023-02-14T01:02:10.408Z"
   },
   {
    "duration": 22,
    "start_time": "2023-02-14T01:02:11.370Z"
   },
   {
    "duration": 20,
    "start_time": "2023-02-14T01:02:11.395Z"
   },
   {
    "duration": 44,
    "start_time": "2023-02-14T01:02:11.416Z"
   },
   {
    "duration": 38,
    "start_time": "2023-02-14T01:02:15.652Z"
   },
   {
    "duration": 38,
    "start_time": "2023-02-14T01:02:16.714Z"
   },
   {
    "duration": 43,
    "start_time": "2023-02-14T01:02:18.358Z"
   },
   {
    "duration": 5,
    "start_time": "2023-02-14T01:02:55.684Z"
   },
   {
    "duration": 3,
    "start_time": "2023-02-14T01:02:55.967Z"
   },
   {
    "duration": 51,
    "start_time": "2023-02-14T01:02:56.634Z"
   },
   {
    "duration": 14,
    "start_time": "2023-02-14T01:02:56.835Z"
   },
   {
    "duration": 17,
    "start_time": "2023-02-14T01:02:57.030Z"
   },
   {
    "duration": 15,
    "start_time": "2023-02-14T01:02:57.806Z"
   },
   {
    "duration": 15,
    "start_time": "2023-02-14T01:02:58.368Z"
   },
   {
    "duration": 4,
    "start_time": "2023-02-14T01:02:58.930Z"
   },
   {
    "duration": 4,
    "start_time": "2023-02-14T01:02:59.117Z"
   },
   {
    "duration": 6,
    "start_time": "2023-02-14T01:02:59.646Z"
   },
   {
    "duration": 7,
    "start_time": "2023-02-14T01:02:59.821Z"
   },
   {
    "duration": 6,
    "start_time": "2023-02-14T01:02:59.967Z"
   },
   {
    "duration": 5,
    "start_time": "2023-02-14T01:03:00.055Z"
   },
   {
    "duration": 19,
    "start_time": "2023-02-14T01:03:00.387Z"
   },
   {
    "duration": 5,
    "start_time": "2023-02-14T01:03:00.534Z"
   },
   {
    "duration": 5,
    "start_time": "2023-02-14T01:03:00.719Z"
   },
   {
    "duration": 5,
    "start_time": "2023-02-14T01:03:00.948Z"
   },
   {
    "duration": 11,
    "start_time": "2023-02-14T01:03:01.145Z"
   },
   {
    "duration": 3,
    "start_time": "2023-02-14T01:03:01.542Z"
   },
   {
    "duration": 24,
    "start_time": "2023-02-14T01:03:01.749Z"
   },
   {
    "duration": 22,
    "start_time": "2023-02-14T01:03:01.937Z"
   },
   {
    "duration": 23,
    "start_time": "2023-02-14T01:03:03.124Z"
   },
   {
    "duration": 36,
    "start_time": "2023-02-14T01:03:03.340Z"
   },
   {
    "duration": 36,
    "start_time": "2023-02-14T01:03:03.584Z"
   },
   {
    "duration": 34,
    "start_time": "2023-02-14T01:03:03.812Z"
   },
   {
    "duration": 11,
    "start_time": "2023-02-14T01:03:22.091Z"
   },
   {
    "duration": 11,
    "start_time": "2023-02-14T01:04:17.840Z"
   },
   {
    "duration": 16,
    "start_time": "2023-02-14T01:05:37.531Z"
   },
   {
    "duration": 6,
    "start_time": "2023-02-14T01:05:39.257Z"
   },
   {
    "duration": 5,
    "start_time": "2023-02-14T01:05:39.480Z"
   },
   {
    "duration": 5,
    "start_time": "2023-02-14T01:05:39.717Z"
   },
   {
    "duration": 11,
    "start_time": "2023-02-14T01:05:40.492Z"
   },
   {
    "duration": 3,
    "start_time": "2023-02-14T01:05:41.810Z"
   },
   {
    "duration": 18,
    "start_time": "2023-02-14T01:05:42.070Z"
   },
   {
    "duration": 21,
    "start_time": "2023-02-14T01:05:42.274Z"
   },
   {
    "duration": 24,
    "start_time": "2023-02-14T01:05:42.474Z"
   },
   {
    "duration": 11,
    "start_time": "2023-02-14T01:05:43.137Z"
   },
   {
    "duration": 13,
    "start_time": "2023-02-14T01:05:43.538Z"
   },
   {
    "duration": 37,
    "start_time": "2023-02-14T01:05:48.943Z"
   },
   {
    "duration": 38,
    "start_time": "2023-02-14T01:05:54.522Z"
   },
   {
    "duration": 37,
    "start_time": "2023-02-14T01:06:09.215Z"
   },
   {
    "duration": 41,
    "start_time": "2023-02-14T01:06:45.813Z"
   },
   {
    "duration": 46,
    "start_time": "2023-02-14T01:06:59.302Z"
   },
   {
    "duration": 44,
    "start_time": "2023-02-14T01:07:14.249Z"
   },
   {
    "duration": 40,
    "start_time": "2023-02-14T01:08:38.923Z"
   },
   {
    "duration": 40,
    "start_time": "2023-02-14T01:08:40.828Z"
   },
   {
    "duration": 39,
    "start_time": "2023-02-14T01:08:54.130Z"
   },
   {
    "duration": 4,
    "start_time": "2023-02-14T01:08:59.154Z"
   },
   {
    "duration": 3,
    "start_time": "2023-02-14T01:08:59.429Z"
   },
   {
    "duration": 48,
    "start_time": "2023-02-14T01:08:59.937Z"
   },
   {
    "duration": 12,
    "start_time": "2023-02-14T01:09:00.100Z"
   },
   {
    "duration": 16,
    "start_time": "2023-02-14T01:09:00.234Z"
   },
   {
    "duration": 15,
    "start_time": "2023-02-14T01:09:00.794Z"
   },
   {
    "duration": 12,
    "start_time": "2023-02-14T01:09:01.578Z"
   },
   {
    "duration": 6,
    "start_time": "2023-02-14T01:09:04.633Z"
   },
   {
    "duration": 6,
    "start_time": "2023-02-14T01:09:05.159Z"
   },
   {
    "duration": 5,
    "start_time": "2023-02-14T01:09:05.701Z"
   },
   {
    "duration": 4,
    "start_time": "2023-02-14T01:09:06.690Z"
   },
   {
    "duration": 31,
    "start_time": "2023-02-14T01:09:07.763Z"
   },
   {
    "duration": 30,
    "start_time": "2023-02-14T01:09:10.161Z"
   },
   {
    "duration": 33,
    "start_time": "2023-02-14T01:09:10.873Z"
   },
   {
    "duration": 19,
    "start_time": "2023-02-14T01:10:34.777Z"
   },
   {
    "duration": 11,
    "start_time": "2023-02-14T01:10:35.304Z"
   },
   {
    "duration": 10,
    "start_time": "2023-02-14T01:11:08.426Z"
   },
   {
    "duration": 12,
    "start_time": "2023-02-14T01:11:09.711Z"
   },
   {
    "duration": 3,
    "start_time": "2023-02-14T01:11:23.042Z"
   },
   {
    "duration": 20,
    "start_time": "2023-02-14T01:11:23.472Z"
   },
   {
    "duration": 16,
    "start_time": "2023-02-14T01:11:24.413Z"
   },
   {
    "duration": 18,
    "start_time": "2023-02-14T01:11:25.071Z"
   },
   {
    "duration": 37,
    "start_time": "2023-02-14T01:11:26.352Z"
   },
   {
    "duration": 36,
    "start_time": "2023-02-14T01:11:26.944Z"
   },
   {
    "duration": 36,
    "start_time": "2023-02-14T01:11:27.759Z"
   },
   {
    "duration": 5,
    "start_time": "2023-02-14T01:12:07.000Z"
   },
   {
    "duration": 5,
    "start_time": "2023-02-14T01:12:07.377Z"
   },
   {
    "duration": 4,
    "start_time": "2023-02-14T01:12:07.722Z"
   },
   {
    "duration": 1451,
    "start_time": "2023-02-14T01:12:27.623Z"
   },
   {
    "duration": 3,
    "start_time": "2023-02-14T01:12:29.076Z"
   },
   {
    "duration": 68,
    "start_time": "2023-02-14T01:12:29.080Z"
   },
   {
    "duration": 15,
    "start_time": "2023-02-14T01:12:29.150Z"
   },
   {
    "duration": 16,
    "start_time": "2023-02-14T01:12:29.167Z"
   },
   {
    "duration": 48,
    "start_time": "2023-02-14T01:12:29.184Z"
   },
   {
    "duration": 11,
    "start_time": "2023-02-14T01:12:29.234Z"
   },
   {
    "duration": 18,
    "start_time": "2023-02-14T01:12:29.247Z"
   },
   {
    "duration": 24,
    "start_time": "2023-02-14T01:12:29.266Z"
   },
   {
    "duration": 31,
    "start_time": "2023-02-14T01:12:29.292Z"
   },
   {
    "duration": 32,
    "start_time": "2023-02-14T01:12:29.324Z"
   },
   {
    "duration": 65,
    "start_time": "2023-02-14T01:12:29.358Z"
   },
   {
    "duration": 29,
    "start_time": "2023-02-14T01:12:29.425Z"
   },
   {
    "duration": 34,
    "start_time": "2023-02-14T01:12:29.457Z"
   },
   {
    "duration": 20,
    "start_time": "2023-02-14T01:12:29.493Z"
   },
   {
    "duration": 13,
    "start_time": "2023-02-14T01:12:29.514Z"
   },
   {
    "duration": 27,
    "start_time": "2023-02-14T01:12:29.528Z"
   },
   {
    "duration": 18,
    "start_time": "2023-02-14T01:12:29.557Z"
   },
   {
    "duration": 38,
    "start_time": "2023-02-14T01:12:29.577Z"
   },
   {
    "duration": 39,
    "start_time": "2023-02-14T01:12:29.617Z"
   },
   {
    "duration": 18,
    "start_time": "2023-02-14T01:12:29.657Z"
   },
   {
    "duration": 57,
    "start_time": "2023-02-14T01:12:29.677Z"
   },
   {
    "duration": 48,
    "start_time": "2023-02-14T01:12:29.735Z"
   },
   {
    "duration": 34,
    "start_time": "2023-02-14T01:12:29.784Z"
   },
   {
    "duration": 49,
    "start_time": "2023-02-14T01:12:29.820Z"
   },
   {
    "duration": 4,
    "start_time": "2023-02-14T01:12:29.870Z"
   },
   {
    "duration": 17,
    "start_time": "2023-02-14T01:12:29.876Z"
   },
   {
    "duration": 23,
    "start_time": "2023-02-14T01:12:29.895Z"
   },
   {
    "duration": 29,
    "start_time": "2023-02-14T01:12:29.919Z"
   },
   {
    "duration": 184,
    "start_time": "2023-02-14T01:12:29.950Z"
   },
   {
    "duration": 29709,
    "start_time": "2023-02-14T01:12:30.136Z"
   },
   {
    "duration": 95,
    "start_time": "2023-02-14T01:12:59.846Z"
   },
   {
    "duration": 585,
    "start_time": "2023-02-14T01:12:59.943Z"
   },
   {
    "duration": 28947,
    "start_time": "2023-02-14T01:13:00.530Z"
   },
   {
    "duration": 159,
    "start_time": "2023-02-14T01:13:29.479Z"
   },
   {
    "duration": 132,
    "start_time": "2023-02-14T01:13:29.640Z"
   },
   {
    "duration": 5,
    "start_time": "2023-02-14T01:13:29.774Z"
   },
   {
    "duration": 8,
    "start_time": "2023-02-14T01:13:29.780Z"
   },
   {
    "duration": 573,
    "start_time": "2023-02-14T01:13:29.789Z"
   },
   {
    "duration": 40580,
    "start_time": "2023-02-14T01:13:30.364Z"
   },
   {
    "duration": 514,
    "start_time": "2023-02-14T01:14:10.948Z"
   },
   {
    "duration": 11,
    "start_time": "2023-02-14T01:14:11.464Z"
   },
   {
    "duration": 6,
    "start_time": "2023-02-14T01:14:11.477Z"
   },
   {
    "duration": 9,
    "start_time": "2023-02-14T01:14:11.485Z"
   },
   {
    "duration": 294,
    "start_time": "2023-02-14T01:14:11.496Z"
   },
   {
    "duration": 15526,
    "start_time": "2023-02-14T01:14:11.792Z"
   },
   {
    "duration": 402,
    "start_time": "2023-02-14T01:14:27.320Z"
   },
   {
    "duration": 49,
    "start_time": "2023-02-14T01:14:27.736Z"
   },
   {
    "duration": 271,
    "start_time": "2023-02-14T01:14:27.787Z"
   },
   {
    "duration": 6,
    "start_time": "2023-02-14T01:14:28.060Z"
   },
   {
    "duration": 12,
    "start_time": "2023-02-14T01:17:20.513Z"
   },
   {
    "duration": 11,
    "start_time": "2023-02-14T01:17:28.651Z"
   },
   {
    "duration": 10,
    "start_time": "2023-02-14T01:17:35.861Z"
   },
   {
    "duration": 5,
    "start_time": "2023-02-14T02:08:12.205Z"
   },
   {
    "duration": 15,
    "start_time": "2023-02-14T02:08:13.432Z"
   },
   {
    "duration": 12,
    "start_time": "2023-02-14T02:08:26.984Z"
   },
   {
    "duration": 6,
    "start_time": "2023-02-14T03:11:22.901Z"
   },
   {
    "duration": 81,
    "start_time": "2023-02-14T03:14:02.252Z"
   },
   {
    "duration": 84,
    "start_time": "2023-02-14T03:14:11.285Z"
   },
   {
    "duration": 70,
    "start_time": "2023-02-14T03:14:33.911Z"
   },
   {
    "duration": 94,
    "start_time": "2023-02-14T03:15:01.028Z"
   },
   {
    "duration": 102,
    "start_time": "2023-02-14T03:15:13.137Z"
   },
   {
    "duration": 96,
    "start_time": "2023-02-14T03:15:21.526Z"
   },
   {
    "duration": 191,
    "start_time": "2023-02-14T03:15:31.273Z"
   },
   {
    "duration": 181,
    "start_time": "2023-02-14T03:16:21.165Z"
   },
   {
    "duration": 176,
    "start_time": "2023-02-14T03:16:27.702Z"
   },
   {
    "duration": 195,
    "start_time": "2023-02-14T03:16:37.765Z"
   },
   {
    "duration": 194,
    "start_time": "2023-02-14T03:17:28.576Z"
   },
   {
    "duration": 32442,
    "start_time": "2023-02-14T03:18:44.053Z"
   },
   {
    "duration": 32890,
    "start_time": "2023-02-14T03:19:23.121Z"
   },
   {
    "duration": 595,
    "start_time": "2023-02-14T03:20:51.954Z"
   },
   {
    "duration": 456,
    "start_time": "2023-02-14T03:21:26.779Z"
   },
   {
    "duration": 33071,
    "start_time": "2023-02-14T03:22:16.924Z"
   },
   {
    "duration": 598,
    "start_time": "2023-02-14T03:23:45.134Z"
   },
   {
    "duration": 33765,
    "start_time": "2023-02-14T03:25:08.084Z"
   },
   {
    "duration": 32555,
    "start_time": "2023-02-14T03:25:56.783Z"
   },
   {
    "duration": 551,
    "start_time": "2023-02-14T03:27:25.678Z"
   },
   {
    "duration": 400,
    "start_time": "2023-02-14T03:27:37.638Z"
   },
   {
    "duration": 650,
    "start_time": "2023-02-14T03:29:26.397Z"
   },
   {
    "duration": 43824,
    "start_time": "2023-02-14T03:30:13.999Z"
   },
   {
    "duration": 2798,
    "start_time": "2023-02-14T03:31:30.709Z"
   },
   {
    "duration": 338,
    "start_time": "2023-02-14T03:33:05.337Z"
   },
   {
    "duration": 17578,
    "start_time": "2023-02-14T03:33:49.375Z"
   },
   {
    "duration": 2400,
    "start_time": "2023-02-14T03:34:47.261Z"
   },
   {
    "duration": 2389,
    "start_time": "2023-02-14T03:36:27.951Z"
   },
   {
    "duration": 17827,
    "start_time": "2023-02-14T03:36:44.408Z"
   },
   {
    "duration": 326,
    "start_time": "2023-02-14T03:37:02.868Z"
   },
   {
    "duration": 329,
    "start_time": "2023-02-14T03:37:48.634Z"
   },
   {
    "duration": 42583,
    "start_time": "2023-02-14T03:37:58.160Z"
   },
   {
    "duration": 651,
    "start_time": "2023-02-14T03:38:40.745Z"
   },
   {
    "duration": 191,
    "start_time": "2023-02-14T03:38:43.747Z"
   },
   {
    "duration": 547,
    "start_time": "2023-02-14T03:39:32.767Z"
   },
   {
    "duration": 31865,
    "start_time": "2023-02-14T03:39:33.316Z"
   },
   {
    "duration": 2668,
    "start_time": "2023-02-14T03:40:05.183Z"
   },
   {
    "duration": 401,
    "start_time": "2023-02-14T03:40:46.538Z"
   },
   {
    "duration": 31705,
    "start_time": "2023-02-14T03:41:02.170Z"
   },
   {
    "duration": 195,
    "start_time": "2023-02-14T03:41:33.877Z"
   },
   {
    "duration": 1373,
    "start_time": "2023-02-14T04:13:05.265Z"
   },
   {
    "duration": 3,
    "start_time": "2023-02-14T04:13:06.640Z"
   },
   {
    "duration": 62,
    "start_time": "2023-02-14T04:13:06.645Z"
   },
   {
    "duration": 16,
    "start_time": "2023-02-14T04:13:06.709Z"
   },
   {
    "duration": 15,
    "start_time": "2023-02-14T04:13:06.727Z"
   },
   {
    "duration": 15,
    "start_time": "2023-02-14T04:13:06.744Z"
   },
   {
    "duration": 5,
    "start_time": "2023-02-14T04:13:06.760Z"
   },
   {
    "duration": 13,
    "start_time": "2023-02-14T04:13:06.767Z"
   },
   {
    "duration": 9,
    "start_time": "2023-02-14T04:13:06.781Z"
   },
   {
    "duration": 6,
    "start_time": "2023-02-14T04:13:06.791Z"
   },
   {
    "duration": 5,
    "start_time": "2023-02-14T04:13:06.799Z"
   },
   {
    "duration": 56,
    "start_time": "2023-02-14T04:13:06.806Z"
   },
   {
    "duration": 29,
    "start_time": "2023-02-14T04:13:06.864Z"
   },
   {
    "duration": 53,
    "start_time": "2023-02-14T04:13:06.897Z"
   },
   {
    "duration": 23,
    "start_time": "2023-02-14T04:13:06.952Z"
   },
   {
    "duration": 12,
    "start_time": "2023-02-14T04:13:06.977Z"
   },
   {
    "duration": 16,
    "start_time": "2023-02-14T04:13:06.991Z"
   },
   {
    "duration": 37,
    "start_time": "2023-02-14T04:13:07.009Z"
   },
   {
    "duration": 6,
    "start_time": "2023-02-14T04:13:07.048Z"
   },
   {
    "duration": 26,
    "start_time": "2023-02-14T04:13:07.055Z"
   },
   {
    "duration": 15,
    "start_time": "2023-02-14T04:13:07.083Z"
   },
   {
    "duration": 14,
    "start_time": "2023-02-14T04:13:07.100Z"
   },
   {
    "duration": 64,
    "start_time": "2023-02-14T04:13:07.116Z"
   },
   {
    "duration": 56,
    "start_time": "2023-02-14T04:13:07.181Z"
   },
   {
    "duration": 41,
    "start_time": "2023-02-14T04:13:07.239Z"
   },
   {
    "duration": 4,
    "start_time": "2023-02-14T04:13:07.282Z"
   },
   {
    "duration": 10,
    "start_time": "2023-02-14T04:13:07.288Z"
   },
   {
    "duration": 18,
    "start_time": "2023-02-14T04:13:07.300Z"
   },
   {
    "duration": 20,
    "start_time": "2023-02-14T04:13:07.328Z"
   },
   {
    "duration": 210,
    "start_time": "2023-02-14T04:13:07.351Z"
   },
   {
    "duration": 31932,
    "start_time": "2023-02-14T04:13:07.563Z"
   },
   {
    "duration": 367,
    "start_time": "2023-02-14T04:13:39.497Z"
   },
   {
    "duration": 728,
    "start_time": "2023-02-14T04:13:39.866Z"
   },
   {
    "duration": 31452,
    "start_time": "2023-02-14T04:13:40.596Z"
   },
   {
    "duration": 385,
    "start_time": "2023-02-14T04:14:12.050Z"
   },
   {
    "duration": 105,
    "start_time": "2023-02-14T04:14:12.438Z"
   },
   {
    "duration": 5,
    "start_time": "2023-02-14T04:14:12.545Z"
   },
   {
    "duration": 6,
    "start_time": "2023-02-14T04:14:12.551Z"
   },
   {
    "duration": 635,
    "start_time": "2023-02-14T04:14:12.559Z"
   },
   {
    "duration": 43094,
    "start_time": "2023-02-14T04:14:13.195Z"
   },
   {
    "duration": 2774,
    "start_time": "2023-02-14T04:14:56.293Z"
   },
   {
    "duration": 13,
    "start_time": "2023-02-14T04:14:59.069Z"
   },
   {
    "duration": 5,
    "start_time": "2023-02-14T04:14:59.083Z"
   },
   {
    "duration": 7,
    "start_time": "2023-02-14T04:14:59.090Z"
   },
   {
    "duration": 362,
    "start_time": "2023-02-14T04:14:59.099Z"
   },
   {
    "duration": 17750,
    "start_time": "2023-02-14T04:14:59.463Z"
   },
   {
    "duration": 2385,
    "start_time": "2023-02-14T04:15:17.214Z"
   },
   {
    "duration": 60,
    "start_time": "2023-02-14T04:15:19.601Z"
   },
   {
    "duration": 258,
    "start_time": "2023-02-14T04:15:19.663Z"
   },
   {
    "duration": 114,
    "start_time": "2023-02-14T04:15:19.922Z"
   },
   {
    "duration": 7,
    "start_time": "2023-02-14T04:15:57.183Z"
   },
   {
    "duration": 48,
    "start_time": "2023-02-14T04:16:26.744Z"
   },
   {
    "duration": 50,
    "start_time": "2023-02-14T04:16:33.817Z"
   },
   {
    "duration": 56,
    "start_time": "2023-02-15T22:28:41.348Z"
   },
   {
    "duration": 1754,
    "start_time": "2023-02-15T22:29:26.953Z"
   },
   {
    "duration": 3,
    "start_time": "2023-02-15T22:29:28.709Z"
   },
   {
    "duration": 113,
    "start_time": "2023-02-15T22:29:28.713Z"
   },
   {
    "duration": 26,
    "start_time": "2023-02-15T22:29:28.829Z"
   },
   {
    "duration": 18,
    "start_time": "2023-02-15T22:29:29.400Z"
   },
   {
    "duration": 17,
    "start_time": "2023-02-15T22:29:31.812Z"
   },
   {
    "duration": 7,
    "start_time": "2023-02-15T22:29:33.905Z"
   },
   {
    "duration": 12,
    "start_time": "2023-02-15T22:29:35.562Z"
   },
   {
    "duration": 11,
    "start_time": "2023-02-15T22:29:39.806Z"
   },
   {
    "duration": 104,
    "start_time": "2023-02-15T22:29:40.450Z"
   },
   {
    "duration": 13,
    "start_time": "2023-02-15T22:29:47.597Z"
   },
   {
    "duration": 7,
    "start_time": "2023-02-15T22:30:01.365Z"
   },
   {
    "duration": 6,
    "start_time": "2023-02-15T22:30:01.708Z"
   },
   {
    "duration": 4,
    "start_time": "2023-02-15T22:30:02.354Z"
   },
   {
    "duration": 39,
    "start_time": "2023-02-15T22:30:02.856Z"
   },
   {
    "duration": 40,
    "start_time": "2023-02-15T22:30:03.397Z"
   },
   {
    "duration": 39,
    "start_time": "2023-02-15T22:30:05.698Z"
   },
   {
    "duration": 10,
    "start_time": "2023-02-15T22:31:05.937Z"
   },
   {
    "duration": 23,
    "start_time": "2023-02-15T22:31:06.258Z"
   },
   {
    "duration": 13,
    "start_time": "2023-02-15T22:31:10.477Z"
   },
   {
    "duration": 18,
    "start_time": "2023-02-15T22:31:11.231Z"
   },
   {
    "duration": 43,
    "start_time": "2023-02-15T22:31:13.788Z"
   },
   {
    "duration": 40,
    "start_time": "2023-02-15T22:31:15.159Z"
   },
   {
    "duration": 47,
    "start_time": "2023-02-15T22:31:16.031Z"
   },
   {
    "duration": 1498,
    "start_time": "2023-02-15T22:31:48.278Z"
   },
   {
    "duration": 4,
    "start_time": "2023-02-15T22:31:49.779Z"
   },
   {
    "duration": 54,
    "start_time": "2023-02-15T22:31:49.784Z"
   },
   {
    "duration": 20,
    "start_time": "2023-02-15T22:31:49.840Z"
   },
   {
    "duration": 22,
    "start_time": "2023-02-15T22:31:49.864Z"
   },
   {
    "duration": 23,
    "start_time": "2023-02-15T22:31:49.888Z"
   },
   {
    "duration": 30,
    "start_time": "2023-02-15T22:31:49.912Z"
   },
   {
    "duration": 14,
    "start_time": "2023-02-15T22:31:49.947Z"
   },
   {
    "duration": 29,
    "start_time": "2023-02-15T22:31:49.963Z"
   },
   {
    "duration": 12,
    "start_time": "2023-02-15T22:31:49.994Z"
   },
   {
    "duration": 13,
    "start_time": "2023-02-15T22:31:50.008Z"
   },
   {
    "duration": 8,
    "start_time": "2023-02-15T22:31:50.022Z"
   },
   {
    "duration": 12,
    "start_time": "2023-02-15T22:31:50.031Z"
   },
   {
    "duration": 54,
    "start_time": "2023-02-15T22:31:50.054Z"
   },
   {
    "duration": 51,
    "start_time": "2023-02-15T22:31:50.110Z"
   },
   {
    "duration": 37,
    "start_time": "2023-02-15T22:31:50.162Z"
   },
   {
    "duration": 3,
    "start_time": "2023-02-15T22:31:50.201Z"
   },
   {
    "duration": 56,
    "start_time": "2023-02-15T22:31:50.206Z"
   },
   {
    "duration": 15,
    "start_time": "2023-02-15T22:31:50.264Z"
   },
   {
    "duration": 19,
    "start_time": "2023-02-15T22:31:50.281Z"
   },
   {
    "duration": 71,
    "start_time": "2023-02-15T22:31:50.302Z"
   },
   {
    "duration": 37,
    "start_time": "2023-02-15T22:31:50.375Z"
   },
   {
    "duration": 58,
    "start_time": "2023-02-15T22:31:50.414Z"
   },
   {
    "duration": 5,
    "start_time": "2023-02-15T22:31:50.473Z"
   },
   {
    "duration": 29,
    "start_time": "2023-02-15T22:31:50.479Z"
   },
   {
    "duration": 8,
    "start_time": "2023-02-15T22:31:50.509Z"
   },
   {
    "duration": 15,
    "start_time": "2023-02-15T22:31:50.518Z"
   },
   {
    "duration": 236,
    "start_time": "2023-02-15T22:31:50.535Z"
   },
   {
    "duration": 35730,
    "start_time": "2023-02-15T22:31:50.772Z"
   },
   {
    "duration": 652,
    "start_time": "2023-02-15T22:32:26.504Z"
   },
   {
    "duration": 706,
    "start_time": "2023-02-15T22:32:27.159Z"
   },
   {
    "duration": 35646,
    "start_time": "2023-02-15T22:32:27.868Z"
   },
   {
    "duration": 823,
    "start_time": "2023-02-15T22:33:03.516Z"
   },
   {
    "duration": 28,
    "start_time": "2023-02-15T22:33:04.344Z"
   },
   {
    "duration": 6,
    "start_time": "2023-02-15T22:33:04.373Z"
   },
   {
    "duration": 12,
    "start_time": "2023-02-15T22:33:04.381Z"
   },
   {
    "duration": 719,
    "start_time": "2023-02-15T22:33:04.395Z"
   },
   {
    "duration": 49308,
    "start_time": "2023-02-15T22:33:05.116Z"
   },
   {
    "duration": 2959,
    "start_time": "2023-02-15T22:33:54.426Z"
   },
   {
    "duration": 11,
    "start_time": "2023-02-15T22:33:57.386Z"
   },
   {
    "duration": 5,
    "start_time": "2023-02-15T22:33:57.402Z"
   },
   {
    "duration": 10,
    "start_time": "2023-02-15T22:33:57.408Z"
   },
   {
    "duration": 397,
    "start_time": "2023-02-15T22:33:57.420Z"
   },
   {
    "duration": 19408,
    "start_time": "2023-02-15T22:33:57.819Z"
   },
   {
    "duration": 2820,
    "start_time": "2023-02-15T22:34:17.228Z"
   },
   {
    "duration": 65,
    "start_time": "2023-02-15T22:34:20.053Z"
   },
   {
    "duration": 293,
    "start_time": "2023-02-15T22:34:20.120Z"
   },
   {
    "duration": 7,
    "start_time": "2023-02-15T22:34:20.414Z"
   },
   {
    "duration": 1768,
    "start_time": "2023-02-20T07:09:17.618Z"
   },
   {
    "duration": 4,
    "start_time": "2023-02-20T07:09:19.388Z"
   },
   {
    "duration": 214,
    "start_time": "2023-02-20T07:09:19.394Z"
   },
   {
    "duration": 16,
    "start_time": "2023-02-20T07:09:19.610Z"
   },
   {
    "duration": 37,
    "start_time": "2023-02-20T07:09:19.629Z"
   },
   {
    "duration": 60,
    "start_time": "2023-02-20T07:09:19.668Z"
   },
   {
    "duration": 6,
    "start_time": "2023-02-20T07:09:19.731Z"
   },
   {
    "duration": 42,
    "start_time": "2023-02-20T07:09:19.739Z"
   },
   {
    "duration": 19,
    "start_time": "2023-02-20T07:09:19.787Z"
   },
   {
    "duration": 29,
    "start_time": "2023-02-20T07:09:19.808Z"
   },
   {
    "duration": 15,
    "start_time": "2023-02-20T07:09:19.839Z"
   },
   {
    "duration": 31,
    "start_time": "2023-02-20T07:09:19.856Z"
   },
   {
    "duration": 15,
    "start_time": "2023-02-20T07:09:19.892Z"
   },
   {
    "duration": 61,
    "start_time": "2023-02-20T07:09:19.910Z"
   },
   {
    "duration": 45,
    "start_time": "2023-02-20T07:09:19.973Z"
   },
   {
    "duration": 71,
    "start_time": "2023-02-20T07:09:20.020Z"
   },
   {
    "duration": 4,
    "start_time": "2023-02-20T07:09:20.093Z"
   },
   {
    "duration": 56,
    "start_time": "2023-02-20T07:09:20.099Z"
   },
   {
    "duration": 17,
    "start_time": "2023-02-20T07:09:20.156Z"
   },
   {
    "duration": 27,
    "start_time": "2023-02-20T07:09:20.197Z"
   },
   {
    "duration": 68,
    "start_time": "2023-02-20T07:09:20.226Z"
   },
   {
    "duration": 38,
    "start_time": "2023-02-20T07:09:20.296Z"
   },
   {
    "duration": 62,
    "start_time": "2023-02-20T07:09:20.336Z"
   },
   {
    "duration": 4,
    "start_time": "2023-02-20T07:09:20.400Z"
   },
   {
    "duration": 48,
    "start_time": "2023-02-20T07:09:20.406Z"
   },
   {
    "duration": 37,
    "start_time": "2023-02-20T07:09:20.456Z"
   },
   {
    "duration": 18,
    "start_time": "2023-02-20T07:09:20.495Z"
   },
   {
    "duration": 248,
    "start_time": "2023-02-20T07:09:20.515Z"
   },
   {
    "duration": 38997,
    "start_time": "2023-02-20T07:09:20.768Z"
   },
   {
    "duration": 308,
    "start_time": "2023-02-20T07:09:59.767Z"
   },
   {
    "duration": 888,
    "start_time": "2023-02-20T07:10:00.078Z"
   },
   {
    "duration": 39064,
    "start_time": "2023-02-20T07:10:00.972Z"
   },
   {
    "duration": 472,
    "start_time": "2023-02-20T07:10:40.038Z"
   },
   {
    "duration": 157,
    "start_time": "2023-02-20T07:10:40.512Z"
   },
   {
    "duration": 48,
    "start_time": "2023-02-20T07:10:40.671Z"
   },
   {
    "duration": 24,
    "start_time": "2023-02-20T07:10:40.721Z"
   },
   {
    "duration": 724,
    "start_time": "2023-02-20T07:10:40.747Z"
   },
   {
    "duration": 51097,
    "start_time": "2023-02-20T07:10:41.473Z"
   },
   {
    "duration": 3120,
    "start_time": "2023-02-20T07:11:32.573Z"
   },
   {
    "duration": 15,
    "start_time": "2023-02-20T07:11:35.696Z"
   },
   {
    "duration": 7,
    "start_time": "2023-02-20T07:11:35.716Z"
   },
   {
    "duration": 12,
    "start_time": "2023-02-20T07:11:35.725Z"
   },
   {
    "duration": 427,
    "start_time": "2023-02-20T07:11:35.740Z"
   },
   {
    "duration": 20598,
    "start_time": "2023-02-20T07:11:36.169Z"
   },
   {
    "duration": 2705,
    "start_time": "2023-02-20T07:11:56.777Z"
   },
   {
    "duration": 64,
    "start_time": "2023-02-20T07:11:59.485Z"
   },
   {
    "duration": 324,
    "start_time": "2023-02-20T07:11:59.551Z"
   },
   {
    "duration": 8,
    "start_time": "2023-02-20T07:11:59.877Z"
   }
  ],
  "kernelspec": {
   "display_name": "Python 3 (ipykernel)",
   "language": "python",
   "name": "python3"
  },
  "language_info": {
   "codemirror_mode": {
    "name": "ipython",
    "version": 3
   },
   "file_extension": ".py",
   "mimetype": "text/x-python",
   "name": "python",
   "nbconvert_exporter": "python",
   "pygments_lexer": "ipython3",
   "version": "3.9.12"
  },
  "toc": {
   "base_numbering": 1,
   "nav_menu": {},
   "number_sections": true,
   "sideBar": true,
   "skip_h1_title": true,
   "title_cell": "Содержание",
   "title_sidebar": "Contents",
   "toc_cell": true,
   "toc_position": {
    "height": "calc(100% - 180px)",
    "left": "10px",
    "top": "150px",
    "width": "280px"
   },
   "toc_section_display": true,
   "toc_window_display": true
  }
 },
 "nbformat": 4,
 "nbformat_minor": 2
}
